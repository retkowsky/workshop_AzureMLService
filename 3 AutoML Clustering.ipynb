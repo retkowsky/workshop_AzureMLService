{
  "cells": [
    {
      "metadata": {},
      "cell_type": "markdown",
      "source": "# 3. AutoML: Classification des données\n\n\n<BR>\n    \nIn this example we use the scikit-learn's [digit dataset](http://scikit-learn.org/stable/datasets/index.html#optical-recognition-of-handwritten-digits-dataset) to showcase how you can use AutoML for a simple classification problem.\n\nMake sure you have executed the [00.configuration](00.configuration.ipynb) before running this notebook.\n\nIn this notebook you will learn how to:\n- Create an `Experiment` in an existing `Workspace`.\n- Configure AutoML using `AutoMLConfig`.\n- Train the model using local compute.\n- Explore the results.\n- Test the best fitted model.\n"
    },
    {
      "metadata": {},
      "cell_type": "markdown",
      "source": "## 1. Informations\n\nAs part of the setup you have already created an Azure ML `Workspace` object. For AutoML you will need to create an `Experiment` object, which is a named object in a `Workspace` used to run experiments."
    },
    {
      "metadata": {
        "trusted": true
      },
      "cell_type": "code",
      "source": "#!pip install azureml-sdk",
      "execution_count": 1,
      "outputs": []
    },
    {
      "metadata": {
        "trusted": true
      },
      "cell_type": "code",
      "source": "import azureml.core\nprint(\"Version Azure ML Service :\", azureml.core.VERSION)",
      "execution_count": 2,
      "outputs": [
        {
          "output_type": "stream",
          "text": "Version Azure ML Service : 0.1.74\n",
          "name": "stdout"
        }
      ]
    },
    {
      "metadata": {
        "trusted": true
      },
      "cell_type": "code",
      "source": "!pip list",
      "execution_count": 3,
      "outputs": [
        {
          "output_type": "stream",
          "text": "Package                              Version  \r\n------------------------------------ ---------\r\nabsl-py                              0.6.1    \r\nadal                                 1.2.0    \r\nalabaster                            0.7.11   \r\naltair                               2.2.2    \r\nanaconda-client                      1.7.2    \r\nanaconda-navigator                   1.9.2    \r\nanaconda-project                     0.8.2    \r\nantlr4-python3-runtime               4.7.1    \r\nappdirs                              1.4.3    \r\napplicationinsights                  0.11.7   \r\nargcomplete                          1.9.4    \r\narrow                                0.12.1   \r\nasn1crypto                           0.24.0   \r\nastor                                0.7.1    \r\nastroid                              2.0.4    \r\nastropy                              3.0.4    \r\natomicwrites                         1.2.1    \r\nattrs                                18.2.0   \r\nAutomat                              0.7.0    \r\nazure-cli-command-modules-nspkg      2.0.2    \r\nazure-cli-core                       2.0.50   \r\nazure-cli-nspkg                      3.0.3    \r\nazure-cli-profile                    2.1.2    \r\nazure-cli-telemetry                  1.0.0    \r\nazure-common                         1.1.16   \r\nazure-graphrbac                      0.52.0   \r\nazure-kusto-data                     0.0.11   \r\nazure-kusto-ingest                   0.0.11   \r\nazure-mgmt-authorization             0.50.0   \r\nazure-mgmt-containerregistry         2.4.0    \r\nazure-mgmt-keyvault                  1.1.0    \r\nazure-mgmt-nspkg                     3.0.2    \r\nazure-mgmt-resource                  2.0.0    \r\nazure-mgmt-storage                   3.0.0    \r\nazure-nspkg                          3.0.2    \r\nazure-storage-blob                   1.4.0    \r\nazure-storage-common                 1.4.0    \r\nazure-storage-nspkg                  3.1.0    \r\nazure-storage-queue                  1.4.0    \r\nazureml                              0.2.7    \r\nazureml-core                         0.1.74   \r\nazureml-dataprep                     0.3.0    \r\nazureml-dataprep-native              10.4.0   \r\nazureml-pipeline                     0.1.74   \r\nazureml-pipeline-core                0.1.74   \r\nazureml-pipeline-steps               0.1.74   \r\nazureml-sdk                          0.1.74   \r\nazureml-telemetry                    0.1.74   \r\nazureml-train                        0.1.74   \r\nazureml-train-automl                 0.1.74   \r\nazureml-train-core                   0.1.74   \r\nazureml-train-restclients-hyperdrive 0.1.74   \r\nazureml-train-widgets                0.1.74   \r\nBabel                                2.6.0    \r\nbackcall                             0.1.0    \r\nbackports.shutil-get-terminal-size   1.0.0    \r\nbackports.tempfile                   1.0      \r\nbackports.weakref                    1.0rc1   \r\nbcrypt                               3.1.4    \r\nbeautifier                           0.5.5    \r\nbeautifulsoup4                       4.6.3    \r\nbitarray                             0.8.3    \r\nbkcharts                             0.2      \r\nblaze                                0.11.3   \r\nbleach                               1.5.0    \r\nbokeh                                0.13.0   \r\nboto                                 2.49.0   \r\nboto3                                1.4.8    \r\nbotocore                             1.8.50   \r\nBottleneck                           1.2.1    \r\nbqplot                               0.11.2   \r\nbrewer2mpl                           1.4.1    \r\nbz2file                              0.98     \r\nCacheControl                         0.12.5   \r\ncertifi                              2018.8.24\r\ncffi                                 1.11.5   \r\nchardet                              3.0.4    \r\nClick                                7.0      \r\ncloudpickle                          0.5.6    \r\nclyent                               1.2.2    \r\ncntk                                 2.5.1    \r\ncolorama                             0.3.9    \r\nconda                                4.5.11   \r\nconda-build                          3.16.0   \r\nconstantly                           15.1.0   \r\ncontextlib2                          0.5.5    \r\ncryptography                         2.3.1    \r\ncycler                               0.10.0   \r\nCython                               0.28.5   \r\ncytoolz                              0.9.0.1  \r\ndask                                 0.19.3   \r\ndatacleaner                          0.1.5    \r\ndatashape                            0.5.4    \r\ndecorator                            4.3.0    \r\ndefusedxml                           0.5.0    \r\nDeprecated                           1.2.4    \r\ndistributed                          1.23.3   \r\ndistro                               1.2.0    \r\ndocker                               3.5.1    \r\ndocker-py                            1.10.6   \r\ndocker-pycreds                       0.3.0    \r\ndocutils                             0.14     \r\nDora                                 0.0.2    \r\ndotnetcore2                          2.1.0    \r\nedward                               1.3.5    \r\nelasticsearch                        6.3.1    \r\nentrypoints                          0.2.3    \r\net-xmlfile                           1.0.1    \r\nfastcache                            1.0.2    \r\nfeedparser                           5.2.1    \r\nfilelock                             3.0.8    \r\nFlask                                1.0.2    \r\nFlask-Cors                           3.0.6    \r\nftfy                                 5.3.0    \r\nfuture                               0.16.0   \r\ngast                                 0.2.0    \r\nGDAL                                 2.3.0    \r\ngevent                               1.3.6    \r\nggplot                               0.11.5   \r\nglob2                                0.6      \r\ngmpy2                                2.0.8    \r\ngraphviz                             0.10.1   \r\ngreenlet                             0.4.15   \r\ngrpcio                               1.16.0   \r\ngym                                  0.10.9   \r\nh5py                                 2.8.0    \r\nhdmedians                            0.13     \r\nheapdict                             1.0.0    \r\nholoviews                            1.10.7   \r\nhtml5lib                             0.9999999\r\nhumanfriendly                        4.17     \r\nhyperlink                            18.0.0   \r\nidna                                 2.7      \r\nimageio                              2.4.1    \r\nimagesize                            1.1.0    \r\nincremental                          17.5.0   \r\nipykernel                            5.0.0    \r\nipython                              7.0.1    \r\nipython-genutils                     0.2.0    \r\nipywidgets                           7.4.2    \r\nisodate                              0.6.0    \r\nisort                                4.3.4    \r\nitsdangerous                         0.24     \r\njdcal                                1.4      \r\njedi                                 0.12.1   \r\njeepney                              0.4      \r\nJinja2                               2.10     \r\njmespath                             0.9.3    \r\njoblib                               0.13.0   \r\nJsonForm                             0.0.2    \r\njsonpickle                           1.0      \r\njsonschema                           2.6.0    \r\nJsonSir                              0.0.2    \r\njupyter                              1.0.0    \r\njupyter-client                       5.2.3    \r\njupyter-console                      5.2.0    \r\njupyter-core                         4.4.0    \r\njupyterlab                           0.34.12  \r\njupyterlab-launcher                  0.13.1   \r\nkafka-python                         1.4.3    \r\nkazoo                                2.5.0    \r\nKeras                                2.2.2    \r\nKeras-Applications                   1.0.4    \r\nKeras-Preprocessing                  1.0.2    \r\nkeyring                              13.2.1   \r\nkiwisolver                           1.0.1    \r\nklein                                17.10.0  \r\nknack                                0.4.5    \r\nlancet-ioam                          0.9.0    \r\nlazy-object-proxy                    1.3.1    \r\nlibarchive-c                         2.8      \r\nlightgbm                             2.2.1    \r\nline-profiler                        2.1.2    \r\nllvmlite                             0.25.0   \r\nlocket                               0.2.0    \r\nlockfile                             0.12.2   \r\nluigi                                2.8.0    \r\nlxml                                 4.2.5    \r\nMarkdown                             2.6.11   \r\nMarkupSafe                           1.0      \r\nmatplotlib                           3.0.0    \r\nmccabe                               0.6.1    \r\nmemory-profiler                      0.54.0   \r\nmistune                              0.8.3    \r\nmkl-fft                              1.0.6    \r\nmkl-random                           1.0.1    \r\nmock                                 2.0.0    \r\nmore-itertools                       4.3.0    \r\nmpmath                               1.0.0    \r\nmsgpack                              0.5.6    \r\nmsrest                               0.6.1    \r\nmsrestazure                          0.5.1    \r\nmultipledispatch                     0.6.0    \r\nnatsort                              5.4.0    \r\nnavigator-updater                    0.2.1    \r\nnbconvert                            5.4.0    \r\nnbformat                             4.4.0    \r\nndg-httpsclient                      0.5.1    \r\nnetworkx                             2.2      \r\nnltk                                 3.3      \r\nnose                                 1.3.7    \r\nnotebook                             5.7.0    \r\nnumba                                0.40.0   \r\nnumexpr                              2.6.8    \r\nnumpy                                1.14.5   \r\nnumpydoc                             0.8.0    \r\noauthlib                             2.1.0    \r\nodo                                  0.5.1    \r\nolefile                              0.46     \r\nopenfst                              1.6.1    \r\nopenpyxl                             2.5.8    \r\npackaging                            18.0     \r\npandas                               0.22.0   \r\npandasql                             0.7.3    \r\npandocfilters                        1.4.2    \r\nparam                                1.7.0    \r\nparamiko                             2.4.2    \r\nparso                                0.3.1    \r\npartd                                0.3.8    \r\npath.py                              11.1.0   \r\npathlib2                             2.3.2    \r\npathspec                             0.5.9    \r\npatsy                                0.5.0    \r\npbr                                  4.2.0    \r\npep8                                 1.7.1    \r\npexpect                              4.6.0    \r\nphonenumbers                         8.9.16   \r\npickleshare                          0.7.5    \r\nPillow                               5.3.0    \r\npip                                  18.1     \r\npkginfo                              1.4.2    \r\nplotly                               3.4.1    \r\npluggy                               0.7.1    \r\nply                                  3.11     \r\nportalocker                          1.2.1    \r\nprettypandas                         0.0.4    \r\nprometheus-client                    0.3.1    \r\nprompt-toolkit                       2.0.5    \r\nprotobuf                             3.6.0    \r\npsutil                               5.4.7    \r\npsycopg2                             2.7.5    \r\nptyprocess                           0.6.0    \r\npy                                   1.6.0    \r\npyang                                1.7.5    \r\npyasn1                               0.4.4    \r\npyasn1-modules                       0.2.2    \r\npycodestyle                          2.4.0    \r\npycosat                              0.6.3    \r\npycparser                            2.19     \r\npycrypto                             2.6.1    \r\npycurl                               7.43.0.2 \r\npydot                                1.2.4    \r\npyflakes                             2.0.0    \r\nPyGithub                             1.43.3   \r\npyglet                               1.3.2    \r\nPygments                             2.2.0    \r\nPyHamcrest                           1.9.0    \r\nPyJWT                                1.6.4    \r\npykafka                              2.8.0    \r\npylint                               2.1.1    \r\npymc                                 2.3.6    \r\npymc3                                3.5      \r\npymongo                              3.7.1    \r\nPympler                              0.6      \r\npymssql                              2.1.1    \r\nPyMySQL                              0.9.2    \r\nPyNaCl                               1.3.0    \r\npyodbc                               3.1.1    \r\npyOpenSSL                            18.0.0   \r\npypachy                              0.1.5    \r\npyparsing                            2.2.1    \r\npyprof2calltree                      1.4.4    \r\n",
          "name": "stdout"
        },
        {
          "output_type": "stream",
          "text": "PySocks                              1.6.8    \r\npytest                               3.8.2    \r\npytest-arraydiff                     0.2      \r\npytest-astropy                       0.4.0    \r\npytest-doctestplus                   0.1.3    \r\npytest-openfiles                     0.3.0    \r\npytest-remotedata                    0.3.0    \r\npython-daemon                        2.1.2    \r\npython-dateutil                      2.7.3    \r\nPython-EasyConfig                    0.1.7    \r\npytz                                 2018.5   \r\npyviz-comms                          0.6.0    \r\nPyWavelets                           1.0.1    \r\nPyYAML                               3.13     \r\npyzmq                                17.1.2   \r\nQtAwesome                            0.5.0    \r\nqtconsole                            4.4.1    \r\nQtPy                                 1.5.1    \r\nreadline                             6.2.4.1  \r\nrequests                             2.19.1   \r\nrequests-oauthlib                    1.0.0    \r\nResource                             0.2.1    \r\nretrying                             1.3.3    \r\nrope                                 0.11.0   \r\nrpy2                                 2.9.4    \r\nruamel-yaml                          0.15.46  \r\nruamel.yaml                          0.15.51  \r\ns3transfer                           0.1.13   \r\nscikit-bio                           0.5.4    \r\nscikit-image                         0.13.0   \r\nscikit-learn                         0.19.1   \r\nscipy                                1.1.0    \r\nscrubadub                            1.2.0    \r\nseaborn                              0.9.0    \r\nSecretStorage                        2.3.1    \r\nSend2Trash                           1.5.0    \r\nservice-identity                     17.0.0   \r\nsetuptools                           40.4.3   \r\nsimplegeneric                        0.8.1    \r\nsingledispatch                       3.4.0.3  \r\nsix                                  1.11.0   \r\nsklearn                              0.0      \r\nsklearn-pandas                       1.7.0    \r\nsnakeviz                             1.0.0    \r\nsnowballstemmer                      1.2.1    \r\nsortedcollections                    1.0.1    \r\nsortedcontainers                     2.0.5    \r\nSphinx                               1.8.1    \r\nsphinxcontrib-websupport             1.1.0    \r\nspyder                               3.3.1    \r\nspyder-kernels                       0.2.6    \r\nSQLAlchemy                           1.2.12   \r\nstatsmodels                          0.9.0    \r\nsympy                                1.3      \r\ntables                               3.4.4    \r\ntabulate                             0.8.2    \r\ntblib                                1.3.2    \r\ntensorboard                          1.10.0   \r\ntensorflow                           1.10.0   \r\ntensorflow-tensorboard               0.1.8    \r\ntermcolor                            1.1.0    \r\nterminado                            0.8.1    \r\ntestpath                             0.4.2    \r\ntextblob                             0.10.0   \r\nTheano                               1.0.3    \r\ntoolz                                0.9.0    \r\ntorch                                0.4.1    \r\ntorchvision                          0.2.1    \r\ntornado                              4.5.3    \r\ntqdm                                 4.26.0   \r\ntraitlets                            4.3.2    \r\ntraittypes                           0.2.1    \r\ntreq                                 18.6.0   \r\nTwisted                              18.7.0   \r\ntyped-ast                            1.1.0    \r\ntyping                               3.6.6    \r\nunicodecsv                           0.14.1   \r\nupdate-checker                       0.16     \r\nurllib3                              1.23     \r\nwcwidth                              0.1.7    \r\nwebencodings                         0.5.1    \r\nwebsocket-client                     0.54.0   \r\nWerkzeug                             0.14.1   \r\nwget                                 3.2      \r\nwheel                                0.30.0   \r\nwidgetsnbextension                   3.4.2    \r\nword2vec                             0.10.2   \r\nwrapt                                1.10.11  \r\nxlrd                                 1.1.0    \r\nXlsxWriter                           1.1.1    \r\nxlwt                                 1.3.0    \r\nzict                                 0.1.3    \r\nzope.interface                       4.5.0    \r\n",
          "name": "stdout"
        }
      ]
    },
    {
      "metadata": {
        "trusted": true
      },
      "cell_type": "code",
      "source": "import logging\nimport os\nimport random\n\nfrom matplotlib import pyplot as plt\nfrom matplotlib.pyplot import imshow\nimport numpy as np\nimport pandas as pd\nfrom sklearn import datasets\n\nimport azureml.core\nfrom azureml.core.experiment import Experiment\nfrom azureml.core.workspace import Workspace\nfrom azureml.train.automl import AutoMLConfig\nfrom azureml.train.automl.run import AutoMLRun",
      "execution_count": 4,
      "outputs": []
    },
    {
      "metadata": {},
      "cell_type": "markdown",
      "source": "## 2. Connexion workspace Azure ML Service"
    },
    {
      "metadata": {
        "trusted": true
      },
      "cell_type": "code",
      "source": "ws = Workspace.from_config()\n\n# Choose a name for the experiment and specify the project folder.\nexperiment_name = 'automl-local-clustering'\nproject_folder = './sample_projects/automl-local-clustering'\n\nexperiment = Experiment(ws, experiment_name)\n\noutput = {}\noutput['SDK version'] = azureml.core.VERSION\noutput['Subscription ID'] = ws.subscription_id\noutput['Workspace Name'] = ws.name\noutput['Resource Group'] = ws.resource_group\noutput['Location'] = ws.location\noutput['Project Directory'] = project_folder\noutput['Experiment Name'] = experiment.name\npd.set_option('display.max_colwidth', -1)\npd.DataFrame(data = output, index = ['']).T",
      "execution_count": 5,
      "outputs": [
        {
          "output_type": "stream",
          "text": "Found the config file in: /home/nbuser/library/aml_config/config.json\n",
          "name": "stdout"
        },
        {
          "output_type": "execute_result",
          "execution_count": 5,
          "data": {
            "text/html": "<div>\n<style scoped>\n    .dataframe tbody tr th:only-of-type {\n        vertical-align: middle;\n    }\n\n    .dataframe tbody tr th {\n        vertical-align: top;\n    }\n\n    .dataframe thead th {\n        text-align: right;\n    }\n</style>\n<table border=\"1\" class=\"dataframe\">\n  <thead>\n    <tr style=\"text-align: right;\">\n      <th></th>\n      <th></th>\n    </tr>\n  </thead>\n  <tbody>\n    <tr>\n      <th>Experiment Name</th>\n      <td>automl-local-clustering</td>\n    </tr>\n    <tr>\n      <th>Location</th>\n      <td>westeurope</td>\n    </tr>\n    <tr>\n      <th>Project Directory</th>\n      <td>./sample_projects/automl-local-clustering</td>\n    </tr>\n    <tr>\n      <th>Resource Group</th>\n      <td>mlserviceresourcegroup</td>\n    </tr>\n    <tr>\n      <th>SDK version</th>\n      <td>0.1.74</td>\n    </tr>\n    <tr>\n      <th>Subscription ID</th>\n      <td>70b8f39e-8863-49f7-b6ba-34a80799550c</td>\n    </tr>\n    <tr>\n      <th>Workspace Name</th>\n      <td>MLServiceWorkspace</td>\n    </tr>\n  </tbody>\n</table>\n</div>",
            "text/plain": "                                                            \nExperiment Name    automl-local-clustering                  \nLocation           westeurope                               \nProject Directory  ./sample_projects/automl-local-clustering\nResource Group     mlserviceresourcegroup                   \nSDK version        0.1.74                                   \nSubscription ID    70b8f39e-8863-49f7-b6ba-34a80799550c     \nWorkspace Name     MLServiceWorkspace                       "
          },
          "metadata": {}
        }
      ]
    },
    {
      "metadata": {},
      "cell_type": "markdown",
      "source": "## Diagnostics\n\nOpt-in diagnostics for better experience, quality, and security of future releases."
    },
    {
      "metadata": {
        "trusted": true
      },
      "cell_type": "code",
      "source": "from azureml.telemetry import set_diagnostics_collection\nset_diagnostics_collection(send_diagnostics = True)",
      "execution_count": null,
      "outputs": []
    },
    {
      "metadata": {},
      "cell_type": "markdown",
      "source": "## 3. Chargement des données\n\nThis uses scikit-learn's [load_digits](http://scikit-learn.org/stable/modules/generated/sklearn.datasets.load_digits.html) method."
    },
    {
      "metadata": {
        "trusted": true
      },
      "cell_type": "code",
      "source": "from sklearn import datasets\n\ndigits = datasets.load_digits()\n\n# Exclude the first 100 rows from training so that they can be used for test.\nX_train = digits.data[100:,:]\ny_train = digits.target[100:]",
      "execution_count": 7,
      "outputs": []
    },
    {
      "metadata": {},
      "cell_type": "markdown",
      "source": "## 4. Configuration AutoML\n\nInstantiate an `AutoMLConfig` object to specify the settings and data used to run the experiment.\n\n|Property|Description|\n|-|-|\n|**task**|classification or regression|\n|**primary_metric**|This is the metric that you want to optimize. Classification supports the following primary metrics: <br><i>accuracy</i><br><i>AUC_weighted</i><br><i>balanced_accuracy</i><br><i>average_precision_score_weighted</i><br><i>precision_score_weighted</i>|\n|**max_time_sec**|Time limit in seconds for each iteration.|\n|**iterations**|Number of iterations. In each iteration AutoML trains a specific pipeline with the data.|\n|**n_cross_validations**|Number of cross validation splits.|\n|**X**|(sparse) array-like, shape = [n_samples, n_features]|\n|**y**|(sparse) array-like, shape = [n_samples, ], [n_samples, n_classes]<br>Multi-class targets. An indicator matrix turns on multilabel classification. This should be an array of integers.|\n|**path**|Relative path to the project folder. AutoML stores configuration files for the experiment under this folder. You can specify a new empty folder.|"
    },
    {
      "metadata": {
        "trusted": true
      },
      "cell_type": "code",
      "source": "automl_config = AutoMLConfig(task = 'classification',\n                             debug_log = 'automl_errors.log',\n                             primary_metric = 'AUC_weighted',\n                             max_time_sec = 3600,\n                             iterations = 30,\n                             n_cross_validations = 3,\n                             verbosity = logging.INFO,\n                             X = X_train, \n                             y = y_train,\n                             path = project_folder)",
      "execution_count": 8,
      "outputs": []
    },
    {
      "metadata": {},
      "cell_type": "markdown",
      "source": "## 5. AutoML\n\nCall the `submit` method on the experiment object and pass the run configuration. Execution of local runs is synchronous. Depending on the data and the number of iterations this can run for a while.\nIn this example, we specify `show_output = True` to print currently running iterations to the console.\n\n`AUC_weighted` is the metric used."
    },
    {
      "metadata": {
        "trusted": true
      },
      "cell_type": "code",
      "source": "local_run = experiment.submit(automl_config, show_output = True)",
      "execution_count": 9,
      "outputs": [
        {
          "output_type": "stream",
          "text": "Parent Run ID: AutoML_69eeff87-6863-44ca-a245-762a6c1879b7\n***********************************************************************************************\nITERATION: The iteration being evaluated.\nPIPELINE: A summary description of the pipeline being evaluated.\nDURATION: Time taken for the current iteration.\nMETRIC: The result of computing score on the fitted pipeline.\nBEST: The best observed score thus far.\n***********************************************************************************************\n\n ITERATION     PIPELINE                               DURATION                METRIC      BEST\n         0      StandardScalerWrapper KNeighborsClassi0:00:11.242567           0.999     0.999\n         1      StandardScalerWrapper KNeighborsClassi0:00:11.947598           0.998     0.999\n         2      MaxAbsScaler LightGBMClassifier       0:00:13.130926           0.997     0.999\n         3      StandardScalerWrapper LightGBMClassifi0:00:12.886183           0.993     0.999\n         4      StandardScalerWrapper LogisticRegressi0:00:12.052117           0.994     0.999\n         5      TruncatedSVDWrapper KNeighborsClassifi0:00:11.448889           0.999     0.999\n         6      StandardScalerWrapper LightGBMClassifi0:00:20.444612           0.999     0.999\n         7      MinMaxScaler LightGBMClassifier       0:00:13.305308           0.997     0.999\n         8      MaxAbsScaler LightGBMClassifier       0:00:14.592224           0.989     0.999\n         9      SparseNormalizer RandomForestClassifie0:00:15.750992           0.966     0.999\n        10      RobustScaler KNeighborsClassifier     0:00:12.701848           0.998     0.999\n        11      StandardScalerWrapper LightGBMClassifi0:00:12.866707           0.995     0.999\n        12      SparseNormalizer KNeighborsClassifier 0:00:11.790333           0.999     0.999\n        13      MinMaxScaler LightGBMClassifier       0:00:13.063430           0.981     0.999\n        14      StandardScalerWrapper LightGBMClassifi0:00:14.302894           0.998     0.999\n        15      MinMaxScaler ExtraTreesClassifier     0:00:13.712721           0.990     0.999\n        16      StandardScalerWrapper LightGBMClassifi0:00:13.019363           0.969     0.999\n        17      MinMaxScaler LightGBMClassifier       0:00:19.045328           0.998     0.999\n        18      RobustScaler LightGBMClassifier       0:00:22.423935           0.999     0.999\n        19      MaxAbsScaler LightGBMClassifier       0:00:18.883201           0.999     0.999\n        20      StandardScalerWrapper SVCWrapper      0:00:16.786177           1.000     1.000\n        21      RobustScaler KNeighborsClassifier     0:00:15.424243           0.996     1.000\n        22      MaxAbsScaler SVCWrapper               0:00:15.135329           1.000     1.000\n        23      RobustScaler LogisticRegression       0:00:19.200374           0.996     1.000\n        24      StandardScalerWrapper GradientBoosting0:01:21.416902           0.999     1.000\n        25      StandardScalerWrapper SVCWrapper      0:00:16.822189           1.000     1.000\n        26      RobustScaler KNeighborsClassifier     0:00:14.061291           0.996     1.000\n        27      SparseNormalizer KNeighborsClassifier 0:00:12.007599           0.999     1.000\n        28      StandardScalerWrapper SVCWrapper      0:00:16.780894           1.000     1.000\n        29      MinMaxScaler SVCWrapper               0:00:16.802486           1.000     1.000\n",
          "name": "stdout"
        }
      ]
    },
    {
      "metadata": {
        "trusted": true
      },
      "cell_type": "code",
      "source": "local_run",
      "execution_count": 10,
      "outputs": [
        {
          "output_type": "execute_result",
          "execution_count": 10,
          "data": {
            "text/html": "<table style=\"width:100%\"><tr><th>Experiment</th><th>Id</th><th>Type</th><th>Status</th><th>Details Page</th><th>Docs Page</th></tr><tr><td>automl-local-clustering</td><td>AutoML_69eeff87-6863-44ca-a245-762a6c1879b7</td><td>automl</td><td>Completed</td><td><a href=\"https://mlworkspace.azure.ai/portal/subscriptions/70b8f39e-8863-49f7-b6ba-34a80799550c/resourceGroups/mlserviceresourcegroup/providers/Microsoft.MachineLearningServices/workspaces/MLServiceWorkspace/experiments/automl-local-clustering/runs/AutoML_69eeff87-6863-44ca-a245-762a6c1879b7\" target=\"_blank\" rel=\"noopener\">Link to Azure Portal</a></td><td><a href=\"https://docs.microsoft.com/en-us/python/api/overview/azure/ml/intro?view=azure-ml-py\" target=\"_blank\" rel=\"noopener\">Link to Documentation</a></td></tr></table>",
            "text/plain": "Run(Experiment: automl-local-clustering,\nId: AutoML_69eeff87-6863-44ca-a245-762a6c1879b7,\nType: automl,\nStatus: Completed)"
          },
          "metadata": {}
        }
      ]
    },
    {
      "metadata": {},
      "cell_type": "markdown",
      "source": "Optionally, you can continue an interrupted local run by calling `continue_experiment` without the `iterations` parameter, or run more iterations for a completed run by specifying the `iterations` parameter:"
    },
    {
      "metadata": {
        "trusted": true
      },
      "cell_type": "markdown",
      "source": "#local_run = local_run.continue_experiment(X = X_train, \n                                          y = y_train, \n                                          show_output = True,\n                                          iterations = 5)"
    },
    {
      "metadata": {
        "trusted": true
      },
      "cell_type": "code",
      "source": "#local_run",
      "execution_count": 13,
      "outputs": []
    },
    {
      "metadata": {},
      "cell_type": "markdown",
      "source": "## 6. Exploration des résultats AutoML"
    },
    {
      "metadata": {},
      "cell_type": "markdown",
      "source": "### 6.1 Notebook Widget\n\nThe widget will first report a \"loading\" status while running the first iteration. After completing the first iteration, an auto-updating graph and table will be shown. The widget will refresh once per minute, so you should see the graph update as child runs complete.\n\n**Note:** The widget displays a link at the bottom. Use this link to open a web interface to explore the individual run details."
    },
    {
      "metadata": {
        "trusted": true
      },
      "cell_type": "code",
      "source": "from azureml.train.widgets import RunDetails\nRunDetails(local_run).show() ",
      "execution_count": 14,
      "outputs": [
        {
          "output_type": "display_data",
          "data": {
            "application/vnd.jupyter.widget-view+json": {
              "model_id": "6d3eb023320f4dbba53288824c385218",
              "version_minor": 0,
              "version_major": 2
            },
            "text/plain": "_AutoML(widget_settings={'childWidgetDisplay': 'popup'})"
          },
          "metadata": {}
        },
        {
          "output_type": "display_data",
          "data": {
            "application/vnd.jupyter.widget-view+json": {
              "model_id": "32b61f2ce1db408a9ad923b0a39687d9",
              "version_minor": 0,
              "version_major": 2
            },
            "text/plain": "_UserRun(widget_settings={'childWidgetDisplay': 'popup', 'display': 'popup'})"
          },
          "metadata": {}
        },
        {
          "output_type": "display_data",
          "data": {
            "application/vnd.jupyter.widget-view+json": {
              "model_id": "0502238d89bc404298f8cd1d3d3dac01",
              "version_minor": 0,
              "version_major": 2
            },
            "text/plain": "_UserRun(widget_settings={'childWidgetDisplay': 'popup', 'display': 'popup'})"
          },
          "metadata": {}
        }
      ]
    },
    {
      "metadata": {},
      "cell_type": "markdown",
      "source": "\n### 6.2 Toutes les itérations\nYou can also use SDK methods to fetch all the child runs and see individual metrics that we log."
    },
    {
      "metadata": {
        "trusted": true
      },
      "cell_type": "code",
      "source": "children = list(local_run.get_children())\nmetricslist = {}\nfor run in children:\n    properties = run.get_properties()\n    metrics = {k: v for k, v in run.get_metrics().items() if isinstance(v, float)}\n    metricslist[int(properties['iteration'])] = metrics\n\nrundata = pd.DataFrame(metricslist).sort_index(1)\nrundata",
      "execution_count": 15,
      "outputs": [
        {
          "output_type": "execute_result",
          "execution_count": 15,
          "data": {
            "text/html": "<div>\n<style scoped>\n    .dataframe tbody tr th:only-of-type {\n        vertical-align: middle;\n    }\n\n    .dataframe tbody tr th {\n        vertical-align: top;\n    }\n\n    .dataframe thead th {\n        text-align: right;\n    }\n</style>\n<table border=\"1\" class=\"dataframe\">\n  <thead>\n    <tr style=\"text-align: right;\">\n      <th></th>\n      <th>0</th>\n      <th>1</th>\n      <th>2</th>\n      <th>3</th>\n      <th>4</th>\n      <th>5</th>\n      <th>6</th>\n      <th>7</th>\n      <th>8</th>\n      <th>9</th>\n      <th>...</th>\n      <th>20</th>\n      <th>21</th>\n      <th>22</th>\n      <th>23</th>\n      <th>24</th>\n      <th>25</th>\n      <th>26</th>\n      <th>27</th>\n      <th>28</th>\n      <th>29</th>\n    </tr>\n  </thead>\n  <tbody>\n    <tr>\n      <th>AUC_macro</th>\n      <td>0.998831</td>\n      <td>0.998494</td>\n      <td>0.996619</td>\n      <td>0.992970</td>\n      <td>0.994572</td>\n      <td>0.998801</td>\n      <td>0.998993</td>\n      <td>0.997422</td>\n      <td>0.988989</td>\n      <td>0.966443</td>\n      <td>...</td>\n      <td>0.999494</td>\n      <td>0.996448</td>\n      <td>0.999658</td>\n      <td>0.996205</td>\n      <td>0.999417</td>\n      <td>0.999492</td>\n      <td>0.996261</td>\n      <td>0.998764</td>\n      <td>0.999495</td>\n      <td>0.999658</td>\n    </tr>\n    <tr>\n      <th>AUC_micro</th>\n      <td>0.999016</td>\n      <td>0.998573</td>\n      <td>0.996997</td>\n      <td>0.993801</td>\n      <td>0.995906</td>\n      <td>0.998874</td>\n      <td>0.998963</td>\n      <td>0.997402</td>\n      <td>0.990063</td>\n      <td>0.961402</td>\n      <td>...</td>\n      <td>0.999634</td>\n      <td>0.996734</td>\n      <td>0.999796</td>\n      <td>0.996748</td>\n      <td>0.999436</td>\n      <td>0.999627</td>\n      <td>0.996498</td>\n      <td>0.998829</td>\n      <td>0.999634</td>\n      <td>0.999796</td>\n    </tr>\n    <tr>\n      <th>AUC_weighted</th>\n      <td>0.998831</td>\n      <td>0.998492</td>\n      <td>0.996640</td>\n      <td>0.993057</td>\n      <td>0.994496</td>\n      <td>0.998807</td>\n      <td>0.998958</td>\n      <td>0.997445</td>\n      <td>0.988991</td>\n      <td>0.966332</td>\n      <td>...</td>\n      <td>0.999506</td>\n      <td>0.996461</td>\n      <td>0.999664</td>\n      <td>0.996246</td>\n      <td>0.999407</td>\n      <td>0.999502</td>\n      <td>0.996307</td>\n      <td>0.998790</td>\n      <td>0.999507</td>\n      <td>0.999664</td>\n    </tr>\n    <tr>\n      <th>AUC_weighted_max</th>\n      <td>0.998831</td>\n      <td>0.998831</td>\n      <td>0.998831</td>\n      <td>0.998831</td>\n      <td>0.998831</td>\n      <td>0.998831</td>\n      <td>0.998958</td>\n      <td>0.998958</td>\n      <td>0.998958</td>\n      <td>0.998958</td>\n      <td>...</td>\n      <td>0.999506</td>\n      <td>0.999506</td>\n      <td>0.999664</td>\n      <td>0.999664</td>\n      <td>0.999664</td>\n      <td>0.999664</td>\n      <td>0.999664</td>\n      <td>0.999664</td>\n      <td>0.999664</td>\n      <td>0.999664</td>\n    </tr>\n    <tr>\n      <th>accuracy</th>\n      <td>0.965236</td>\n      <td>0.951091</td>\n      <td>0.938722</td>\n      <td>0.916912</td>\n      <td>0.943437</td>\n      <td>0.982321</td>\n      <td>0.956989</td>\n      <td>0.935771</td>\n      <td>0.900999</td>\n      <td>0.783743</td>\n      <td>...</td>\n      <td>0.982325</td>\n      <td>0.935765</td>\n      <td>0.985859</td>\n      <td>0.954040</td>\n      <td>0.968773</td>\n      <td>0.981735</td>\n      <td>0.939302</td>\n      <td>0.977016</td>\n      <td>0.982325</td>\n      <td>0.985859</td>\n    </tr>\n    <tr>\n      <th>average_precision_score_macro</th>\n      <td>0.993350</td>\n      <td>0.988972</td>\n      <td>0.980108</td>\n      <td>0.961565</td>\n      <td>0.969308</td>\n      <td>0.996008</td>\n      <td>0.993213</td>\n      <td>0.983879</td>\n      <td>0.942835</td>\n      <td>0.871795</td>\n      <td>...</td>\n      <td>0.996819</td>\n      <td>0.981190</td>\n      <td>0.998110</td>\n      <td>0.979943</td>\n      <td>0.995863</td>\n      <td>0.996852</td>\n      <td>0.982886</td>\n      <td>0.995572</td>\n      <td>0.996832</td>\n      <td>0.998110</td>\n    </tr>\n    <tr>\n      <th>average_precision_score_micro</th>\n      <td>0.994107</td>\n      <td>0.989024</td>\n      <td>0.981398</td>\n      <td>0.966684</td>\n      <td>0.976404</td>\n      <td>0.996241</td>\n      <td>0.993039</td>\n      <td>0.983700</td>\n      <td>0.946554</td>\n      <td>0.830287</td>\n      <td>...</td>\n      <td>0.997329</td>\n      <td>0.982452</td>\n      <td>0.998559</td>\n      <td>0.981062</td>\n      <td>0.995914</td>\n      <td>0.997289</td>\n      <td>0.983902</td>\n      <td>0.995405</td>\n      <td>0.997330</td>\n      <td>0.998559</td>\n    </tr>\n    <tr>\n      <th>average_precision_score_weighted</th>\n      <td>0.993454</td>\n      <td>0.989008</td>\n      <td>0.980327</td>\n      <td>0.962536</td>\n      <td>0.969055</td>\n      <td>0.995935</td>\n      <td>0.993202</td>\n      <td>0.984169</td>\n      <td>0.943403</td>\n      <td>0.872376</td>\n      <td>...</td>\n      <td>0.996894</td>\n      <td>0.981394</td>\n      <td>0.998127</td>\n      <td>0.980296</td>\n      <td>0.995847</td>\n      <td>0.996916</td>\n      <td>0.983087</td>\n      <td>0.995413</td>\n      <td>0.996905</td>\n      <td>0.998127</td>\n    </tr>\n    <tr>\n      <th>balanced_accuracy</th>\n      <td>0.965062</td>\n      <td>0.951313</td>\n      <td>0.939286</td>\n      <td>0.918155</td>\n      <td>0.944181</td>\n      <td>0.982353</td>\n      <td>0.957209</td>\n      <td>0.936803</td>\n      <td>0.900893</td>\n      <td>0.784445</td>\n      <td>...</td>\n      <td>0.982350</td>\n      <td>0.935090</td>\n      <td>0.985809</td>\n      <td>0.954286</td>\n      <td>0.969021</td>\n      <td>0.981779</td>\n      <td>0.938729</td>\n      <td>0.977205</td>\n      <td>0.982350</td>\n      <td>0.985809</td>\n    </tr>\n    <tr>\n      <th>f1_score_macro</th>\n      <td>0.965093</td>\n      <td>0.950920</td>\n      <td>0.938919</td>\n      <td>0.916932</td>\n      <td>0.943563</td>\n      <td>0.982144</td>\n      <td>0.956960</td>\n      <td>0.935569</td>\n      <td>0.900288</td>\n      <td>0.765376</td>\n      <td>...</td>\n      <td>0.982284</td>\n      <td>0.934877</td>\n      <td>0.985949</td>\n      <td>0.954017</td>\n      <td>0.969023</td>\n      <td>0.981763</td>\n      <td>0.938790</td>\n      <td>0.977133</td>\n      <td>0.982284</td>\n      <td>0.985949</td>\n    </tr>\n    <tr>\n      <th>f1_score_micro</th>\n      <td>0.965236</td>\n      <td>0.951091</td>\n      <td>0.938722</td>\n      <td>0.916912</td>\n      <td>0.943437</td>\n      <td>0.982321</td>\n      <td>0.956989</td>\n      <td>0.935771</td>\n      <td>0.900999</td>\n      <td>0.783743</td>\n      <td>...</td>\n      <td>0.982325</td>\n      <td>0.935765</td>\n      <td>0.985859</td>\n      <td>0.954040</td>\n      <td>0.968773</td>\n      <td>0.981735</td>\n      <td>0.939302</td>\n      <td>0.977016</td>\n      <td>0.982325</td>\n      <td>0.985859</td>\n    </tr>\n    <tr>\n      <th>f1_score_weighted</th>\n      <td>0.965333</td>\n      <td>0.951030</td>\n      <td>0.938831</td>\n      <td>0.916964</td>\n      <td>0.943464</td>\n      <td>0.982211</td>\n      <td>0.957153</td>\n      <td>0.935708</td>\n      <td>0.900840</td>\n      <td>0.766262</td>\n      <td>...</td>\n      <td>0.982354</td>\n      <td>0.935797</td>\n      <td>0.985862</td>\n      <td>0.954093</td>\n      <td>0.968735</td>\n      <td>0.981762</td>\n      <td>0.939428</td>\n      <td>0.976899</td>\n      <td>0.982354</td>\n      <td>0.985862</td>\n    </tr>\n    <tr>\n      <th>log_loss</th>\n      <td>0.149926</td>\n      <td>0.224888</td>\n      <td>0.846541</td>\n      <td>0.951443</td>\n      <td>0.774787</td>\n      <td>0.134813</td>\n      <td>0.198793</td>\n      <td>0.365917</td>\n      <td>1.463401</td>\n      <td>1.562470</td>\n      <td>...</td>\n      <td>0.119634</td>\n      <td>0.309422</td>\n      <td>0.108929</td>\n      <td>0.271297</td>\n      <td>0.099987</td>\n      <td>0.120793</td>\n      <td>0.324571</td>\n      <td>0.130809</td>\n      <td>0.119634</td>\n      <td>0.108929</td>\n    </tr>\n    <tr>\n      <th>norm_macro_recall</th>\n      <td>0.961180</td>\n      <td>0.945903</td>\n      <td>0.932540</td>\n      <td>0.909061</td>\n      <td>0.937979</td>\n      <td>0.980393</td>\n      <td>0.952454</td>\n      <td>0.929781</td>\n      <td>0.889881</td>\n      <td>0.760494</td>\n      <td>...</td>\n      <td>0.980389</td>\n      <td>0.927877</td>\n      <td>0.984232</td>\n      <td>0.949207</td>\n      <td>0.965579</td>\n      <td>0.979755</td>\n      <td>0.931921</td>\n      <td>0.974672</td>\n      <td>0.980389</td>\n      <td>0.984232</td>\n    </tr>\n    <tr>\n      <th>precision_score_macro</th>\n      <td>0.966393</td>\n      <td>0.953327</td>\n      <td>0.940587</td>\n      <td>0.918796</td>\n      <td>0.944564</td>\n      <td>0.982593</td>\n      <td>0.957986</td>\n      <td>0.937136</td>\n      <td>0.903527</td>\n      <td>0.803218</td>\n      <td>...</td>\n      <td>0.982569</td>\n      <td>0.938654</td>\n      <td>0.986342</td>\n      <td>0.954860</td>\n      <td>0.969879</td>\n      <td>0.982100</td>\n      <td>0.942509</td>\n      <td>0.977890</td>\n      <td>0.982569</td>\n      <td>0.986342</td>\n    </tr>\n    <tr>\n      <th>precision_score_micro</th>\n      <td>0.965236</td>\n      <td>0.951091</td>\n      <td>0.938722</td>\n      <td>0.916912</td>\n      <td>0.943437</td>\n      <td>0.982321</td>\n      <td>0.956989</td>\n      <td>0.935771</td>\n      <td>0.900999</td>\n      <td>0.783743</td>\n      <td>...</td>\n      <td>0.982325</td>\n      <td>0.935765</td>\n      <td>0.985859</td>\n      <td>0.954040</td>\n      <td>0.968773</td>\n      <td>0.981735</td>\n      <td>0.939302</td>\n      <td>0.977016</td>\n      <td>0.982325</td>\n      <td>0.985859</td>\n    </tr>\n    <tr>\n      <th>precision_score_weighted</th>\n      <td>0.966693</td>\n      <td>0.953782</td>\n      <td>0.940955</td>\n      <td>0.920149</td>\n      <td>0.945145</td>\n      <td>0.982773</td>\n      <td>0.958561</td>\n      <td>0.938472</td>\n      <td>0.904588</td>\n      <td>0.804456</td>\n      <td>...</td>\n      <td>0.982729</td>\n      <td>0.939749</td>\n      <td>0.986116</td>\n      <td>0.955271</td>\n      <td>0.969524</td>\n      <td>0.982136</td>\n      <td>0.943180</td>\n      <td>0.977634</td>\n      <td>0.982729</td>\n      <td>0.986116</td>\n    </tr>\n    <tr>\n      <th>recall_score_macro</th>\n      <td>0.965062</td>\n      <td>0.951313</td>\n      <td>0.939286</td>\n      <td>0.918155</td>\n      <td>0.944181</td>\n      <td>0.982353</td>\n      <td>0.957209</td>\n      <td>0.936803</td>\n      <td>0.900893</td>\n      <td>0.784445</td>\n      <td>...</td>\n      <td>0.982350</td>\n      <td>0.935090</td>\n      <td>0.985809</td>\n      <td>0.954286</td>\n      <td>0.969021</td>\n      <td>0.981779</td>\n      <td>0.938729</td>\n      <td>0.977205</td>\n      <td>0.982350</td>\n      <td>0.985809</td>\n    </tr>\n    <tr>\n      <th>recall_score_micro</th>\n      <td>0.965236</td>\n      <td>0.951091</td>\n      <td>0.938722</td>\n      <td>0.916912</td>\n      <td>0.943437</td>\n      <td>0.982321</td>\n      <td>0.956989</td>\n      <td>0.935771</td>\n      <td>0.900999</td>\n      <td>0.783743</td>\n      <td>...</td>\n      <td>0.982325</td>\n      <td>0.935765</td>\n      <td>0.985859</td>\n      <td>0.954040</td>\n      <td>0.968773</td>\n      <td>0.981735</td>\n      <td>0.939302</td>\n      <td>0.977016</td>\n      <td>0.982325</td>\n      <td>0.985859</td>\n    </tr>\n    <tr>\n      <th>recall_score_weighted</th>\n      <td>0.965236</td>\n      <td>0.951091</td>\n      <td>0.938722</td>\n      <td>0.916912</td>\n      <td>0.943437</td>\n      <td>0.982321</td>\n      <td>0.956989</td>\n      <td>0.935771</td>\n      <td>0.900999</td>\n      <td>0.783743</td>\n      <td>...</td>\n      <td>0.982325</td>\n      <td>0.935765</td>\n      <td>0.985859</td>\n      <td>0.954040</td>\n      <td>0.968773</td>\n      <td>0.981735</td>\n      <td>0.939302</td>\n      <td>0.977016</td>\n      <td>0.982325</td>\n      <td>0.985859</td>\n    </tr>\n    <tr>\n      <th>weighted_accuracy</th>\n      <td>0.965412</td>\n      <td>0.950992</td>\n      <td>0.938143</td>\n      <td>0.915584</td>\n      <td>0.942616</td>\n      <td>0.982320</td>\n      <td>0.956726</td>\n      <td>0.934636</td>\n      <td>0.900943</td>\n      <td>0.782652</td>\n      <td>...</td>\n      <td>0.982332</td>\n      <td>0.936471</td>\n      <td>0.985930</td>\n      <td>0.953742</td>\n      <td>0.968452</td>\n      <td>0.981700</td>\n      <td>0.939862</td>\n      <td>0.976809</td>\n      <td>0.982332</td>\n      <td>0.985930</td>\n    </tr>\n  </tbody>\n</table>\n<p>21 rows × 30 columns</p>\n</div>",
            "text/plain": "                                         0         1         2         3  \\\nAUC_macro                         0.998831  0.998494  0.996619  0.992970   \nAUC_micro                         0.999016  0.998573  0.996997  0.993801   \nAUC_weighted                      0.998831  0.998492  0.996640  0.993057   \nAUC_weighted_max                  0.998831  0.998831  0.998831  0.998831   \naccuracy                          0.965236  0.951091  0.938722  0.916912   \naverage_precision_score_macro     0.993350  0.988972  0.980108  0.961565   \naverage_precision_score_micro     0.994107  0.989024  0.981398  0.966684   \naverage_precision_score_weighted  0.993454  0.989008  0.980327  0.962536   \nbalanced_accuracy                 0.965062  0.951313  0.939286  0.918155   \nf1_score_macro                    0.965093  0.950920  0.938919  0.916932   \nf1_score_micro                    0.965236  0.951091  0.938722  0.916912   \nf1_score_weighted                 0.965333  0.951030  0.938831  0.916964   \nlog_loss                          0.149926  0.224888  0.846541  0.951443   \nnorm_macro_recall                 0.961180  0.945903  0.932540  0.909061   \nprecision_score_macro             0.966393  0.953327  0.940587  0.918796   \nprecision_score_micro             0.965236  0.951091  0.938722  0.916912   \nprecision_score_weighted          0.966693  0.953782  0.940955  0.920149   \nrecall_score_macro                0.965062  0.951313  0.939286  0.918155   \nrecall_score_micro                0.965236  0.951091  0.938722  0.916912   \nrecall_score_weighted             0.965236  0.951091  0.938722  0.916912   \nweighted_accuracy                 0.965412  0.950992  0.938143  0.915584   \n\n                                         4         5         6         7  \\\nAUC_macro                         0.994572  0.998801  0.998993  0.997422   \nAUC_micro                         0.995906  0.998874  0.998963  0.997402   \nAUC_weighted                      0.994496  0.998807  0.998958  0.997445   \nAUC_weighted_max                  0.998831  0.998831  0.998958  0.998958   \naccuracy                          0.943437  0.982321  0.956989  0.935771   \naverage_precision_score_macro     0.969308  0.996008  0.993213  0.983879   \naverage_precision_score_micro     0.976404  0.996241  0.993039  0.983700   \naverage_precision_score_weighted  0.969055  0.995935  0.993202  0.984169   \nbalanced_accuracy                 0.944181  0.982353  0.957209  0.936803   \nf1_score_macro                    0.943563  0.982144  0.956960  0.935569   \nf1_score_micro                    0.943437  0.982321  0.956989  0.935771   \nf1_score_weighted                 0.943464  0.982211  0.957153  0.935708   \nlog_loss                          0.774787  0.134813  0.198793  0.365917   \nnorm_macro_recall                 0.937979  0.980393  0.952454  0.929781   \nprecision_score_macro             0.944564  0.982593  0.957986  0.937136   \nprecision_score_micro             0.943437  0.982321  0.956989  0.935771   \nprecision_score_weighted          0.945145  0.982773  0.958561  0.938472   \nrecall_score_macro                0.944181  0.982353  0.957209  0.936803   \nrecall_score_micro                0.943437  0.982321  0.956989  0.935771   \nrecall_score_weighted             0.943437  0.982321  0.956989  0.935771   \nweighted_accuracy                 0.942616  0.982320  0.956726  0.934636   \n\n                                         8         9    ...           20  \\\nAUC_macro                         0.988989  0.966443    ...     0.999494   \nAUC_micro                         0.990063  0.961402    ...     0.999634   \nAUC_weighted                      0.988991  0.966332    ...     0.999506   \nAUC_weighted_max                  0.998958  0.998958    ...     0.999506   \naccuracy                          0.900999  0.783743    ...     0.982325   \naverage_precision_score_macro     0.942835  0.871795    ...     0.996819   \naverage_precision_score_micro     0.946554  0.830287    ...     0.997329   \naverage_precision_score_weighted  0.943403  0.872376    ...     0.996894   \nbalanced_accuracy                 0.900893  0.784445    ...     0.982350   \nf1_score_macro                    0.900288  0.765376    ...     0.982284   \nf1_score_micro                    0.900999  0.783743    ...     0.982325   \nf1_score_weighted                 0.900840  0.766262    ...     0.982354   \nlog_loss                          1.463401  1.562470    ...     0.119634   \nnorm_macro_recall                 0.889881  0.760494    ...     0.980389   \nprecision_score_macro             0.903527  0.803218    ...     0.982569   \nprecision_score_micro             0.900999  0.783743    ...     0.982325   \nprecision_score_weighted          0.904588  0.804456    ...     0.982729   \nrecall_score_macro                0.900893  0.784445    ...     0.982350   \nrecall_score_micro                0.900999  0.783743    ...     0.982325   \nrecall_score_weighted             0.900999  0.783743    ...     0.982325   \nweighted_accuracy                 0.900943  0.782652    ...     0.982332   \n\n                                        21        22        23        24  \\\nAUC_macro                         0.996448  0.999658  0.996205  0.999417   \nAUC_micro                         0.996734  0.999796  0.996748  0.999436   \nAUC_weighted                      0.996461  0.999664  0.996246  0.999407   \nAUC_weighted_max                  0.999506  0.999664  0.999664  0.999664   \naccuracy                          0.935765  0.985859  0.954040  0.968773   \naverage_precision_score_macro     0.981190  0.998110  0.979943  0.995863   \naverage_precision_score_micro     0.982452  0.998559  0.981062  0.995914   \naverage_precision_score_weighted  0.981394  0.998127  0.980296  0.995847   \nbalanced_accuracy                 0.935090  0.985809  0.954286  0.969021   \nf1_score_macro                    0.934877  0.985949  0.954017  0.969023   \nf1_score_micro                    0.935765  0.985859  0.954040  0.968773   \nf1_score_weighted                 0.935797  0.985862  0.954093  0.968735   \nlog_loss                          0.309422  0.108929  0.271297  0.099987   \nnorm_macro_recall                 0.927877  0.984232  0.949207  0.965579   \nprecision_score_macro             0.938654  0.986342  0.954860  0.969879   \nprecision_score_micro             0.935765  0.985859  0.954040  0.968773   \nprecision_score_weighted          0.939749  0.986116  0.955271  0.969524   \nrecall_score_macro                0.935090  0.985809  0.954286  0.969021   \nrecall_score_micro                0.935765  0.985859  0.954040  0.968773   \nrecall_score_weighted             0.935765  0.985859  0.954040  0.968773   \nweighted_accuracy                 0.936471  0.985930  0.953742  0.968452   \n\n                                        25        26        27        28  \\\nAUC_macro                         0.999492  0.996261  0.998764  0.999495   \nAUC_micro                         0.999627  0.996498  0.998829  0.999634   \nAUC_weighted                      0.999502  0.996307  0.998790  0.999507   \nAUC_weighted_max                  0.999664  0.999664  0.999664  0.999664   \naccuracy                          0.981735  0.939302  0.977016  0.982325   \naverage_precision_score_macro     0.996852  0.982886  0.995572  0.996832   \naverage_precision_score_micro     0.997289  0.983902  0.995405  0.997330   \naverage_precision_score_weighted  0.996916  0.983087  0.995413  0.996905   \nbalanced_accuracy                 0.981779  0.938729  0.977205  0.982350   \nf1_score_macro                    0.981763  0.938790  0.977133  0.982284   \nf1_score_micro                    0.981735  0.939302  0.977016  0.982325   \nf1_score_weighted                 0.981762  0.939428  0.976899  0.982354   \nlog_loss                          0.120793  0.324571  0.130809  0.119634   \nnorm_macro_recall                 0.979755  0.931921  0.974672  0.980389   \nprecision_score_macro             0.982100  0.942509  0.977890  0.982569   \nprecision_score_micro             0.981735  0.939302  0.977016  0.982325   \nprecision_score_weighted          0.982136  0.943180  0.977634  0.982729   \nrecall_score_macro                0.981779  0.938729  0.977205  0.982350   \nrecall_score_micro                0.981735  0.939302  0.977016  0.982325   \nrecall_score_weighted             0.981735  0.939302  0.977016  0.982325   \nweighted_accuracy                 0.981700  0.939862  0.976809  0.982332   \n\n                                        29  \nAUC_macro                         0.999658  \nAUC_micro                         0.999796  \nAUC_weighted                      0.999664  \nAUC_weighted_max                  0.999664  \naccuracy                          0.985859  \naverage_precision_score_macro     0.998110  \naverage_precision_score_micro     0.998559  \naverage_precision_score_weighted  0.998127  \nbalanced_accuracy                 0.985809  \nf1_score_macro                    0.985949  \nf1_score_micro                    0.985859  \nf1_score_weighted                 0.985862  \nlog_loss                          0.108929  \nnorm_macro_recall                 0.984232  \nprecision_score_macro             0.986342  \nprecision_score_micro             0.985859  \nprecision_score_weighted          0.986116  \nrecall_score_macro                0.985809  \nrecall_score_micro                0.985859  \nrecall_score_weighted             0.985859  \nweighted_accuracy                 0.985930  \n\n[21 rows x 30 columns]"
          },
          "metadata": {}
        }
      ]
    },
    {
      "metadata": {},
      "cell_type": "markdown",
      "source": "## 7. Récupération du meilleur modèle\n\nBelow we select the best pipeline from our iterations. The `get_output` method returns the best run and the fitted model. The Model includes the pipeline and any pre-processing.  Overloads on `get_output` allow you to retrieve the best run and fitted model for *any* logged metric or for a particular *iteration*."
    },
    {
      "metadata": {
        "trusted": true
      },
      "cell_type": "code",
      "source": "best_run, fitted_model = local_run.get_output()\nprint(best_run)\nprint(fitted_model)",
      "execution_count": 16,
      "outputs": [
        {
          "output_type": "stream",
          "text": "Run(Experiment: automl-local-clustering,\nId: AutoML_69eeff87-6863-44ca-a245-762a6c1879b7_29,\nType: None,\nStatus: Completed)\nPipeline(memory=None,\n     steps=[('MinMaxScaler', MinMaxScaler(copy=True, feature_range=(0, 1))), ('SVCWrapper', SVCWrapper(C=1048.1131341546852, class_weight=None, kernel='rbf',\n      probability=True, random_state=None))])\n",
          "name": "stdout"
        }
      ]
    },
    {
      "metadata": {},
      "cell_type": "markdown",
      "source": "### 7.1 Changement métrique\nShow the run and the model that has the smallest `f1_score_weighted` value:"
    },
    {
      "metadata": {
        "trusted": true
      },
      "cell_type": "code",
      "source": "lookup_metric = \"f1_score_weighted\"\nbest_run, fitted_model = local_run.get_output(metric = lookup_metric)\nprint(best_run)\nprint(fitted_model)",
      "execution_count": 17,
      "outputs": [
        {
          "output_type": "stream",
          "text": "Run(Experiment: automl-local-clustering,\nId: AutoML_69eeff87-6863-44ca-a245-762a6c1879b7_29,\nType: None,\nStatus: Completed)\nPipeline(memory=None,\n     steps=[('MinMaxScaler', MinMaxScaler(copy=True, feature_range=(0, 1))), ('SVCWrapper', SVCWrapper(C=1048.1131341546852, class_weight=None, kernel='rbf',\n      probability=True, random_state=None))])\n",
          "name": "stdout"
        }
      ]
    },
    {
      "metadata": {},
      "cell_type": "markdown",
      "source": "Model from a Specific Iteration\nShow the run and the model from the third iteration:"
    },
    {
      "metadata": {
        "trusted": true
      },
      "cell_type": "code",
      "source": "iteration = 3\nthird_run, third_model = local_run.get_output(iteration = iteration)\nprint(third_run)\nprint(third_model)",
      "execution_count": 18,
      "outputs": [
        {
          "output_type": "stream",
          "text": "Run(Experiment: automl-local-clustering,\nId: AutoML_69eeff87-6863-44ca-a245-762a6c1879b7_3,\nType: None,\nStatus: Completed)\nPipeline(memory=None,\n     steps=[('StandardScalerWrapper', <automl.client.core.common.model_wrappers.StandardScalerWrapper object at 0x7f827153a4e0>), ('LightGBMClassifier', <automl.client.core.common.model_wrappers.LightGBMClassifier object at 0x7f827153afd0>)])\n",
          "name": "stdout"
        }
      ]
    },
    {
      "metadata": {},
      "cell_type": "markdown",
      "source": "## 8. Test du modèle\n\n### 8.1 Chargement des données"
    },
    {
      "metadata": {
        "trusted": true
      },
      "cell_type": "code",
      "source": "digits = datasets.load_digits()\nX_test = digits.data[:10, :]\ny_test = digits.target[:10]\nimages = digits.images[:10]",
      "execution_count": 19,
      "outputs": []
    },
    {
      "metadata": {},
      "cell_type": "markdown",
      "source": "### 8.2 Test\nWe will try to predict 2 digits and see how our model works."
    },
    {
      "metadata": {
        "trusted": true
      },
      "cell_type": "code",
      "source": "# Randomly select digits and test.\nfor index in np.random.choice(len(y_test), 2, replace = False):\n    print(index)\n    predicted = fitted_model.predict(X_test[index:index + 1])[0]\n    label = y_test[index]\n    title = \"Label value = %d  Predicted value = %d \" % (label, predicted)\n    fig = plt.figure(1, figsize = (3,3))\n    ax1 = fig.add_axes((0,0,.8,.8))\n    ax1.set_title(title)\n    plt.imshow(images[index], cmap = plt.cm.gray_r, interpolation = 'nearest')\n    plt.show()",
      "execution_count": 20,
      "outputs": [
        {
          "output_type": "stream",
          "text": "6\n",
          "name": "stdout"
        },
        {
          "output_type": "display_data",
          "data": {
            "image/png": "[encoded data removed]",
            "text/plain": "<Figure size 216x216 with 1 Axes>"
          },
          "metadata": {
            "needs_background": "light"
          }
        },
        {
          "output_type": "stream",
          "text": "3\n",
          "name": "stdout"
        },
        {
          "output_type": "display_data",
          "data": {
            "image/png": "[encoded data removed]",
            "text/plain": "<Figure size 216x216 with 1 Axes>"
          },
          "metadata": {
            "needs_background": "light"
          }
        }
      ]
    },
    {
      "metadata": {
        "trusted": true
      },
      "cell_type": "markdown",
      "source": "> Fin"
    },
    {
      "metadata": {
        "trusted": true
      },
      "cell_type": "code",
      "source": "",
      "execution_count": null,
      "outputs": []
    }
  ],
  "metadata": {
    "authors": [
      {
        "name": "savitam"
      }
    ],
    "kernelspec": {
      "name": "python36",
      "display_name": "Python 3.6",
      "language": "python"
    },
    "language_info": {
      "mimetype": "text/x-python",
      "nbconvert_exporter": "python",
      "name": "python",
      "pygments_lexer": "ipython3",
      "version": "3.6.6",
      "file_extension": ".py",
      "codemirror_mode": {
        "version": 3,
        "name": "ipython"
      }
    }
  },
  "nbformat": 4,
  "nbformat_minor": 2
}