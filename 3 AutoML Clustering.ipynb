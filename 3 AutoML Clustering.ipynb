{
  "cells": [
    {
      "metadata": {},
      "cell_type": "markdown",
      "source": "# 3. AutoML : Classification des données\n\n\n<BR>\n    \nIn this example we use the scikit-learn's [digit dataset](http://scikit-learn.org/stable/datasets/index.html#optical-recognition-of-handwritten-digits-dataset) to showcase how you can use AutoML for a simple classification problem.\n\nMake sure you have executed the [00.configuration](00.configuration.ipynb) before running this notebook.\n\nIn this notebook you will learn how to:\n- Create an `Experiment` in an existing `Workspace`.\n- Configure AutoML using `AutoMLConfig`.\n- Train the model using local compute.\n- Explore the results.\n- Test the best fitted model.\n"
    },
    {
      "metadata": {},
      "cell_type": "markdown",
      "source": "## 0. Introduction\n\nAvec Azure ML service :\n- Select your experiment type: Classification, Regression or Forecasting<br>\n- Data source, formats, and fetch data<br>\n- Choose your compute target: local or remote<br>\n- Automated machine learning experiment settings<br>\n- Run an automated machine learning experiment<br>\n- Explore model metrics<br>\n- Register and deploy model<br>\n"
    },
    {
      "metadata": {},
      "cell_type": "markdown",
      "source": "Documentation :\n> https://docs.microsoft.com/en-us/azure/machine-learning/service/how-to-automated-ml"
    },
    {
      "metadata": {},
      "cell_type": "markdown",
      "source": "## 1. Informations\n\nAs part of the setup you have already created an Azure ML `Workspace` object. For AutoML you will need to create an `Experiment` object, which is a named object in a `Workspace` used to run experiments."
    },
    {
      "metadata": {
        "trusted": true
      },
      "cell_type": "code",
      "source": "import azureml.core\nprint(\"Version Azure ML Service :\", azureml.core.VERSION)",
      "execution_count": 1,
      "outputs": [
        {
          "output_type": "stream",
          "text": "Version Azure ML Service : 1.0.2\n",
          "name": "stdout"
        }
      ]
    },
    {
      "metadata": {
        "trusted": true
      },
      "cell_type": "code",
      "source": "import logging\nimport os\nimport random\n\nfrom matplotlib import pyplot as plt\nfrom matplotlib.pyplot import imshow\nimport numpy as np\nimport pandas as pd\nfrom sklearn import datasets\n\nimport azureml.core\nfrom azureml.core.experiment import Experiment\nfrom azureml.core.workspace import Workspace\nfrom azureml.train.automl import AutoMLConfig\nfrom azureml.train.automl.run import AutoMLRun",
      "execution_count": 2,
      "outputs": []
    },
    {
      "metadata": {},
      "cell_type": "markdown",
      "source": "## 2. Connexion workspace Azure ML Service"
    },
    {
      "metadata": {
        "trusted": true
      },
      "cell_type": "code",
      "source": "ws = Workspace.from_config()\n\n# Choose a name for the experiment and specify the project folder.\nexperiment_name = 'automl-local-clustering'\nproject_folder = './sample_projects/automl-local-clustering'\n\nexperiment = Experiment(ws, experiment_name)\n\noutput = {}\noutput['SDK version'] = azureml.core.VERSION\noutput['Subscription ID'] = ws.subscription_id\noutput['Workspace Name'] = ws.name\noutput['Resource Group'] = ws.resource_group\noutput['Location'] = ws.location\noutput['Project Directory'] = project_folder\noutput['Experiment Name'] = experiment.name\npd.set_option('display.max_colwidth', -1)\npd.DataFrame(data = output, index = ['']).T",
      "execution_count": 3,
      "outputs": [
        {
          "output_type": "stream",
          "text": "Found the config file in: /home/nbuser/library/aml_config/config.json\n",
          "name": "stdout"
        },
        {
          "output_type": "execute_result",
          "execution_count": 3,
          "data": {
            "text/html": "<div>\n<style scoped>\n    .dataframe tbody tr th:only-of-type {\n        vertical-align: middle;\n    }\n\n    .dataframe tbody tr th {\n        vertical-align: top;\n    }\n\n    .dataframe thead th {\n        text-align: right;\n    }\n</style>\n<table border=\"1\" class=\"dataframe\">\n  <thead>\n    <tr style=\"text-align: right;\">\n      <th></th>\n      <th></th>\n    </tr>\n  </thead>\n  <tbody>\n    <tr>\n      <th>Experiment Name</th>\n      <td>automl-local-clustering</td>\n    </tr>\n    <tr>\n      <th>Location</th>\n      <td>westeurope</td>\n    </tr>\n    <tr>\n      <th>Project Directory</th>\n      <td>./sample_projects/automl-local-clustering</td>\n    </tr>\n    <tr>\n      <th>Resource Group</th>\n      <td>resgrpAMLS</td>\n    </tr>\n    <tr>\n      <th>SDK version</th>\n      <td>1.0.2</td>\n    </tr>\n    <tr>\n      <th>Subscription ID</th>\n      <td>70b8f39e-8863-49f7-b6ba-34a80799550c</td>\n    </tr>\n    <tr>\n      <th>Workspace Name</th>\n      <td>AMLSworkspace</td>\n    </tr>\n  </tbody>\n</table>\n</div>",
            "text/plain": "                                                            \nExperiment Name    automl-local-clustering                  \nLocation           westeurope                               \nProject Directory  ./sample_projects/automl-local-clustering\nResource Group     resgrpAMLS                               \nSDK version        1.0.2                                    \nSubscription ID    70b8f39e-8863-49f7-b6ba-34a80799550c     \nWorkspace Name     AMLSworkspace                            "
          },
          "metadata": {}
        }
      ]
    },
    {
      "metadata": {},
      "cell_type": "markdown",
      "source": "## Diagnostics\n\nOpt-in diagnostics for better experience, quality, and security of future releases."
    },
    {
      "metadata": {
        "trusted": true
      },
      "cell_type": "code",
      "source": "from azureml.telemetry import set_diagnostics_collection\nset_diagnostics_collection(send_diagnostics = True)",
      "execution_count": 4,
      "outputs": []
    },
    {
      "metadata": {},
      "cell_type": "markdown",
      "source": "## 3. Chargement des données\n\nThis uses scikit-learn's [load_digits](http://scikit-learn.org/stable/modules/generated/sklearn.datasets.load_digits.html) method."
    },
    {
      "metadata": {
        "trusted": true
      },
      "cell_type": "code",
      "source": "from sklearn import datasets\n\ndigits = datasets.load_digits()\n\n# Exclude the first 100 rows from training so that they can be used for test.\nX_train = digits.data[100:,:]\ny_train = digits.target[100:]",
      "execution_count": 5,
      "outputs": []
    },
    {
      "metadata": {},
      "cell_type": "markdown",
      "source": "## 4. Configuration AutoML\n\nInstantiate an `AutoMLConfig` object to specify the settings and data used to run the experiment.\n\n|Property|Description|\n|-|-|\n|**task**|classification or regression|\n|**primary_metric**|This is the metric that you want to optimize. Classification supports the following primary metrics: <br><i>accuracy</i><br><i>AUC_weighted</i><br><i>balanced_accuracy</i><br><i>average_precision_score_weighted</i><br><i>precision_score_weighted</i>|\n|**max_time_sec**|Time limit in seconds for each iteration.|\n|**iterations**|Number of iterations. In each iteration AutoML trains a specific pipeline with the data.|\n|**n_cross_validations**|Number of cross validation splits.|\n|**X**|(sparse) array-like, shape = [n_samples, n_features]|\n|**y**|(sparse) array-like, shape = [n_samples, ], [n_samples, n_classes]<br>Multi-class targets. An indicator matrix turns on multilabel classification. This should be an array of integers.|\n|**path**|Relative path to the project folder. AutoML stores configuration files for the experiment under this folder. You can specify a new empty folder.|"
    },
    {
      "metadata": {},
      "cell_type": "markdown",
      "source": "**K-Folds Cross Validation**\n\nUse `n_cross_validations` setting to specify the number of cross validations. The training data set will be randomly split into `n_cross_validations` folds of equal size. During each cross validation round, one of the folds will be used for validation of the model trained on the remaining folds. This process repeats for `n_cross_validations` rounds until each fold is used once as validation set. The average scores across all `cross_validations rounds` will be reported, and the corresponding model will be retrained on the whole training data set.\n\n**Monte Carlo Cross Validation (a.k.a. Repeated Random Sub-Sampling)**\n\nUse `validation_size` to specify the percentage of the training dataset that should be used for validation, and use `n_cross_validations` to specify the number of cross validations. During each cross validation round, a subset of size validation_size will be randomly selected for validation of the model trained on the remaining data. Finally, the average scores across all `n_cross_validations` rounds will be reported, and the corresponding model will be retrained on the whole training data set.\n\n** Métriques disponibles** :<br>`\nAccuracy\nAUC_weighted\nprecision_score_weighted\nbalanced_accuracy\naverage_precision_score_weighted`\n\n\nDocumentation :\nhttps://docs.microsoft.com/en-us/azure/machine-learning/service/how-to-configure-auto-train"
    },
    {
      "metadata": {},
      "cell_type": "markdown",
      "source": "### 4.1 Liste des modèles : \n\n<img src=\"https://raw.githubusercontent.com/retkowsky/workshop_AzureMLService/master/Liste%20des%20mod%C3%A8les%20AUTOML.jpg\" width=\"800\" height=\"800\">\n\nhttps://docs.microsoft.com/en-us/azure/machine-learning/service/how-to-configure-auto-train"
    },
    {
      "metadata": {
        "trusted": true
      },
      "cell_type": "markdown",
      "source": "### 4.2 Configuration"
    },
    {
      "metadata": {
        "trusted": true
      },
      "cell_type": "code",
      "source": "automl_config = AutoMLConfig(task = 'classification',\n                             debug_log = 'automl_errors.log',\n                             primary_metric = 'AUC_weighted',\n                             iteration_timeout_minutes = 3,\n                             iterations = 3,\n                             n_cross_validations = 3,\n                             verbosity = logging.INFO,\n                             X = X_train, \n                             y = y_train,\n                             path = project_folder)",
      "execution_count": 6,
      "outputs": []
    },
    {
      "metadata": {},
      "cell_type": "markdown",
      "source": "## 5. AutoML\n\nCall the `submit` method on the experiment object and pass the run configuration. Execution of local runs is synchronous. Depending on the data and the number of iterations this can run for a while.\nIn this example, we specify `show_output = True` to print currently running iterations to the console.\n\n`AUC_weighted` is the **metric** used."
    },
    {
      "metadata": {
        "trusted": true
      },
      "cell_type": "code",
      "source": "local_run = experiment.submit(automl_config, show_output = True)",
      "execution_count": 7,
      "outputs": [
        {
          "output_type": "stream",
          "text": "Parent Run ID: AutoML_6c3b7279-9f0e-4519-af7d-191f7bb0f8f6\n*******************************************************************************************\nITERATION: The iteration being evaluated.\nPIPELINE: A summary description of the pipeline being evaluated.\nDURATION: Time taken for the current iteration.\nMETRIC: The result of computing score on the fitted pipeline.\nBEST: The best observed score thus far.\n*******************************************************************************************\n\n ITERATION   PIPELINE                                       DURATION      METRIC      BEST\n         0   StandardScalerWrapper KNN                      0:00:56       0.9988    0.9988\n         1   MinMaxScaler LightGBM                          0:01:12       0.9983    0.9988\n         2   ",
          "name": "stdout"
        },
        {
          "output_type": "stream",
          "text": "MSI: Failed to retrieve a token from 'http://localhost:25198/nb/api/nbsvc/oauth2/token' with an error of 'HTTPConnectionPool(host='localhost', port=25198): Max retries exceeded with url: /nb/api/nbsvc/oauth2/token (Caused by NewConnectionError('<urllib3.connection.HTTPConnection object at 0x7fae5fd9d518>: Failed to establish a new connection: [Errno -3] Temporary failure in name resolution',))'. This could be caused by the MSI extension not yet fullly provisioned.\n",
          "name": "stderr"
        },
        {
          "output_type": "stream",
          "text": " Ensemble                                      0:01:17       0.9994    0.9994\n",
          "name": "stdout"
        }
      ]
    },
    {
      "metadata": {
        "trusted": true
      },
      "cell_type": "code",
      "source": "local_run",
      "execution_count": 8,
      "outputs": [
        {
          "output_type": "execute_result",
          "execution_count": 8,
          "data": {
            "text/html": "<table style=\"width:100%\"><tr><th>Experiment</th><th>Id</th><th>Type</th><th>Status</th><th>Details Page</th><th>Docs Page</th></tr><tr><td>automl-local-clustering</td><td>AutoML_6c3b7279-9f0e-4519-af7d-191f7bb0f8f6</td><td>automl</td><td>Completed</td><td><a href=\"https://mlworkspace.azure.ai/portal/subscriptions/70b8f39e-8863-49f7-b6ba-34a80799550c/resourceGroups/resgrpAMLS/providers/Microsoft.MachineLearningServices/workspaces/AMLSworkspace/experiments/automl-local-clustering/runs/AutoML_6c3b7279-9f0e-4519-af7d-191f7bb0f8f6\" target=\"_blank\" rel=\"noopener\">Link to Azure Portal</a></td><td><a href=\"https://docs.microsoft.com/en-us/python/api/overview/azure/ml/intro?view=azure-ml-py\" target=\"_blank\" rel=\"noopener\">Link to Documentation</a></td></tr></table>",
            "text/plain": "Run(Experiment: automl-local-clustering,\nId: AutoML_6c3b7279-9f0e-4519-af7d-191f7bb0f8f6,\nType: automl,\nStatus: Completed)"
          },
          "metadata": {}
        }
      ]
    },
    {
      "metadata": {},
      "cell_type": "markdown",
      "source": "Optionally, you can continue an interrupted local run by calling `continue_experiment` without the `iterations` parameter, or run more iterations for a completed run by specifying the `iterations` parameter:"
    },
    {
      "metadata": {
        "trusted": true
      },
      "cell_type": "markdown",
      "source": "#local_run = local_run.continue_experiment(X = X_train, \n                                          y = y_train, \n                                          show_output = True,\n                                          iterations = 5)"
    },
    {
      "metadata": {
        "trusted": true
      },
      "cell_type": "code",
      "source": "#local_run",
      "execution_count": 9,
      "outputs": []
    },
    {
      "metadata": {},
      "cell_type": "markdown",
      "source": "## 6. Exploration des résultats AutoML"
    },
    {
      "metadata": {},
      "cell_type": "markdown",
      "source": "### 6.1 Notebook Widget\n\nThe widget will first report a \"loading\" status while running the first iteration. After completing the first iteration, an auto-updating graph and table will be shown. The widget will refresh once per minute, so you should see the graph update as child runs complete.\n\n**Note:** The widget displays a link at the bottom. Use this link to open a web interface to explore the individual run details."
    },
    {
      "metadata": {
        "trusted": true
      },
      "cell_type": "code",
      "source": "from azureml.widgets import RunDetails\nRunDetails(local_run).show() ",
      "execution_count": 10,
      "outputs": [
        {
          "output_type": "display_data",
          "data": {
            "application/vnd.jupyter.widget-view+json": {
              "model_id": "e829af1c27f94822a7ab359d4a0f65cb",
              "version_minor": 0,
              "version_major": 2
            },
            "text/plain": "_AutoMLWidget(widget_settings={'childWidgetDisplay': 'popup', 'send_telemetry': True, 'log_level': 'INFO', 'sd…"
          },
          "metadata": {}
        }
      ]
    },
    {
      "metadata": {},
      "cell_type": "markdown",
      "source": "\n### 6.2 Métriques par itération\n"
    },
    {
      "metadata": {
        "trusted": true
      },
      "cell_type": "code",
      "source": "children = list(local_run.get_children())\nmetricslist = {}\nfor run in children:\n    properties = run.get_properties()\n    metrics = {k: v for k, v in run.get_metrics().items() if isinstance(v, float)}\n    metricslist[int(properties['iteration'])] = metrics\n\nrundata = pd.DataFrame(metricslist).sort_index(1)\nrundata",
      "execution_count": 11,
      "outputs": [
        {
          "output_type": "execute_result",
          "execution_count": 11,
          "data": {
            "text/html": "<div>\n<style scoped>\n    .dataframe tbody tr th:only-of-type {\n        vertical-align: middle;\n    }\n\n    .dataframe tbody tr th {\n        vertical-align: top;\n    }\n\n    .dataframe thead th {\n        text-align: right;\n    }\n</style>\n<table border=\"1\" class=\"dataframe\">\n  <thead>\n    <tr style=\"text-align: right;\">\n      <th></th>\n      <th>0</th>\n      <th>1</th>\n      <th>2</th>\n    </tr>\n  </thead>\n  <tbody>\n    <tr>\n      <th>AUC_macro</th>\n      <td>0.998831</td>\n      <td>0.998365</td>\n      <td>0.999438</td>\n    </tr>\n    <tr>\n      <th>AUC_micro</th>\n      <td>0.999016</td>\n      <td>0.998403</td>\n      <td>0.999516</td>\n    </tr>\n    <tr>\n      <th>AUC_weighted</th>\n      <td>0.998831</td>\n      <td>0.998341</td>\n      <td>0.999431</td>\n    </tr>\n    <tr>\n      <th>AUC_weighted_max</th>\n      <td>0.998831</td>\n      <td>0.998831</td>\n      <td>0.999431</td>\n    </tr>\n    <tr>\n      <th>accuracy</th>\n      <td>0.965236</td>\n      <td>0.946971</td>\n      <td>0.974076</td>\n    </tr>\n    <tr>\n      <th>average_precision_score_macro</th>\n      <td>0.993350</td>\n      <td>0.988943</td>\n      <td>0.996166</td>\n    </tr>\n    <tr>\n      <th>average_precision_score_micro</th>\n      <td>0.994107</td>\n      <td>0.989461</td>\n      <td>0.996292</td>\n    </tr>\n    <tr>\n      <th>average_precision_score_weighted</th>\n      <td>0.993454</td>\n      <td>0.988931</td>\n      <td>0.996146</td>\n    </tr>\n    <tr>\n      <th>balanced_accuracy</th>\n      <td>0.965062</td>\n      <td>0.947500</td>\n      <td>0.974723</td>\n    </tr>\n    <tr>\n      <th>f1_score_macro</th>\n      <td>0.965093</td>\n      <td>0.947203</td>\n      <td>0.974355</td>\n    </tr>\n    <tr>\n      <th>f1_score_micro</th>\n      <td>0.965236</td>\n      <td>0.946971</td>\n      <td>0.974076</td>\n    </tr>\n    <tr>\n      <th>f1_score_weighted</th>\n      <td>0.965333</td>\n      <td>0.947077</td>\n      <td>0.974067</td>\n    </tr>\n    <tr>\n      <th>log_loss</th>\n      <td>0.149926</td>\n      <td>0.231995</td>\n      <td>0.165937</td>\n    </tr>\n    <tr>\n      <th>norm_macro_recall</th>\n      <td>0.961180</td>\n      <td>0.941667</td>\n      <td>0.971915</td>\n    </tr>\n    <tr>\n      <th>precision_score_macro</th>\n      <td>0.966393</td>\n      <td>0.948406</td>\n      <td>0.974626</td>\n    </tr>\n    <tr>\n      <th>precision_score_micro</th>\n      <td>0.965236</td>\n      <td>0.946971</td>\n      <td>0.974076</td>\n    </tr>\n    <tr>\n      <th>precision_score_weighted</th>\n      <td>0.966693</td>\n      <td>0.948637</td>\n      <td>0.974701</td>\n    </tr>\n    <tr>\n      <th>recall_score_macro</th>\n      <td>0.965062</td>\n      <td>0.947500</td>\n      <td>0.974723</td>\n    </tr>\n    <tr>\n      <th>recall_score_micro</th>\n      <td>0.965236</td>\n      <td>0.946971</td>\n      <td>0.974076</td>\n    </tr>\n    <tr>\n      <th>recall_score_weighted</th>\n      <td>0.965236</td>\n      <td>0.946971</td>\n      <td>0.974076</td>\n    </tr>\n    <tr>\n      <th>weighted_accuracy</th>\n      <td>0.965412</td>\n      <td>0.946363</td>\n      <td>0.973428</td>\n    </tr>\n  </tbody>\n</table>\n</div>",
            "text/plain": "                                         0         1         2\nAUC_macro                         0.998831  0.998365  0.999438\nAUC_micro                         0.999016  0.998403  0.999516\nAUC_weighted                      0.998831  0.998341  0.999431\nAUC_weighted_max                  0.998831  0.998831  0.999431\naccuracy                          0.965236  0.946971  0.974076\naverage_precision_score_macro     0.993350  0.988943  0.996166\naverage_precision_score_micro     0.994107  0.989461  0.996292\naverage_precision_score_weighted  0.993454  0.988931  0.996146\nbalanced_accuracy                 0.965062  0.947500  0.974723\nf1_score_macro                    0.965093  0.947203  0.974355\nf1_score_micro                    0.965236  0.946971  0.974076\nf1_score_weighted                 0.965333  0.947077  0.974067\nlog_loss                          0.149926  0.231995  0.165937\nnorm_macro_recall                 0.961180  0.941667  0.971915\nprecision_score_macro             0.966393  0.948406  0.974626\nprecision_score_micro             0.965236  0.946971  0.974076\nprecision_score_weighted          0.966693  0.948637  0.974701\nrecall_score_macro                0.965062  0.947500  0.974723\nrecall_score_micro                0.965236  0.946971  0.974076\nrecall_score_weighted             0.965236  0.946971  0.974076\nweighted_accuracy                 0.965412  0.946363  0.973428"
          },
          "metadata": {}
        }
      ]
    },
    {
      "metadata": {},
      "cell_type": "markdown",
      "source": "## 7. Récupération du meilleur modèle\n\nBelow we select the best pipeline from our iterations. The `get_output` method returns the best run and the fitted model. The Model includes the pipeline and any pre-processing.  Overloads on `get_output` allow you to retrieve the best run and fitted model for *any* logged metric or for a particular *iteration*."
    },
    {
      "metadata": {
        "trusted": true
      },
      "cell_type": "code",
      "source": "best_run, fitted_model = local_run.get_output()\nprint(best_run)\nprint(fitted_model)",
      "execution_count": 12,
      "outputs": [
        {
          "output_type": "stream",
          "text": "Run(Experiment: automl-local-clustering,\nId: AutoML_6c3b7279-9f0e-4519-af7d-191f7bb0f8f6_2,\nType: None,\nStatus: Completed)\nPipeline(memory=None,\n     steps=[('prefittedsoftvotingclassifier', PreFittedSoftVotingClassifier(classification_labels=None,\n               estimators=[('KNN', Pipeline(memory=None,\n     steps=[('StandardScalerWrapper', <automl.client.core.common.model_wrappers.StandardScalerWrapper object at 0x7fae5f5d8048>), ('KNeighborsCl...          flatten_transform=None,\n               weights=[0.3333333333333333, 0.3333333333333333]))])\n",
          "name": "stdout"
        }
      ]
    },
    {
      "metadata": {},
      "cell_type": "markdown",
      "source": "### 7.1 Changement de la métrique AutoML\n"
    },
    {
      "metadata": {
        "trusted": true
      },
      "cell_type": "code",
      "source": "lookup_metric = \"f1_score_weighted\"\nbest_run, fitted_model = local_run.get_output(metric = lookup_metric)\nprint(best_run)\nprint(fitted_model)",
      "execution_count": 13,
      "outputs": [
        {
          "output_type": "stream",
          "text": "Run(Experiment: automl-local-clustering,\nId: AutoML_6c3b7279-9f0e-4519-af7d-191f7bb0f8f6_2,\nType: None,\nStatus: Completed)\nPipeline(memory=None,\n     steps=[('prefittedsoftvotingclassifier', PreFittedSoftVotingClassifier(classification_labels=None,\n               estimators=[('KNN', Pipeline(memory=None,\n     steps=[('StandardScalerWrapper', <automl.client.core.common.model_wrappers.StandardScalerWrapper object at 0x7fae5f891ba8>), ('KNeighborsCl...          flatten_transform=None,\n               weights=[0.3333333333333333, 0.3333333333333333]))])\n",
          "name": "stdout"
        }
      ]
    },
    {
      "metadata": {},
      "cell_type": "markdown",
      "source": "Model from a Specific Iteration\nShow the run and the model from the third iteration:"
    },
    {
      "metadata": {
        "trusted": true
      },
      "cell_type": "code",
      "source": "iteration = 2\nthird_run, third_model = local_run.get_output(iteration = iteration)\nprint(third_run)\nprint(third_model)",
      "execution_count": 15,
      "outputs": [
        {
          "output_type": "stream",
          "text": "Run(Experiment: automl-local-clustering,\nId: AutoML_6c3b7279-9f0e-4519-af7d-191f7bb0f8f6_2,\nType: None,\nStatus: Completed)\nPipeline(memory=None,\n     steps=[('prefittedsoftvotingclassifier', PreFittedSoftVotingClassifier(classification_labels=None,\n               estimators=[('KNN', Pipeline(memory=None,\n     steps=[('StandardScalerWrapper', <automl.client.core.common.model_wrappers.StandardScalerWrapper object at 0x7fae5f1943c8>), ('KNeighborsCl...          flatten_transform=None,\n               weights=[0.3333333333333333, 0.3333333333333333]))])\n",
          "name": "stdout"
        }
      ]
    },
    {
      "metadata": {},
      "cell_type": "markdown",
      "source": "## 8. Test du modèle\n\n### 8.1 Chargement des données"
    },
    {
      "metadata": {
        "trusted": true
      },
      "cell_type": "code",
      "source": "digits = datasets.load_digits()\nX_test = digits.data[:10, :]\ny_test = digits.target[:10]\nimages = digits.images[:10]",
      "execution_count": 16,
      "outputs": []
    },
    {
      "metadata": {},
      "cell_type": "markdown",
      "source": "### 8.2 Test\nWe will try to predict 2 digits and see how our model works."
    },
    {
      "metadata": {
        "trusted": true
      },
      "cell_type": "code",
      "source": "# Randomly select digits and test.\nfor index in np.random.choice(len(y_test), 2, replace = False):\n    print(index)\n    predicted = fitted_model.predict(X_test[index:index + 1])[0]\n    label = y_test[index]\n    title = \"Label value = %d  Predicted value = %d \" % (label, predicted)\n    fig = plt.figure(1, figsize = (3,3))\n    ax1 = fig.add_axes((0,0,.8,.8))\n    ax1.set_title(title)\n    plt.imshow(images[index], cmap = plt.cm.gray_r, interpolation = 'nearest')\n    plt.show()",
      "execution_count": 17,
      "outputs": [
        {
          "output_type": "stream",
          "text": "4\n",
          "name": "stdout"
        },
        {
          "output_type": "display_data",
          "data": {
            "image/png": "[encoded data removed]",
            "text/plain": "<Figure size 216x216 with 1 Axes>"
          },
          "metadata": {
            "needs_background": "light"
          }
        },
        {
          "output_type": "stream",
          "text": "0\n",
          "name": "stdout"
        },
        {
          "output_type": "display_data",
          "data": {
            "image/png": "[encoded data removed]",
            "text/plain": "<Figure size 216x216 with 1 Axes>"
          },
          "metadata": {
            "needs_background": "light"
          }
        }
      ]
    },
    {
      "metadata": {
        "trusted": true
      },
      "cell_type": "markdown",
      "source": "** Documentation disponible :**\n    https://docs.microsoft.com/en-us/azure/machine-learning/service/how-to-configure-auto-train"
    },
    {
      "metadata": {
        "trusted": true
      },
      "cell_type": "markdown",
      "source": "> Fin"
    },
    {
      "metadata": {
        "trusted": true
      },
      "cell_type": "code",
      "source": "",
      "execution_count": null,
      "outputs": []
    }
  ],
  "metadata": {
    "authors": [
      {
        "name": "savitam"
      }
    ],
    "kernelspec": {
      "name": "python36",
      "display_name": "Python 3.6",
      "language": "python"
    },
    "language_info": {
      "mimetype": "text/x-python",
      "nbconvert_exporter": "python",
      "name": "python",
      "pygments_lexer": "ipython3",
      "version": "3.6.6",
      "file_extension": ".py",
      "codemirror_mode": {
        "version": 3,
        "name": "ipython"
      }
    }
  },
  "nbformat": 4,
  "nbformat_minor": 2
}