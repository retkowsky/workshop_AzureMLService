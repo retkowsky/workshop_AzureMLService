{
  "cells": [
    {
      "metadata": {},
      "cell_type": "markdown",
      "source": "# 2. Apprentissage et déploiement Azure Container Instance (ACI) avec Azure ML services\n\n* Load workspace\n* Train a simple regression model directly in the Notebook python kernel\n* Record run history\n* Find the best model in run history and download it.\n* Deploy the model as an Azure Container Instance (ACI)"
    },
    {
      "metadata": {},
      "cell_type": "markdown",
      "source": "## Prerequisites\n1. Make sure you go through the [00. Installation and Configuration](../../00.configuration.ipynb) Notebook first if you haven't. \n\n2. Install following pre-requisite libraries to your conda environment and restart notebook.\n```shell\n(myenv) $ conda install -y matplotlib tqdm scikit-learn\n```\n\n3. Check that ACI (Azure Container Instance) is registered for your Azure Subscription.  "
    },
    {
      "metadata": {
        "trusted": true
      },
      "cell_type": "code",
      "source": "!az provider show -n Microsoft.ContainerInstance -o table",
      "execution_count": 1,
      "outputs": [
        {
          "output_type": "stream",
          "text": "Namespace                    RegistrationState\r\n---------------------------  -------------------\r\nMicrosoft.ContainerInstance  Registered\r\n",
          "name": "stdout"
        }
      ]
    },
    {
      "metadata": {},
      "cell_type": "markdown",
      "source": "If ACI is not registered, run following command to register it. Note that you have to be a subscription owner, or this command will fail."
    },
    {
      "metadata": {
        "trusted": true
      },
      "cell_type": "code",
      "source": "#!az provider register -n Microsoft.ContainerInstance",
      "execution_count": 2,
      "outputs": []
    },
    {
      "metadata": {},
      "cell_type": "markdown",
      "source": "## 1 Informations"
    },
    {
      "metadata": {
        "trusted": true
      },
      "cell_type": "code",
      "source": "import sys\nprint(\"Version Python : \", sys.version)",
      "execution_count": 2,
      "outputs": [
        {
          "output_type": "stream",
          "text": "Version Python :  3.6.6 |Anaconda, Inc.| (default, Jun 28 2018, 17:14:51) \n[GCC 7.2.0]\n",
          "name": "stdout"
        }
      ]
    },
    {
      "metadata": {
        "trusted": true
      },
      "cell_type": "code",
      "source": "#!pip install azureml-sdk",
      "execution_count": 3,
      "outputs": []
    },
    {
      "metadata": {
        "tags": [
          "install"
        ],
        "trusted": true
      },
      "cell_type": "code",
      "source": "from azureml.core import Experiment, Run, Workspace\nimport azureml.core\n\nprint(\"SDK version:\", azureml.core.VERSION)",
      "execution_count": 4,
      "outputs": [
        {
          "output_type": "stream",
          "text": "SDK version: 0.1.74\n",
          "name": "stdout"
        }
      ]
    },
    {
      "metadata": {},
      "cell_type": "markdown",
      "source": "## 1.1 Workspace\n\nInitialize a workspace object from persisted configuration."
    },
    {
      "metadata": {
        "tags": [
          "create workspace"
        ],
        "trusted": true
      },
      "cell_type": "code",
      "source": "ws = Workspace.from_config()\nprint('Workspace name: ' + ws.name, \n      'Azure region: ' + ws.location, \n      'Subscription id: ' + ws.subscription_id, \n      'Resource group: ' + ws.resource_group, sep='\\n')",
      "execution_count": 5,
      "outputs": [
        {
          "output_type": "stream",
          "text": "Found the config file in: /home/nbuser/library/aml_config/config.json\nWorkspace name: MLServiceWorkspace\nAzure region: westeurope\nSubscription id: 70b8f39e-8863-49f7-b6ba-34a80799550c\nResource group: mlserviceresourcegroup\n",
          "name": "stdout"
        }
      ]
    },
    {
      "metadata": {},
      "cell_type": "markdown",
      "source": "## 1.2 Création expérimentation\nChoisir un nom pour l'expérimentation.\nNom entre 3 et 33 caractères !"
    },
    {
      "metadata": {
        "trusted": true
      },
      "cell_type": "code",
      "source": "experiment_name = 'Diabetes'",
      "execution_count": 7,
      "outputs": []
    },
    {
      "metadata": {},
      "cell_type": "markdown",
      "source": "## 2 Apprentissage local Notebook Sci-kit learn"
    },
    {
      "metadata": {
        "trusted": true
      },
      "cell_type": "code",
      "source": "from sklearn.datasets import load_diabetes\nfrom sklearn.linear_model import Ridge\nfrom sklearn.metrics import mean_squared_error\nfrom sklearn.model_selection import train_test_split\nfrom sklearn.externals import joblib\n\nX, y = load_diabetes(return_X_y = True)\ncolumns = ['age', 'gender', 'bmi', 'bp', 's1', 's2', 's3', 's4', 's5', 's6']\nX_train, X_test, y_train, y_test = train_test_split(X, y, test_size=0.2, random_state=0)\ndata = {\n    \"train\":{\"X\": X_train, \"y\": y_train},        \n    \"test\":{\"X\": X_test, \"y\": y_test}\n}",
      "execution_count": 8,
      "outputs": []
    },
    {
      "metadata": {},
      "cell_type": "markdown",
      "source": "### 2.1 Simple Ridge model\nTrain a very simple Ridge regression model in scikit-learn, and save it as a pickle file."
    },
    {
      "metadata": {
        "trusted": true
      },
      "cell_type": "code",
      "source": "reg = Ridge(alpha = 0.03)\nreg.fit(X=data['train']['X'], y=data['train']['y'])\npreds = reg.predict(data['test']['X'])\nprint('MSE = ', mean_squared_error(data['test']['y'], preds))\njoblib.dump(value=reg, filename='modele.pkl');",
      "execution_count": 9,
      "outputs": [
        {
          "output_type": "stream",
          "text": "MSE =  3424.900315896017\n",
          "name": "stdout"
        }
      ]
    },
    {
      "metadata": {},
      "cell_type": "markdown",
      "source": "### 2.2 Ajout tracking expérimentation\nNow, let's add Azure ML experiment logging, and upload persisted model into run record as well."
    },
    {
      "metadata": {
        "tags": [
          "local run",
          "outputs upload"
        ],
        "trusted": true
      },
      "cell_type": "code",
      "source": "experiment = Experiment(workspace=ws, name=experiment_name)\nrun = experiment.start_logging()\n\nrun.tag(\"Description\",\"My first run!\")\nrun.log('alpha', 0.03)\nreg = Ridge(alpha=0.03)\nreg.fit(data['train']['X'], data['train']['y'])\npreds = reg.predict(data['test']['X'])\nrun.log('mse', mean_squared_error(data['test']['y'], preds))\njoblib.dump(value=reg, filename='modele.pkl')\nrun.upload_file(name='outputs/modele.pkl', path_or_stream='./modele.pkl')\n\nrun.complete()",
      "execution_count": 10,
      "outputs": []
    },
    {
      "metadata": {},
      "cell_type": "markdown",
      "source": "We can browse to the recorded run. Please make sure you use Chrome to navigate the run history page."
    },
    {
      "metadata": {
        "trusted": true
      },
      "cell_type": "code",
      "source": "run",
      "execution_count": 11,
      "outputs": [
        {
          "output_type": "execute_result",
          "execution_count": 11,
          "data": {
            "text/html": "<table style=\"width:100%\"><tr><th>Experiment</th><th>Id</th><th>Type</th><th>Status</th><th>Details Page</th><th>Docs Page</th></tr><tr><td>Diabetes</td><td>d5e52746-a371-4220-8e47-156125bafa54</td><td></td><td>Completed</td><td><a href=\"https://mlworkspace.azure.ai/portal/subscriptions/70b8f39e-8863-49f7-b6ba-34a80799550c/resourceGroups/mlserviceresourcegroup/providers/Microsoft.MachineLearningServices/workspaces/MLServiceWorkspace/experiments/Diabetes/runs/d5e52746-a371-4220-8e47-156125bafa54\" target=\"_blank\" rel=\"noopener\">Link to Azure Portal</a></td><td><a href=\"https://docs.microsoft.com/en-us/python/api/azureml-core/azureml.core.run.Run?view=azure-ml-py\" target=\"_blank\" rel=\"noopener\">Link to Documentation</a></td></tr></table>",
            "text/plain": "Run(Experiment: Diabetes,\nId: d5e52746-a371-4220-8e47-156125bafa54,\nType: None,\nStatus: Completed)"
          },
          "metadata": {}
        }
      ]
    },
    {
      "metadata": {},
      "cell_type": "markdown",
      "source": "## 3 Simple parameter sweep\nSweep over alpha values of a sklearn ridge model, and capture metrics and trained model in the Azure ML experiment."
    },
    {
      "metadata": {
        "trusted": true
      },
      "cell_type": "code",
      "source": "import numpy as np\nimport os\nfrom tqdm import tqdm\n\nmodel_name = \"modele.pkl\"\n\n# list of numbers from 0 to 1.0 with a 0.1 interval\nalphas = np.arange(0.0, 1.0, 0.1)\n\n# try a bunch of alpha values in a Linear Regression (Ridge) model\nfor alpha in tqdm(alphas):\n    # create a bunch of runs, each train a model with a different alpha value\n    with experiment.start_logging() as run:\n        # Use Ridge algorithm to build a regression model\n        reg = Ridge(alpha=alpha)\n        reg.fit(X=data[\"train\"][\"X\"], y=data[\"train\"][\"y\"])\n        preds = reg.predict(X=data[\"test\"][\"X\"])\n        mse = mean_squared_error(y_true=data[\"test\"][\"y\"], y_pred=preds)\n\n        # log alpha, mean_squared_error and feature names in run history\n        run.log(name=\"alpha\", value=alpha)\n        run.log(name=\"mse\", value=mse)\n        run.log_list(name=\"columns\", value=columns)\n\n        with open(model_name, \"wb\") as file:\n            joblib.dump(value=reg, filename=file)\n        \n        # upload the serialized model into run history record\n        run.upload_file(name=\"outputs/\" + model_name, path_or_stream=model_name)\n\n        # now delete the serialized model from local folder since it is already uploaded to run history \n        os.remove(path=model_name)",
      "execution_count": 12,
      "outputs": [
        {
          "output_type": "stream",
          "text": "100%|██████████| 10/10 [00:42<00:00,  4.20s/it]\n",
          "name": "stderr"
        }
      ]
    },
    {
      "metadata": {
        "trusted": true
      },
      "cell_type": "code",
      "source": "experiment",
      "execution_count": 13,
      "outputs": [
        {
          "output_type": "execute_result",
          "execution_count": 13,
          "data": {
            "text/html": "<table style=\"width:100%\"><tr><th>Name</th><th>Workspace</th><th>Report Page</th><th>Docs Page</th></tr><tr><td>Diabetes</td><td>MLServiceWorkspace</td><td><a href=\"https://mlworkspace.azure.ai/portal/subscriptions/70b8f39e-8863-49f7-b6ba-34a80799550c/resourceGroups/mlserviceresourcegroup/providers/Microsoft.MachineLearningServices/workspaces/MLServiceWorkspace/experiments/Diabetes\" target=\"_blank\" rel=\"noopener\">Link to Azure Portal</a></td><td><a href=\"https://docs.microsoft.com/en-us/python/api/azureml-core/azureml.core.experiment.Experiment?view=azure-ml-py\" target=\"_blank\" rel=\"noopener\">Link to Documentation</a></td></tr></table>",
            "text/plain": "Experiment(Name: Diabetes,\nWorkspace: MLServiceWorkspace)"
          },
          "metadata": {}
        }
      ]
    },
    {
      "metadata": {},
      "cell_type": "markdown",
      "source": "## 3.3 Choix du meilleur modèle\nLoad all experiment run metrics recursively from the experiment into a dictionary object."
    },
    {
      "metadata": {
        "trusted": true
      },
      "cell_type": "code",
      "source": "runs = {}\nrun_metrics = {}\n\nfor r in tqdm(experiment.get_runs()):\n    metrics = r.get_metrics()\n    if 'mse' in metrics.keys():\n        runs[r.id] = r\n        run_metrics[r.id] = metrics",
      "execution_count": 14,
      "outputs": [
        {
          "output_type": "stream",
          "text": "22it [00:14,  1.64it/s]\n",
          "name": "stderr"
        }
      ]
    },
    {
      "metadata": {},
      "cell_type": "markdown",
      "source": "> Now find the run with the **lowest Mean Squared Error** value"
    },
    {
      "metadata": {
        "trusted": true
      },
      "cell_type": "code",
      "source": "best_run_id = min(run_metrics, key = lambda k: run_metrics[k]['mse'])\nbest_run = runs[best_run_id]\nprint('Meilleur run :', best_run_id)\nprint('Métriques :', run_metrics[best_run_id])",
      "execution_count": 15,
      "outputs": [
        {
          "output_type": "stream",
          "text": "Meilleur run : 8afab3dc-922a-445c-856c-3028dbe086f1\nMétriques : {'alpha': 0.4, 'columns': ['age', 'gender', 'bmi', 'bp', 's1', 's2', 's3', 's4', 's5', 's6'], 'mse': 3295.741064355809}\n",
          "name": "stdout"
        }
      ]
    },
    {
      "metadata": {},
      "cell_type": "markdown",
      "source": "You can add tags to your runs to make them easier to catalog"
    },
    {
      "metadata": {
        "tags": [
          "query history"
        ],
        "trusted": true
      },
      "cell_type": "code",
      "source": "best_run.tag(key=\"Description\", value=\"The best one\")\nbest_run.get_tags()",
      "execution_count": 16,
      "outputs": [
        {
          "output_type": "execute_result",
          "execution_count": 16,
          "data": {
            "text/plain": "{'Description': 'The best one'}"
          },
          "metadata": {}
        }
      ]
    },
    {
      "metadata": {},
      "cell_type": "markdown",
      "source": "### 3.4 MSE x alpha\n\nLet's observe the best model visually by plotting the MSE values over alpha values:"
    },
    {
      "metadata": {
        "trusted": true
      },
      "cell_type": "code",
      "source": "%matplotlib inline\nimport matplotlib\nimport matplotlib.pyplot as plt\n\nbest_alpha = run_metrics[best_run_id]['alpha']\nmin_mse = run_metrics[best_run_id]['mse']\n\nalpha_mse = np.array([(run_metrics[k]['alpha'], run_metrics[k]['mse']) for k in run_metrics.keys()])\nsorted_alpha_mse = alpha_mse[alpha_mse[:,0].argsort()]\n\nplt.plot(sorted_alpha_mse[:,0], sorted_alpha_mse[:,1], 'r--')\nplt.plot(sorted_alpha_mse[:,0], sorted_alpha_mse[:,1], 'bo')\n\nplt.xlabel('Alpha', fontsize = 14)\nplt.ylabel('Mean squared error', fontsize = 14)\nplt.title('MSE over alpha', fontsize = 16)\n\n# plot arrow\nplt.arrow(x = best_alpha, y = min_mse + 39, dx = 0, dy = -26, ls = '-', lw = 0.4,\n          width = 0, head_width = .03, head_length = 8)\n\n# plot \"best run\" text\nplt.text(x = best_alpha - 0.08, y = min_mse + 50, s = 'Best Run', fontsize = 14)\nplt.show()",
      "execution_count": 17,
      "outputs": [
        {
          "output_type": "display_data",
          "data": {
            "image/png": "[encoded data removed]",
            "text/plain": "<Figure size 432x288 with 1 Axes>"
          },
          "metadata": {
            "needs_background": "light"
          }
        }
      ]
    },
    {
      "metadata": {},
      "cell_type": "markdown",
      "source": "## 4 Enregistrement du modèle"
    },
    {
      "metadata": {},
      "cell_type": "markdown",
      "source": "Find the model file saved in the run record of best run."
    },
    {
      "metadata": {
        "tags": [
          "query history"
        ],
        "trusted": true
      },
      "cell_type": "code",
      "source": "for f in best_run.get_file_names():\n    print(f)",
      "execution_count": 18,
      "outputs": [
        {
          "output_type": "stream",
          "text": "outputs/modele.pkl\n",
          "name": "stdout"
        }
      ]
    },
    {
      "metadata": {},
      "cell_type": "markdown",
      "source": "Now we can register this model in the model registry of the workspace"
    },
    {
      "metadata": {
        "tags": [
          "register model from history"
        ],
        "trusted": true
      },
      "cell_type": "code",
      "source": "model = best_run.register_model(model_name='best_model', model_path='outputs/modele.pkl')",
      "execution_count": 19,
      "outputs": []
    },
    {
      "metadata": {},
      "cell_type": "markdown",
      "source": "Verify that the model has been registered properly. If you have done this several times you'd see the version number auto-increases each time."
    },
    {
      "metadata": {
        "tags": [
          "register model from history"
        ],
        "trusted": true
      },
      "cell_type": "code",
      "source": "from azureml.core.model import Model\nmodels = Model.list(workspace=ws, name='best_model')\nfor m in models:\n    print(m.name, m.version)",
      "execution_count": 20,
      "outputs": [
        {
          "output_type": "stream",
          "text": "best_model 16\nbest_model 15\nbest_model 14\nbest_model 13\nbest_model 12\nbest_model 11\nbest_model 10\nbest_model 9\nbest_model 8\nbest_model 7\nbest_model 6\nbest_model 5\nbest_model 4\nbest_model 3\nbest_model 2\nbest_model 1\n",
          "name": "stdout"
        }
      ]
    },
    {
      "metadata": {},
      "cell_type": "markdown",
      "source": "You can also download the registered model. Afterwards, you should see a `model.pkl` file in the current directory. You can then use it for local testing if you'd like."
    },
    {
      "metadata": {
        "tags": [
          "download file"
        ],
        "trusted": true
      },
      "cell_type": "code",
      "source": "# remove the model file if it is already on disk\nif os.path.isfile('modele.pkl'): \n    os.remove('modele.pkl')\n# download the model\nmodel.download(target_dir=\"./\")",
      "execution_count": 21,
      "outputs": [
        {
          "output_type": "execute_result",
          "execution_count": 21,
          "data": {
            "text/plain": "'./modele.pkl'"
          },
          "metadata": {}
        }
      ]
    },
    {
      "metadata": {},
      "cell_type": "markdown",
      "source": "## Scoring script\n\nNow we are ready to build a Docker image and deploy the model in it as a web service. The first step is creating the scoring script. For convenience, we have created the scoring script for you. It is printed below as text, but you can also run `%pfile ./score.py` in a cell to show the file.\n\nTbe scoring script consists of two functions: `init` that is used to load the model to memory when starting the container, and `run` that makes the prediction when web service is called. Please pay special attention to how the model is loaded in the `init()` function. When Docker image is built for this model, the actual model file is downloaded and placed on disk, and `get_model_path` function returns the local path where the model is placed."
    },
    {
      "metadata": {
        "trusted": true
      },
      "cell_type": "code",
      "source": "%pfile ./score.py",
      "execution_count": 23,
      "outputs": [
        {
          "output_type": "stream",
          "text": "Object `./score.py` not found.\n",
          "name": "stdout"
        }
      ]
    },
    {
      "metadata": {
        "trusted": true
      },
      "cell_type": "code",
      "source": "with open('./score.py', 'r') as scoring_script:\n    print(scoring_script.read())",
      "execution_count": 24,
      "outputs": [
        {
          "output_type": "stream",
          "text": "import pickle\nimport json\nimport numpy as np\nfrom sklearn.externals import joblib\nfrom sklearn.linear_model import Ridge\nfrom azureml.core.model import Model\n\n\ndef init():\n    global model\n    # note here \"best_model\" is the name of the model registered under the workspace\n    # this call should return the path to the model.pkl file on the local disk.\n    model_path = Model.get_model_path(model_name='best_model')\n    # deserialize the model file back into a sklearn model\n    model = joblib.load(model_path)\n\n\n# note you can pass in multiple rows for scoring\ndef run(raw_data):\n    try:\n        data = json.loads(raw_data)['data']\n        data = np.array(data)\n        result = model.predict(data)\n\n        # you can return any data type as long as it is JSON-serializable\n        return result.tolist()\n    except Exception as e:\n        result = str(e)\n        return result\n\n",
          "name": "stdout"
        }
      ]
    },
    {
      "metadata": {},
      "cell_type": "markdown",
      "source": "## Create environment dependency file\n\nWe need a environment dependency file `myenv.yml` to specify which libraries are needed by the scoring script when building the Docker image for web service deployment. We can manually create this file, or we can use the `CondaDependencies` API to automatically create this file."
    },
    {
      "metadata": {
        "trusted": true
      },
      "cell_type": "code",
      "source": "from azureml.core.conda_dependencies import CondaDependencies \n\nmyenv = CondaDependencies.create(conda_packages=[\"scikit-learn\"])\nprint(myenv.serialize_to_string())\n\nwith open(\"myenv.yml\",\"w\") as f:\n    f.write(myenv.serialize_to_string())",
      "execution_count": 25,
      "outputs": [
        {
          "output_type": "stream",
          "text": "# Conda environment specification. The dependencies defined in this file will\r\n# be automatically provisioned for runs with userManagedDependencies=False.\r\n\n# Details about the Conda environment file format:\r\n# https://conda.io/docs/user-guide/tasks/manage-environments.html#create-env-file-manually\r\n\nname: project_environment\ndependencies:\n  # The python interpreter version.\r\n  # Currently Azure ML only supports 3.5.2 and later.\r\n- python=3.6.2\n\n- pip:\n  - azureml-defaults==0.1.74\n- scikit-learn\n\n",
          "name": "stdout"
        }
      ]
    },
    {
      "metadata": {},
      "cell_type": "markdown",
      "source": "## 5 Déploiement web service dans Azure Container Instance (ACI)\n\nThe deployment process takes the registered model and your scoring scrip, and builds a Docker image. It then deploys the Docker image into Azure Container Instance as a running container with an HTTP endpoint readying for scoring calls. Read more about [Azure Container Instance](https://azure.microsoft.com/en-us/services/container-instances/).\n\nNote ACI is great for quick and cost-effective dev/test deployment scenarios. For production workloads, please use [Azure Kubernentes Service (AKS)](https://azure.microsoft.com/en-us/services/kubernetes-service/) instead. Please follow in struction in [this notebook](11.production-deploy-to-aks.ipynb) to see how that can be done from Azure ML.\n \n> **Note:The web service creation can take 6-7 minutes**."
    },
    {
      "metadata": {
        "tags": [
          "deploy service",
          "aci"
        ],
        "trusted": true
      },
      "cell_type": "code",
      "source": "from azureml.core.webservice import AciWebservice, Webservice\n\naciconfig = AciWebservice.deploy_configuration(cpu_cores=1, \n                                               memory_gb=1, \n                                               tags={'sample name': 'config'}, \n                                               description='deploiement.')",
      "execution_count": 26,
      "outputs": []
    },
    {
      "metadata": {},
      "cell_type": "markdown",
      "source": "Note the below `WebService.deploy_from_model()` function takes a model object registered under the workspace. It then bakes the model file in the Docker image so it can be looked-up using the `Model.get_model_path()` function in `score.py`. \n\nIf you have a local model file instead of a registered model object, you can also use the `WebService.deploy()` function which would register the model and then deploy."
    },
    {
      "metadata": {
        "tags": [
          "deploy service",
          "aci"
        ],
        "trusted": true
      },
      "cell_type": "code",
      "source": "from azureml.core.image import ContainerImage\nimage_config = ContainerImage.image_configuration(execution_script=\"score.py\", \n                                    runtime=\"python\", \n                                    conda_file=\"myenv.yml\")",
      "execution_count": 27,
      "outputs": []
    },
    {
      "metadata": {
        "tags": [
          "deploy service",
          "aci"
        ],
        "trusted": true
      },
      "cell_type": "code",
      "source": "%%time\n# this will take 5-6 minutes to finish\n# you can also use \"az container list\" command to find the ACI being deployed\n#\n# Check nom du service avant exécution\nservice = Webservice.deploy_from_model(name='deployacidiabetes2',\n                                       deployment_config=aciconfig,\n                                       models=[model],\n                                       image_config=image_config,\n                                       workspace=ws)\n\nservice.wait_for_deployment(show_output=True)",
      "execution_count": 29,
      "outputs": [
        {
          "output_type": "stream",
          "text": "Creating image\nImage creation operation finished for image deployacidiabetes2:1, operation \"Succeeded\"\nCreating service\nRunning.......................................\nSucceededACI service creation operation finished, operation \"Succeeded\"\nCPU times: user 2.54 s, sys: 141 ms, total: 2.68 s\nWall time: 6min 56s\n",
          "name": "stdout"
        }
      ]
    },
    {
      "metadata": {},
      "cell_type": "markdown",
      "source": "\n## 6 Test du Web Service ACI"
    },
    {
      "metadata": {
        "tags": [
          "deploy service",
          "aci"
        ],
        "trusted": true
      },
      "cell_type": "code",
      "source": "print('Web Service dans Azure Container Instance :', service.scoring_uri)",
      "execution_count": 30,
      "outputs": [
        {
          "output_type": "stream",
          "text": "Web Service dans Azure Container Instance : http://13.94.225.211:80/score\n",
          "name": "stdout"
        }
      ]
    },
    {
      "metadata": {},
      "cell_type": "markdown",
      "source": "Use the `run` API to call the web service with one row of data to get a prediction."
    },
    {
      "metadata": {
        "tags": [
          "deploy service",
          "aci"
        ],
        "trusted": true
      },
      "cell_type": "code",
      "source": "import json\n# score the first row from the test set.\ntest_samples = json.dumps({\"data\": X_test[0:1, :].tolist()})\nservice.run(input_data = test_samples)",
      "execution_count": 31,
      "outputs": [
        {
          "output_type": "execute_result",
          "execution_count": 31,
          "data": {
            "text/plain": "[217.67978776218712]"
          },
          "metadata": {}
        }
      ]
    },
    {
      "metadata": {},
      "cell_type": "markdown",
      "source": "Feed the entire test set and calculate the errors (residual values)."
    },
    {
      "metadata": {
        "tags": [
          "deploy service",
          "aci"
        ],
        "trusted": true
      },
      "cell_type": "code",
      "source": "# score the entire test set.\ntest_samples = json.dumps({'data': X_test.tolist()})\n\nresult = service.run(input_data = test_samples)\nresidual = result - y_test",
      "execution_count": 32,
      "outputs": []
    },
    {
      "metadata": {},
      "cell_type": "markdown",
      "source": "You can also send raw HTTP request to test the web service."
    },
    {
      "metadata": {
        "tags": [
          "deploy service",
          "aci"
        ],
        "trusted": true
      },
      "cell_type": "code",
      "source": "import requests\nimport json\n\n# 2 rows of input data, each with 10 made-up numerical features\ninput_data = \"{\\\"data\\\": [[1, 2, 3, 4, 5, 6, 7, 8, 9, 10], [10, 9, 8, 7, 6, 5, 4, 3, 2, 1]]}\"\n\nheaders = {'Content-Type':'application/json'}\n\n# for AKS deployment you'd need to the service key in the header as well\n# api_key = service.get_key()\n# headers = {'Content-Type':'application/json',  'Authorization':('Bearer '+ api_key)} \n\nresp = requests.post(service.scoring_uri, input_data, headers = headers)\nprint(resp.text)",
      "execution_count": 33,
      "outputs": [
        {
          "output_type": "stream",
          "text": "[5215.19813157987, 3726.9954859385766]\n",
          "name": "stdout"
        }
      ]
    },
    {
      "metadata": {},
      "cell_type": "markdown",
      "source": "## Residual graph\nPlot a residual value graph to chart the errors on the entire test set. Observe the nice bell curve."
    },
    {
      "metadata": {
        "trusted": true
      },
      "cell_type": "code",
      "source": "f, (a0, a1) = plt.subplots(1, 2, gridspec_kw={'width_ratios':[3, 1], 'wspace':0, 'hspace': 0})\nf.suptitle('Residual Values', fontsize = 18)\n\nf.set_figheight(6)\nf.set_figwidth(14)\n\na0.plot(residual, 'bo', alpha=0.4);\na0.plot([0,90], [0,0], 'r', lw=2)\na0.set_ylabel('residue values', fontsize=14)\na0.set_xlabel('test data set', fontsize=14)\n\na1.hist(residual, orientation='horizontal', color='blue', bins=10, histtype='step');\na1.hist(residual, orientation='horizontal', color='blue', alpha=0.2, bins=10);\na1.set_yticklabels([])\n\nplt.show()",
      "execution_count": 34,
      "outputs": [
        {
          "output_type": "display_data",
          "data": {
            "image/png": "[encoded data removed]",
            "text/plain": "<Figure size 1008x432 with 2 Axes>"
          },
          "metadata": {
            "needs_background": "light"
          }
        }
      ]
    },
    {
      "metadata": {},
      "cell_type": "markdown",
      "source": "## 7 Suppression ACI"
    },
    {
      "metadata": {},
      "cell_type": "markdown",
      "source": "Nettoyage : supression ACI"
    },
    {
      "metadata": {
        "tags": [
          "deploy service",
          "aci"
        ],
        "trusted": true
      },
      "cell_type": "code",
      "source": "%%time\nservice.delete()",
      "execution_count": 35,
      "outputs": [
        {
          "output_type": "stream",
          "text": "CPU times: user 27.2 ms, sys: 0 ns, total: 27.2 ms\nWall time: 1.69 s\n",
          "name": "stdout"
        }
      ]
    },
    {
      "metadata": {
        "trusted": true
      },
      "cell_type": "markdown",
      "source": "> Fin"
    },
    {
      "metadata": {
        "trusted": true
      },
      "cell_type": "code",
      "source": "",
      "execution_count": null,
      "outputs": []
    }
  ],
  "metadata": {
    "authors": [
      {
        "name": "roastala"
      }
    ],
    "kernelspec": {
      "name": "python36",
      "display_name": "Python 3.6",
      "language": "python"
    },
    "language_info": {
      "mimetype": "text/x-python",
      "nbconvert_exporter": "python",
      "name": "python",
      "pygments_lexer": "ipython3",
      "version": "3.6.6",
      "file_extension": ".py",
      "codemirror_mode": {
        "version": 3,
        "name": "ipython"
      }
    }
  },
  "nbformat": 4,
  "nbformat_minor": 2
}