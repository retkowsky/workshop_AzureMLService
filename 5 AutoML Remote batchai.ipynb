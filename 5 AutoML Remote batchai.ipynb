{
  "cells": [
    {
      "metadata": {},
      "cell_type": "markdown",
      "source": "# 5 Automated Machine Learning : Remote Execution avec Azure Batch AI\n\nIn this example we use the scikit-learn's [digit dataset](http://scikit-learn.org/stable/datasets/index.html#optical-recognition-of-handwritten-digits-dataset) to showcase how you can use AutoML for a simple classification problem.\n\nMake sure you have executed the [configuration](../configuration.ipynb) before running this notebook.\n\nIn this notebook you would see\n1. Create an `Experiment` in an existing `Workspace`.\n2. Attach an existing Batch AI compute to a workspace.\n3. Configure AutoML using `AutoMLConfig`.\n4. Train the model using Batch AI.\n5. Explore the results.\n6. Test the best fitted model.\n\nIn addition this notebook showcases the following features\n- **Parallel** executions for iterations\n- **Asynchronous** tracking of progress\n- **Cancellation** of individual iterations or the entire run\n- Retrieving models for any iteration or logged metric\n- Specifying AutoML settings as `**kwargs`\n"
    },
    {
      "metadata": {
        "trusted": true
      },
      "cell_type": "code",
      "source": "import sys\nsys.version",
      "execution_count": 1,
      "outputs": [
        {
          "output_type": "execute_result",
          "execution_count": 1,
          "data": {
            "text/plain": "'3.6.6 |Anaconda, Inc.| (default, Jun 28 2018, 17:14:51) \\n[GCC 7.2.0]'"
          },
          "metadata": {}
        }
      ]
    },
    {
      "metadata": {},
      "cell_type": "markdown",
      "source": "## 6.1 Création experiment\n\nAs part of the setup you have already created an Azure ML `Workspace` object. For AutoML you will need to create an `Experiment` object, which is a named object in a `Workspace` used to run experiments."
    },
    {
      "metadata": {
        "trusted": true
      },
      "cell_type": "code",
      "source": "import logging\nimport os\nimport random\n\nfrom matplotlib import pyplot as plt\nfrom matplotlib.pyplot import imshow\nimport numpy as np\nimport pandas as pd\nfrom sklearn import datasets\n\nimport azureml.core\nfrom azureml.core.experiment import Experiment\nfrom azureml.core.workspace import Workspace\nfrom azureml.train.automl import AutoMLConfig\nfrom azureml.train.automl.run import AutoMLRun",
      "execution_count": 2,
      "outputs": []
    },
    {
      "metadata": {
        "trusted": true
      },
      "cell_type": "code",
      "source": "ws = Workspace.from_config()\n\n# Choose a name for the run history container in the workspace.\nexperiment_name = 'automl-remote-batchai'\nproject_folder = './sample_projects/automl-remote-batchai'\n\nexperiment = Experiment(ws, experiment_name)\n\noutput = {}\noutput['SDK version'] = azureml.core.VERSION\noutput['Subscription ID'] = ws.subscription_id\noutput['Workspace Name'] = ws.name\noutput['Resource Group'] = ws.resource_group\noutput['Location'] = ws.location\noutput['Project Directory'] = project_folder\noutput['Experiment Name'] = experiment.name\npd.set_option('display.max_colwidth', -1)\npd.DataFrame(data = output, index = ['']).T",
      "execution_count": 3,
      "outputs": [
        {
          "output_type": "stream",
          "text": "Found the config file in: /home/nbuser/library/aml_config/config.json\n",
          "name": "stdout"
        },
        {
          "output_type": "execute_result",
          "execution_count": 3,
          "data": {
            "text/html": "<div>\n<style scoped>\n    .dataframe tbody tr th:only-of-type {\n        vertical-align: middle;\n    }\n\n    .dataframe tbody tr th {\n        vertical-align: top;\n    }\n\n    .dataframe thead th {\n        text-align: right;\n    }\n</style>\n<table border=\"1\" class=\"dataframe\">\n  <thead>\n    <tr style=\"text-align: right;\">\n      <th></th>\n      <th></th>\n    </tr>\n  </thead>\n  <tbody>\n    <tr>\n      <th>Experiment Name</th>\n      <td>automl-remote-batchai</td>\n    </tr>\n    <tr>\n      <th>Location</th>\n      <td>westeurope</td>\n    </tr>\n    <tr>\n      <th>Project Directory</th>\n      <td>./sample_projects/automl-remote-batchai</td>\n    </tr>\n    <tr>\n      <th>Resource Group</th>\n      <td>resgrpAMLS</td>\n    </tr>\n    <tr>\n      <th>SDK version</th>\n      <td>1.0.2</td>\n    </tr>\n    <tr>\n      <th>Subscription ID</th>\n      <td>70b8f39e-8863-49f7-b6ba-34a80799550c</td>\n    </tr>\n    <tr>\n      <th>Workspace Name</th>\n      <td>AMLSworkspace</td>\n    </tr>\n  </tbody>\n</table>\n</div>",
            "text/plain": "                                                          \nExperiment Name    automl-remote-batchai                  \nLocation           westeurope                             \nProject Directory  ./sample_projects/automl-remote-batchai\nResource Group     resgrpAMLS                             \nSDK version        1.0.2                                  \nSubscription ID    70b8f39e-8863-49f7-b6ba-34a80799550c   \nWorkspace Name     AMLSworkspace                          "
          },
          "metadata": {}
        }
      ]
    },
    {
      "metadata": {},
      "cell_type": "markdown",
      "source": "## Diagnostics\n\nOpt-in diagnostics for better experience, quality, and security of future releases."
    },
    {
      "metadata": {
        "trusted": true
      },
      "cell_type": "code",
      "source": "from azureml.telemetry import set_diagnostics_collection\nset_diagnostics_collection(send_diagnostics = True)",
      "execution_count": 4,
      "outputs": []
    },
    {
      "metadata": {},
      "cell_type": "markdown",
      "source": "## 6.2 Creation cluster Azure Batch AI\nThe cluster is created as Machine Learning Compute and will appear under your workspace.\n\n**Note:** The creation of the Batch AI cluster can take over 10 minutes, please be patient.\n\nAs with other Azure services, there are limits on certain resources (e.g. Batch AI cluster size) associated with the Azure Machine Learning service. Please read [this article](https://docs.microsoft.com/en-us/azure/machine-learning/service/how-to-manage-quotas) on the default limits and how to request more quota."
    },
    {
      "metadata": {
        "trusted": true
      },
      "cell_type": "code",
      "source": "from azureml.core.compute import AmlCompute\nfrom azureml.core.compute import ComputeTarget\n\n# Choose a name for your cluster.\nbatchai_cluster_name = \"automlcl\"\n\nfound = False\n# Check if this compute target already exists in the workspace.\ncts = ws.compute_targets\nif batchai_cluster_name in cts and cts[batchai_cluster_name].type == 'BatchAI':\n    found = True\n    print('Found existing compute target.')\n    compute_target = cts[batchai_cluster_name]\n    \nif not found:\n    print('Creating a new compute target...')\n    provisioning_config = AmlCompute.provisioning_configuration(vm_size = \"STANDARD_D2_V2\", # for GPU, use \"STANDARD_NC6\"\n                                                                #vm_priority = 'lowpriority', # optional\n                                                                max_nodes = 6)\n\n    # Create the cluster.\n    compute_target = ComputeTarget.create(ws, batchai_cluster_name, provisioning_config)\n    \n    # Can poll for a minimum number of nodes and for a specific timeout.\n    # If no min_node_count is provided, it will use the scale settings for the cluster.\n    compute_target.wait_for_completion(show_output = True, min_node_count = None, timeout_in_minutes = 20)\n    \n     # For a more detailed view of current Batch AI cluster status, use the 'status' property.",
      "execution_count": 5,
      "outputs": [
        {
          "output_type": "stream",
          "text": "Creating a new compute target...\nSucceeded\nAmlCompute wait for completion finished\nMinimum number of nodes requested have been provisioned\n",
          "name": "stdout"
        }
      ]
    },
    {
      "metadata": {
        "trusted": true
      },
      "cell_type": "code",
      "source": "from azureml.core.runconfig import RunConfiguration\nfrom azureml.core.conda_dependencies import CondaDependencies\n\n# create a new RunConfig object\nconda_run_config = RunConfiguration(framework=\"python\")\n\n# Set compute target to the Batch AI cluster\nconda_run_config.target = compute_target\nconda_run_config.environment.docker.enabled = True\nconda_run_config.environment.docker.base_image = azureml.core.runconfig.DEFAULT_CPU_IMAGE\n\ncd = CondaDependencies.create(pip_packages=['azureml-sdk[automl]'], conda_packages=['numpy'])\nconda_run_config.environment.python.conda_dependencies = cd",
      "execution_count": 6,
      "outputs": []
    },
    {
      "metadata": {},
      "cell_type": "markdown",
      "source": "## Create Get Data File\nFor remote executions you should author a `get_data.py` file containing a `get_data()` function. This file should be in the root directory of the project. You can encapsulate code to read data either from a blob storage or local disk in this file.\nIn this example, the `get_data()` function returns data using scikit-learn's [load_digits](http://scikit-learn.org/stable/modules/generated/sklearn.datasets.load_digits.html) method."
    },
    {
      "metadata": {
        "trusted": true
      },
      "cell_type": "code",
      "source": "if not os.path.exists(project_folder):\n    os.makedirs(project_folder)",
      "execution_count": 7,
      "outputs": []
    },
    {
      "metadata": {
        "trusted": true
      },
      "cell_type": "code",
      "source": "%%writefile $project_folder/get_data.py\n\nfrom sklearn import datasets\nfrom scipy import sparse\nimport numpy as np\n\ndef get_data():\n    \n    digits = datasets.load_digits()\n    X_train = digits.data\n    y_train = digits.target\n\n    return { \"X\" : X_train, \"y\" : y_train }",
      "execution_count": 8,
      "outputs": [
        {
          "output_type": "stream",
          "text": "Overwriting ./sample_projects/automl-remote-batchai/get_data.py\n",
          "name": "stdout"
        }
      ]
    },
    {
      "metadata": {},
      "cell_type": "markdown",
      "source": "## 6.3 AutoML <a class=\"anchor\" id=\"Instatiate-AutoML-Remote-DSVM\"></a>\n\nYou can specify `automl_settings` as `**kwargs` as well. Also note that you can use a `get_data()` function for local excutions too.\n\n**Note:** When using Batch AI, you can't pass Numpy arrays directly to the fit method.\n\n|Property|Description|\n|-|-|\n|**primary_metric**|This is the metric that you want to optimize. Classification supports the following primary metrics: <br><i>accuracy</i><br><i>AUC_weighted</i><br><i>average_precision_score_weighted</i><br><i>norm_macro_recall</i><br><i>precision_score_weighted</i>|\n|**iteration_timeout_minutes**|Time limit in minutes for each iteration.|\n|**iterations**|Number of iterations. In each iteration AutoML trains a specific pipeline with the data.|\n|**n_cross_validations**|Number of cross validation splits.|\n|**max_concurrent_iterations**|Maximum number of iterations that would be executed in parallel. This should be less than the number of cores on the DSVM.|"
    },
    {
      "metadata": {
        "trusted": true
      },
      "cell_type": "code",
      "source": "automl_settings = {\n    \"iteration_timeout_minutes\": 2,\n    \"iterations\": 10,\n    \"n_cross_validations\": 3,\n    \"primary_metric\": 'AUC_weighted',\n    \"preprocess\": False,\n    \"max_concurrent_iterations\": 5,\n    \"verbosity\": logging.INFO\n}\n\nautoml_config = AutoMLConfig(task = 'classification',\n                             debug_log = 'automl_errors.log',\n                             path = project_folder,\n                             run_configuration=conda_run_config,\n                             data_script = project_folder + \"/get_data.py\",\n                             **automl_settings\n                            )\n",
      "execution_count": 9,
      "outputs": []
    },
    {
      "metadata": {},
      "cell_type": "markdown",
      "source": "## Aprentissage du modèle\n\nCall the `submit` method on the experiment object and pass the run configuration. For remote runs the execution is asynchronous, so you will see the iterations get populated as they complete. You can interact with the widgets and models even when the experiment is running to retrieve the best model up to that point. Once you are satisfied with the model, you can cancel a particular iteration or the whole run.\nIn this example, we specify `show_output = False` to suppress console output while the run is in progress."
    },
    {
      "metadata": {
        "trusted": true
      },
      "cell_type": "code",
      "source": "remote_run = experiment.submit(automl_config, show_output = False)",
      "execution_count": 10,
      "outputs": []
    },
    {
      "metadata": {},
      "cell_type": "markdown",
      "source": "## 6.4 Exploration des résultats\n\n### 6.5 Chargement\nIn case you need to load a previously executed run, enable the cell below and replace the `run_id` value."
    },
    {
      "metadata": {},
      "cell_type": "raw",
      "source": "# remote_run = AutoMLRun(experiment = experiment, run_id = 'AutoML_6adb2b9b-be4d-4b24-bbaf-5a683cf56eda')"
    },
    {
      "metadata": {},
      "cell_type": "markdown",
      "source": "### 6.6 Widget for Monitoring Runs\n\nThe widget will first report a \"loading\" status while running the first iteration. After completing the first iteration, an auto-updating graph and table will be shown. The widget will refresh once per minute, so you should see the graph update as child runs complete.\n\nYou can click on a pipeline to see run properties and output logs.  Logs are also available on the DSVM under `/tmp/azureml_run/{iterationid}/azureml-logs`\n\n**Note:** The widget displays a link at the bottom. Use this link to open a web interface to explore the individual run details."
    },
    {
      "metadata": {
        "trusted": true
      },
      "cell_type": "code",
      "source": "remote_run",
      "execution_count": 11,
      "outputs": [
        {
          "output_type": "execute_result",
          "execution_count": 11,
          "data": {
            "text/html": "<table style=\"width:100%\"><tr><th>Experiment</th><th>Id</th><th>Type</th><th>Status</th><th>Details Page</th><th>Docs Page</th></tr><tr><td>automl-remote-batchai</td><td>AutoML_e7ba8efd-2f6d-42ca-9116-d5e4119dfcc4</td><td>automl</td><td>Preparing</td><td><a href=\"https://mlworkspace.azure.ai/portal/subscriptions/70b8f39e-8863-49f7-b6ba-34a80799550c/resourceGroups/resgrpAMLS/providers/Microsoft.MachineLearningServices/workspaces/AMLSworkspace/experiments/automl-remote-batchai/runs/AutoML_e7ba8efd-2f6d-42ca-9116-d5e4119dfcc4\" target=\"_blank\" rel=\"noopener\">Link to Azure Portal</a></td><td><a href=\"https://docs.microsoft.com/en-us/python/api/overview/azure/ml/intro?view=azure-ml-py\" target=\"_blank\" rel=\"noopener\">Link to Documentation</a></td></tr></table>",
            "text/plain": "Run(Experiment: automl-remote-batchai,\nId: AutoML_e7ba8efd-2f6d-42ca-9116-d5e4119dfcc4,\nType: automl,\nStatus: Preparing)"
          },
          "metadata": {}
        }
      ]
    },
    {
      "metadata": {
        "trusted": true
      },
      "cell_type": "code",
      "source": "from azureml.widgets import RunDetails\nRunDetails(remote_run).show() ",
      "execution_count": 12,
      "outputs": [
        {
          "output_type": "display_data",
          "data": {
            "application/vnd.jupyter.widget-view+json": {
              "model_id": "754121013ea14f8c902a096d417acef6",
              "version_minor": 0,
              "version_major": 2
            },
            "text/plain": "_AutoMLWidget(widget_settings={'childWidgetDisplay': 'popup', 'send_telemetry': True, 'log_level': 'INFO', 'sd…"
          },
          "metadata": {}
        }
      ]
    },
    {
      "metadata": {
        "trusted": true
      },
      "cell_type": "code",
      "source": "# Wait until the run finishes.\nremote_run.wait_for_completion(show_output = True)",
      "execution_count": 13,
      "outputs": [
        {
          "output_type": "stream",
          "text": "\n*******************************************************************************************\nITERATION: The iteration being evaluated.\nPIPELINE: A summary description of the pipeline being evaluated.\nDURATION: Time taken for the current iteration.\nMETRIC: The result of computing score on the fitted pipeline.\nBEST: The best observed score thus far.\n*******************************************************************************************\n\n ITERATION   PIPELINE                                       DURATION      METRIC      BEST\n         0   StandardScalerWrapper KNN                      0:00:41       0.9979    0.9979\n         1   StandardScalerWrapper KNN                      0:00:45       0.9984    0.9984\n         2   RobustScaler LogisticRegression                0:00:46       0.9967    0.9984\n         3   RobustScaler LightGBM                          0:00:50       0.9981    0.9984\n         4   StandardScalerWrapper KNN                      0:00:55       0.9985    0.9985\n         5   MaxAbsScaler LightGBM                          0:00:50       0.9960    0.9985\n         6   StandardScalerWrapper LightGBM                 0:00:49       0.9931    0.9985\n         7   StandardScalerWrapper LogisticRegression       0:00:45       0.9944    0.9985\n         8   SparseNormalizer LightGBM                      0:00:55       0.9985    0.9985\n         9    Ensemble                                      0:00:55       0.9994    0.9994\n\nExecution Summary\n=================\nRunId: AutoML_e7ba8efd-2f6d-42ca-9116-d5e4119dfcc4\n\n",
          "name": "stdout"
        },
        {
          "output_type": "execute_result",
          "execution_count": 13,
          "data": {
            "text/plain": "{'runId': 'AutoML_e7ba8efd-2f6d-42ca-9116-d5e4119dfcc4',\n 'target': 'automlcl',\n 'status': 'Completed',\n 'startTimeUtc': '2018-12-10T11:19:11.704449Z',\n 'endTimeUtc': '2018-12-10T11:21:51.501311Z',\n 'properties': {'num_iterations': '10',\n  'training_type': 'TrainFull',\n  'acquisition_function': 'EI',\n  'primary_metric': 'AUC_weighted',\n  'train_split': '0',\n  'max_time_seconds': '120',\n  'acquisition_parameter': '0',\n  'num_cross_validation': '3',\n  'target': 'automlcl',\n  'RawAMLSettingsString': \"{'name': 'automl-remote-batchai', 'path': './sample_projects/automl-remote-batchai', 'subscription_id': '70b8f39e-8863-49f7-b6ba-34a80799550c', 'resource_group': 'resgrpAMLS', 'workspace_name': 'AMLSworkspace', 'iterations': 10, 'primary_metric': 'AUC_weighted', 'data_script': './sample_projects/automl-remote-batchai/get_data.py', 'compute_target': 'automlcl', 'task_type': 'classification', 'validation_size': 0.0, 'n_cross_validations': 3, 'y_min': None, 'y_max': None, 'num_classes': None, 'preprocess': False, 'lag_length': 0, 'is_timeseries': False, 'max_cores_per_iteration': 1, 'max_concurrent_iterations': 5, 'iteration_timeout_minutes': 2, 'mem_in_mb': None, 'enforce_time_on_windows': False, 'experiment_timeout_minutes': None, 'experiment_exit_score': None, 'whitelist_models': None, 'blacklist_algos': None, 'auto_blacklist': True, 'blacklist_samples_reached': False, 'exclude_nan_labels': True, 'verbosity': 20, 'debug_log': 'automl_errors.log', 'show_warnings': False, 'model_explainability': False, 'service_url': None, 'sdk_url': None, 'sdk_packages': None, 'telemetry_verbosity': 'INFO', 'send_telemetry': True, 'spark_service': None, 'metrics': None, 'enable_ensembling': True, 'ensemble_iterations': 10, 'enable_tf': True, 'enable_cache': True, 'enable_subsampling': False, 'subsample_seed': None, 'cost_mode': 0, 'metric_operation': 'maximize'}\",\n  'AMLSettingsJsonString': '{\"name\": \"automl-remote-batchai\", \"path\": \"./sample_projects/automl-remote-batchai\", \"subscription_id\": \"70b8f39e-8863-49f7-b6ba-34a80799550c\", \"resource_group\": \"resgrpAMLS\", \"workspace_name\": \"AMLSworkspace\", \"iterations\": 10, \"primary_metric\": \"AUC_weighted\", \"data_script\": \"./sample_projects/automl-remote-batchai/get_data.py\", \"compute_target\": \"automlcl\", \"task_type\": \"classification\", \"validation_size\": 0.0, \"n_cross_validations\": 3, \"y_min\": null, \"y_max\": null, \"num_classes\": null, \"preprocess\": false, \"lag_length\": 0, \"is_timeseries\": false, \"max_cores_per_iteration\": 1, \"max_concurrent_iterations\": 5, \"iteration_timeout_minutes\": 2, \"mem_in_mb\": null, \"enforce_time_on_windows\": false, \"experiment_timeout_minutes\": null, \"experiment_exit_score\": null, \"whitelist_models\": null, \"blacklist_algos\": null, \"auto_blacklist\": true, \"blacklist_samples_reached\": false, \"exclude_nan_labels\": true, \"verbosity\": 20, \"debug_log\": \"automl_errors.log\", \"show_warnings\": false, \"model_explainability\": false, \"service_url\": null, \"sdk_url\": null, \"sdk_packages\": null, \"telemetry_verbosity\": \"INFO\", \"send_telemetry\": true, \"spark_service\": null, \"metrics\": null, \"enable_ensembling\": true, \"ensemble_iterations\": 10, \"enable_tf\": true, \"enable_cache\": true, \"enable_subsampling\": false, \"subsample_seed\": null, \"cost_mode\": 0, \"metric_operation\": \"maximize\"}',\n  'DataPrepJsonString': None,\n  'EnableSubsampling': 'False',\n  'runTemplate': 'AutoML',\n  'azureml.runsource': 'automl',\n  'SetupRunId': 'AutoML_e7ba8efd-2f6d-42ca-9116-d5e4119dfcc4_setup',\n  'ContentSnapshotId': '5bd9246e-2124-4d05-b6e9-ffeeb429bb26',\n  'snapshotId': '5bd9246e-2124-4d05-b6e9-ffeeb429bb26',\n  'ProblemInfoJsonString': '{\"dataset_num_categorical\": 0, \"dataset_classes\": 10, \"dataset_features\": 64, \"dataset_samples\": 1797, \"is_sparse\": false, \"subsampling\": false}'},\n 'logFiles': {}}"
          },
          "metadata": {}
        }
      ]
    },
    {
      "metadata": {},
      "cell_type": "markdown",
      "source": "\n### 6.6 Visualisation de tous les runs\nYou can also use SDK methods to fetch all the child runs and see individual metrics that we log."
    },
    {
      "metadata": {
        "trusted": true
      },
      "cell_type": "code",
      "source": "children = list(remote_run.get_children())\nmetricslist = {}\nfor run in children:\n    properties = run.get_properties()\n    metrics = {k: v for k, v in run.get_metrics().items() if isinstance(v, float)}\n    metricslist[int(properties['iteration'])] = metrics\n\nrundata = pd.DataFrame(metricslist).sort_index(1)\nrundata",
      "execution_count": 14,
      "outputs": [
        {
          "output_type": "execute_result",
          "execution_count": 14,
          "data": {
            "text/html": "<div>\n<style scoped>\n    .dataframe tbody tr th:only-of-type {\n        vertical-align: middle;\n    }\n\n    .dataframe tbody tr th {\n        vertical-align: top;\n    }\n\n    .dataframe thead th {\n        text-align: right;\n    }\n</style>\n<table border=\"1\" class=\"dataframe\">\n  <thead>\n    <tr style=\"text-align: right;\">\n      <th></th>\n      <th>0</th>\n      <th>1</th>\n      <th>2</th>\n      <th>3</th>\n      <th>4</th>\n      <th>5</th>\n      <th>6</th>\n      <th>7</th>\n      <th>8</th>\n      <th>9</th>\n    </tr>\n  </thead>\n  <tbody>\n    <tr>\n      <th>AUC_macro</th>\n      <td>0.997908</td>\n      <td>0.998475</td>\n      <td>0.996725</td>\n      <td>0.998126</td>\n      <td>0.998489</td>\n      <td>0.996028</td>\n      <td>0.993049</td>\n      <td>0.994442</td>\n      <td>0.998472</td>\n      <td>0.999447</td>\n    </tr>\n    <tr>\n      <th>AUC_micro</th>\n      <td>0.998099</td>\n      <td>0.998478</td>\n      <td>0.996694</td>\n      <td>0.998140</td>\n      <td>0.998547</td>\n      <td>0.996368</td>\n      <td>0.993683</td>\n      <td>0.995686</td>\n      <td>0.998545</td>\n      <td>0.999499</td>\n    </tr>\n    <tr>\n      <th>AUC_weighted</th>\n      <td>0.997880</td>\n      <td>0.998443</td>\n      <td>0.996721</td>\n      <td>0.998139</td>\n      <td>0.998468</td>\n      <td>0.995965</td>\n      <td>0.993102</td>\n      <td>0.994363</td>\n      <td>0.998451</td>\n      <td>0.999433</td>\n    </tr>\n    <tr>\n      <th>AUC_weighted_max</th>\n      <td>0.997880</td>\n      <td>0.998443</td>\n      <td>0.996721</td>\n      <td>0.998139</td>\n      <td>0.998468</td>\n      <td>0.997880</td>\n      <td>0.998443</td>\n      <td>0.998443</td>\n      <td>0.998451</td>\n      <td>0.999433</td>\n    </tr>\n    <tr>\n      <th>accuracy</th>\n      <td>0.967168</td>\n      <td>0.951029</td>\n      <td>0.943795</td>\n      <td>0.947134</td>\n      <td>0.964385</td>\n      <td>0.931553</td>\n      <td>0.914302</td>\n      <td>0.944352</td>\n      <td>0.959933</td>\n      <td>0.974958</td>\n    </tr>\n    <tr>\n      <th>average_precision_score_macro</th>\n      <td>0.990185</td>\n      <td>0.988821</td>\n      <td>0.979083</td>\n      <td>0.987302</td>\n      <td>0.991522</td>\n      <td>0.977224</td>\n      <td>0.960434</td>\n      <td>0.969403</td>\n      <td>0.989949</td>\n      <td>0.996349</td>\n    </tr>\n    <tr>\n      <th>average_precision_score_micro</th>\n      <td>0.991152</td>\n      <td>0.988357</td>\n      <td>0.979349</td>\n      <td>0.987954</td>\n      <td>0.991949</td>\n      <td>0.979429</td>\n      <td>0.965591</td>\n      <td>0.976332</td>\n      <td>0.990999</td>\n      <td>0.996487</td>\n    </tr>\n    <tr>\n      <th>average_precision_score_weighted</th>\n      <td>0.990244</td>\n      <td>0.988793</td>\n      <td>0.979499</td>\n      <td>0.987675</td>\n      <td>0.991506</td>\n      <td>0.977523</td>\n      <td>0.961436</td>\n      <td>0.969623</td>\n      <td>0.989987</td>\n      <td>0.996317</td>\n    </tr>\n    <tr>\n      <th>balanced_accuracy</th>\n      <td>0.967578</td>\n      <td>0.951354</td>\n      <td>0.944030</td>\n      <td>0.947056</td>\n      <td>0.964655</td>\n      <td>0.932184</td>\n      <td>0.915288</td>\n      <td>0.944544</td>\n      <td>0.960217</td>\n      <td>0.975028</td>\n    </tr>\n    <tr>\n      <th>f1_score_macro</th>\n      <td>0.967275</td>\n      <td>0.950837</td>\n      <td>0.943571</td>\n      <td>0.946159</td>\n      <td>0.964502</td>\n      <td>0.930816</td>\n      <td>0.913502</td>\n      <td>0.944165</td>\n      <td>0.959448</td>\n      <td>0.974815</td>\n    </tr>\n    <tr>\n      <th>f1_score_micro</th>\n      <td>0.967168</td>\n      <td>0.951029</td>\n      <td>0.943795</td>\n      <td>0.947134</td>\n      <td>0.964385</td>\n      <td>0.931553</td>\n      <td>0.914302</td>\n      <td>0.944352</td>\n      <td>0.959933</td>\n      <td>0.974958</td>\n    </tr>\n    <tr>\n      <th>f1_score_weighted</th>\n      <td>0.967110</td>\n      <td>0.950927</td>\n      <td>0.944201</td>\n      <td>0.947314</td>\n      <td>0.964329</td>\n      <td>0.931726</td>\n      <td>0.914622</td>\n      <td>0.944928</td>\n      <td>0.960119</td>\n      <td>0.974980</td>\n    </tr>\n    <tr>\n      <th>log_loss</th>\n      <td>0.201682</td>\n      <td>0.221770</td>\n      <td>0.268304</td>\n      <td>0.232266</td>\n      <td>0.166201</td>\n      <td>0.845828</td>\n      <td>0.941192</td>\n      <td>0.767420</td>\n      <td>0.162534</td>\n      <td>0.151260</td>\n    </tr>\n    <tr>\n      <th>norm_macro_recall</th>\n      <td>0.963976</td>\n      <td>0.945949</td>\n      <td>0.937811</td>\n      <td>0.941173</td>\n      <td>0.960728</td>\n      <td>0.924649</td>\n      <td>0.905875</td>\n      <td>0.938382</td>\n      <td>0.955797</td>\n      <td>0.972253</td>\n    </tr>\n    <tr>\n      <th>precision_score_macro</th>\n      <td>0.967790</td>\n      <td>0.952982</td>\n      <td>0.945600</td>\n      <td>0.946493</td>\n      <td>0.965728</td>\n      <td>0.931841</td>\n      <td>0.914934</td>\n      <td>0.945757</td>\n      <td>0.959507</td>\n      <td>0.975178</td>\n    </tr>\n    <tr>\n      <th>precision_score_micro</th>\n      <td>0.967168</td>\n      <td>0.951029</td>\n      <td>0.943795</td>\n      <td>0.947134</td>\n      <td>0.964385</td>\n      <td>0.931553</td>\n      <td>0.914302</td>\n      <td>0.944352</td>\n      <td>0.959933</td>\n      <td>0.974958</td>\n    </tr>\n    <tr>\n      <th>precision_score_weighted</th>\n      <td>0.967901</td>\n      <td>0.953497</td>\n      <td>0.946962</td>\n      <td>0.948670</td>\n      <td>0.965659</td>\n      <td>0.934325</td>\n      <td>0.918138</td>\n      <td>0.947401</td>\n      <td>0.961106</td>\n      <td>0.975581</td>\n    </tr>\n    <tr>\n      <th>recall_score_macro</th>\n      <td>0.967578</td>\n      <td>0.951354</td>\n      <td>0.944030</td>\n      <td>0.947056</td>\n      <td>0.964655</td>\n      <td>0.932184</td>\n      <td>0.915288</td>\n      <td>0.944544</td>\n      <td>0.960217</td>\n      <td>0.975028</td>\n    </tr>\n    <tr>\n      <th>recall_score_micro</th>\n      <td>0.967168</td>\n      <td>0.951029</td>\n      <td>0.943795</td>\n      <td>0.947134</td>\n      <td>0.964385</td>\n      <td>0.931553</td>\n      <td>0.914302</td>\n      <td>0.944352</td>\n      <td>0.959933</td>\n      <td>0.974958</td>\n    </tr>\n    <tr>\n      <th>recall_score_weighted</th>\n      <td>0.967168</td>\n      <td>0.951029</td>\n      <td>0.943795</td>\n      <td>0.947134</td>\n      <td>0.964385</td>\n      <td>0.931553</td>\n      <td>0.914302</td>\n      <td>0.944352</td>\n      <td>0.959933</td>\n      <td>0.974958</td>\n    </tr>\n    <tr>\n      <th>weighted_accuracy</th>\n      <td>0.966741</td>\n      <td>0.950660</td>\n      <td>0.943434</td>\n      <td>0.947124</td>\n      <td>0.964053</td>\n      <td>0.930752</td>\n      <td>0.913190</td>\n      <td>0.944172</td>\n      <td>0.959677</td>\n      <td>0.974870</td>\n    </tr>\n  </tbody>\n</table>\n</div>",
            "text/plain": "                                         0         1         2         3  \\\nAUC_macro                         0.997908  0.998475  0.996725  0.998126   \nAUC_micro                         0.998099  0.998478  0.996694  0.998140   \nAUC_weighted                      0.997880  0.998443  0.996721  0.998139   \nAUC_weighted_max                  0.997880  0.998443  0.996721  0.998139   \naccuracy                          0.967168  0.951029  0.943795  0.947134   \naverage_precision_score_macro     0.990185  0.988821  0.979083  0.987302   \naverage_precision_score_micro     0.991152  0.988357  0.979349  0.987954   \naverage_precision_score_weighted  0.990244  0.988793  0.979499  0.987675   \nbalanced_accuracy                 0.967578  0.951354  0.944030  0.947056   \nf1_score_macro                    0.967275  0.950837  0.943571  0.946159   \nf1_score_micro                    0.967168  0.951029  0.943795  0.947134   \nf1_score_weighted                 0.967110  0.950927  0.944201  0.947314   \nlog_loss                          0.201682  0.221770  0.268304  0.232266   \nnorm_macro_recall                 0.963976  0.945949  0.937811  0.941173   \nprecision_score_macro             0.967790  0.952982  0.945600  0.946493   \nprecision_score_micro             0.967168  0.951029  0.943795  0.947134   \nprecision_score_weighted          0.967901  0.953497  0.946962  0.948670   \nrecall_score_macro                0.967578  0.951354  0.944030  0.947056   \nrecall_score_micro                0.967168  0.951029  0.943795  0.947134   \nrecall_score_weighted             0.967168  0.951029  0.943795  0.947134   \nweighted_accuracy                 0.966741  0.950660  0.943434  0.947124   \n\n                                         4         5         6         7  \\\nAUC_macro                         0.998489  0.996028  0.993049  0.994442   \nAUC_micro                         0.998547  0.996368  0.993683  0.995686   \nAUC_weighted                      0.998468  0.995965  0.993102  0.994363   \nAUC_weighted_max                  0.998468  0.997880  0.998443  0.998443   \naccuracy                          0.964385  0.931553  0.914302  0.944352   \naverage_precision_score_macro     0.991522  0.977224  0.960434  0.969403   \naverage_precision_score_micro     0.991949  0.979429  0.965591  0.976332   \naverage_precision_score_weighted  0.991506  0.977523  0.961436  0.969623   \nbalanced_accuracy                 0.964655  0.932184  0.915288  0.944544   \nf1_score_macro                    0.964502  0.930816  0.913502  0.944165   \nf1_score_micro                    0.964385  0.931553  0.914302  0.944352   \nf1_score_weighted                 0.964329  0.931726  0.914622  0.944928   \nlog_loss                          0.166201  0.845828  0.941192  0.767420   \nnorm_macro_recall                 0.960728  0.924649  0.905875  0.938382   \nprecision_score_macro             0.965728  0.931841  0.914934  0.945757   \nprecision_score_micro             0.964385  0.931553  0.914302  0.944352   \nprecision_score_weighted          0.965659  0.934325  0.918138  0.947401   \nrecall_score_macro                0.964655  0.932184  0.915288  0.944544   \nrecall_score_micro                0.964385  0.931553  0.914302  0.944352   \nrecall_score_weighted             0.964385  0.931553  0.914302  0.944352   \nweighted_accuracy                 0.964053  0.930752  0.913190  0.944172   \n\n                                         8         9  \nAUC_macro                         0.998472  0.999447  \nAUC_micro                         0.998545  0.999499  \nAUC_weighted                      0.998451  0.999433  \nAUC_weighted_max                  0.998451  0.999433  \naccuracy                          0.959933  0.974958  \naverage_precision_score_macro     0.989949  0.996349  \naverage_precision_score_micro     0.990999  0.996487  \naverage_precision_score_weighted  0.989987  0.996317  \nbalanced_accuracy                 0.960217  0.975028  \nf1_score_macro                    0.959448  0.974815  \nf1_score_micro                    0.959933  0.974958  \nf1_score_weighted                 0.960119  0.974980  \nlog_loss                          0.162534  0.151260  \nnorm_macro_recall                 0.955797  0.972253  \nprecision_score_macro             0.959507  0.975178  \nprecision_score_micro             0.959933  0.974958  \nprecision_score_weighted          0.961106  0.975581  \nrecall_score_macro                0.960217  0.975028  \nrecall_score_micro                0.959933  0.974958  \nrecall_score_weighted             0.959933  0.974958  \nweighted_accuracy                 0.959677  0.974870  "
          },
          "metadata": {}
        }
      ]
    },
    {
      "metadata": {},
      "cell_type": "markdown",
      "source": "## 7. Suppression de runs\n\nYou can cancel ongoing remote runs using the `cancel` and `cancel_iteration` functions."
    },
    {
      "metadata": {
        "trusted": true
      },
      "cell_type": "code",
      "source": "# Cancel the ongoing experiment and stop scheduling new iterations.\n# remote_run.cancel()\n\n# Cancel iteration 1 and move onto iteration 2.\n# remote_run.cancel_iteration(1)",
      "execution_count": 15,
      "outputs": []
    },
    {
      "metadata": {},
      "cell_type": "markdown",
      "source": "## 8. Récupération du meilleur modèle \nBelow we select the best pipeline from our iterations. The `get_output` method returns the best run and the fitted model. The Model includes the pipeline and any pre-processing.  Overloads on `get_output` allow you to retrieve the best run and fitted model for *any* logged metric or for a particular *iteration*."
    },
    {
      "metadata": {
        "trusted": true
      },
      "cell_type": "code",
      "source": "best_run, fitted_model = remote_run.get_output()\nprint(best_run)\nprint(fitted_model)",
      "execution_count": 16,
      "outputs": [
        {
          "output_type": "stream",
          "text": "Run(Experiment: automl-remote-batchai,\nId: AutoML_e7ba8efd-2f6d-42ca-9116-d5e4119dfcc4_9,\nType: azureml.scriptrun,\nStatus: Completed)\nPipeline(memory=None,\n     steps=[('prefittedsoftvotingclassifier', PreFittedSoftVotingClassifier(classification_labels=None,\n               estimators=[('KNN', Pipeline(memory=None,\n     steps=[('StandardScalerWrapper', <automl.client.core.common.model_wrappers.StandardScalerWrapper object at 0x7ffb2b99a710>), ('KNeighborsCl... warm_start=False))]))],\n               flatten_transform=None, weights=[0.3, 0.1, 0.3, 0.2, 0.1]))])\n",
          "name": "stdout"
        }
      ]
    },
    {
      "metadata": {},
      "cell_type": "markdown",
      "source": "### Choix autre métrique\nShow the run and the model which has the smallest `log_loss` value:"
    },
    {
      "metadata": {
        "trusted": true
      },
      "cell_type": "code",
      "source": "lookup_metric = \"log_loss\"\nbest_run, fitted_model = remote_run.get_output(metric = lookup_metric)\nprint(best_run)\nprint(fitted_model)",
      "execution_count": 17,
      "outputs": [
        {
          "output_type": "stream",
          "text": "Run(Experiment: automl-remote-batchai,\nId: AutoML_e7ba8efd-2f6d-42ca-9116-d5e4119dfcc4_9,\nType: azureml.scriptrun,\nStatus: Completed)\nPipeline(memory=None,\n     steps=[('prefittedsoftvotingclassifier', PreFittedSoftVotingClassifier(classification_labels=None,\n               estimators=[('KNN', Pipeline(memory=None,\n     steps=[('StandardScalerWrapper', <automl.client.core.common.model_wrappers.StandardScalerWrapper object at 0x7ffb2b390b00>), ('KNeighborsCl... warm_start=False))]))],\n               flatten_transform=None, weights=[0.3, 0.1, 0.3, 0.2, 0.1]))])\n",
          "name": "stdout"
        }
      ]
    },
    {
      "metadata": {},
      "cell_type": "markdown",
      "source": "#### Choix itération\nShow the run and the model from the third iteration:"
    },
    {
      "metadata": {
        "trusted": true
      },
      "cell_type": "code",
      "source": "iteration = 3\nthird_run, third_model = remote_run.get_output(iteration=iteration)\nprint(third_run)\nprint(third_model)",
      "execution_count": 18,
      "outputs": [
        {
          "output_type": "stream",
          "text": "Run(Experiment: automl-remote-batchai,\nId: AutoML_e7ba8efd-2f6d-42ca-9116-d5e4119dfcc4_3,\nType: azureml.scriptrun,\nStatus: Completed)\nPipeline(memory=None,\n     steps=[('RobustScaler', RobustScaler(copy=True, quantile_range=[10, 90], with_centering=True,\n       with_scaling=False)), ('LightGBMClassifier', <automl.client.core.common.model_wrappers.LightGBMClassifier object at 0x7ffb2b3e1cc0>)])\n",
          "name": "stdout"
        }
      ]
    },
    {
      "metadata": {},
      "cell_type": "markdown",
      "source": "## 9. Test du modèle <a class=\"anchor\" id=\"Testing-the-Fitted-Model-Remote-DSVM\"></a>\n\n#### Chargement des données"
    },
    {
      "metadata": {
        "trusted": true
      },
      "cell_type": "code",
      "source": "digits = datasets.load_digits()\nX_test = digits.data[:10, :]\ny_test = digits.target[:10]\nimages = digits.images[:10]",
      "execution_count": 19,
      "outputs": []
    },
    {
      "metadata": {},
      "cell_type": "markdown",
      "source": "#### Test"
    },
    {
      "metadata": {
        "trusted": true
      },
      "cell_type": "code",
      "source": "# Randomly select digits and test.\nfor index in np.random.choice(len(y_test), 2, replace = False):\n    print(index)\n    predicted = fitted_model.predict(X_test[index:index + 1])[0]\n    label = y_test[index]\n    title = \"Label value = %d  Predicted value = %d \" % (label, predicted)\n    fig = plt.figure(1, figsize=(3,3))\n    ax1 = fig.add_axes((0,0,.8,.8))\n    ax1.set_title(title)\n    plt.imshow(images[index], cmap = plt.cm.gray_r, interpolation = 'nearest')\n    plt.show()",
      "execution_count": 21,
      "outputs": [
        {
          "output_type": "stream",
          "text": "9\n",
          "name": "stdout"
        },
        {
          "output_type": "display_data",
          "data": {
            "image/png": "[encoded data removed]",
            "text/plain": "<Figure size 216x216 with 1 Axes>"
          },
          "metadata": {
            "needs_background": "light"
          }
        },
        {
          "output_type": "stream",
          "text": "5\n",
          "name": "stdout"
        },
        {
          "output_type": "display_data",
          "data": {
            "image/png": "[encoded data removed]",
            "text/plain": "<Figure size 216x216 with 1 Axes>"
          },
          "metadata": {
            "needs_background": "light"
          }
        }
      ]
    },
    {
      "metadata": {
        "trusted": true
      },
      "cell_type": "code",
      "source": "",
      "execution_count": null,
      "outputs": []
    }
  ],
  "metadata": {
    "authors": [
      {
        "name": "savitam"
      }
    ],
    "kernelspec": {
      "name": "python36",
      "display_name": "Python 3.6",
      "language": "python"
    },
    "language_info": {
      "mimetype": "text/x-python",
      "nbconvert_exporter": "python",
      "name": "python",
      "pygments_lexer": "ipython3",
      "version": "3.6.6",
      "file_extension": ".py",
      "codemirror_mode": {
        "version": 3,
        "name": "ipython"
      }
    }
  },
  "nbformat": 4,
  "nbformat_minor": 2
}