{
 "cells": [
  {
   "cell_type": "markdown",
   "metadata": {},
   "source": [
    "# 4 AutoML : Regression\n",
    "\n",
    "\n",
    "In this example we use the scikit-learn's [diabetes dataset](http://scikit-learn.org/stable/datasets/index.html#diabetes-dataset) to showcase how you can use AutoML for a simple regression problem.\n",
    "\n",
    "Make sure you have executed the [00.configuration](00.configuration.ipynb) before running this notebook.\n",
    "\n",
    "In this notebook you will learn how to:\n",
    "1. Create an `Experiment` in an existing `Workspace`.\n",
    "2. Configure AutoML using `AutoMLConfig`.\n",
    "3. Train the model using local compute.\n",
    "4. Explore the results.\n",
    "5. Test the best fitted model.\n",
    "\n",
    "> https://docs.microsoft.com/en-us/azure/machine-learning/service/\n"
   ]
  },
  {
   "cell_type": "code",
   "execution_count": 1,
   "metadata": {},
   "outputs": [
    {
     "name": "stdout",
     "output_type": "stream",
     "text": [
      "Version Azure ML service : 1.0.17\n"
     ]
    }
   ],
   "source": [
    "import azureml.core\n",
    "print(\"Version Azure ML service :\", azureml.core.VERSION)"
   ]
  },
  {
   "cell_type": "markdown",
   "metadata": {},
   "source": [
    "## 1. Création expérimentation\n",
    "\n",
    "As part of the setup you have already created an Azure ML `Workspace` object. For AutoML you will need to create an `Experiment` object, which is a named object in a `Workspace` used to run experiments."
   ]
  },
  {
   "cell_type": "code",
   "execution_count": 2,
   "metadata": {},
   "outputs": [],
   "source": [
    "import logging\n",
    "import os\n",
    "import random\n",
    "\n",
    "from matplotlib import pyplot as plt\n",
    "from matplotlib.pyplot import imshow\n",
    "import numpy as np\n",
    "import pandas as pd\n",
    "from sklearn import datasets\n",
    "\n",
    "import azureml.core\n",
    "from azureml.core.experiment import Experiment\n",
    "from azureml.core.workspace import Workspace\n",
    "from azureml.train.automl import AutoMLConfig\n",
    "from azureml.train.automl.run import AutoMLRun"
   ]
  },
  {
   "cell_type": "code",
   "execution_count": 4,
   "metadata": {},
   "outputs": [
    {
     "name": "stdout",
     "output_type": "stream",
     "text": [
      "Found the config file in: C:\\Users\\seretkow\\notebooks\\Labs Azure ML service\\aml_config\\config.json\n"
     ]
    },
    {
     "data": {
      "text/html": [
       "<div>\n",
       "<style scoped>\n",
       "    .dataframe tbody tr th:only-of-type {\n",
       "        vertical-align: middle;\n",
       "    }\n",
       "\n",
       "    .dataframe tbody tr th {\n",
       "        vertical-align: top;\n",
       "    }\n",
       "\n",
       "    .dataframe thead th {\n",
       "        text-align: right;\n",
       "    }\n",
       "</style>\n",
       "<table border=\"1\" class=\"dataframe\">\n",
       "  <thead>\n",
       "    <tr style=\"text-align: right;\">\n",
       "      <th></th>\n",
       "      <th></th>\n",
       "    </tr>\n",
       "  </thead>\n",
       "  <tbody>\n",
       "    <tr>\n",
       "      <th>SDK version</th>\n",
       "      <td>1.0.17</td>\n",
       "    </tr>\n",
       "    <tr>\n",
       "      <th>Workspace Name</th>\n",
       "      <td>MLServiceWorkspace</td>\n",
       "    </tr>\n",
       "    <tr>\n",
       "      <th>Resource Group</th>\n",
       "      <td>mlserviceresourcegroup</td>\n",
       "    </tr>\n",
       "    <tr>\n",
       "      <th>Location</th>\n",
       "      <td>westeurope</td>\n",
       "    </tr>\n",
       "    <tr>\n",
       "      <th>Project Directory</th>\n",
       "      <td>./sample_projects/automl-local-regression</td>\n",
       "    </tr>\n",
       "    <tr>\n",
       "      <th>Experiment Name</th>\n",
       "      <td>automl-local-regression</td>\n",
       "    </tr>\n",
       "  </tbody>\n",
       "</table>\n",
       "</div>"
      ],
      "text/plain": [
       "                                                            \n",
       "SDK version        1.0.17                                   \n",
       "Workspace Name     MLServiceWorkspace                       \n",
       "Resource Group     mlserviceresourcegroup                   \n",
       "Location           westeurope                               \n",
       "Project Directory  ./sample_projects/automl-local-regression\n",
       "Experiment Name    automl-local-regression                  "
      ]
     },
     "execution_count": 4,
     "metadata": {},
     "output_type": "execute_result"
    }
   ],
   "source": [
    "ws = Workspace.from_config()\n",
    "\n",
    "# Choose a name for the experiment and specify the project folder.\n",
    "experiment_name = 'automl-local-regression'\n",
    "project_folder = './sample_projects/automl-local-regression'\n",
    "\n",
    "experiment = Experiment(ws, experiment_name)\n",
    "\n",
    "output = {}\n",
    "output['SDK version'] = azureml.core.VERSION\n",
    "output['Workspace Name'] = ws.name\n",
    "output['Resource Group'] = ws.resource_group\n",
    "output['Location'] = ws.location\n",
    "output['Project Directory'] = project_folder\n",
    "output['Experiment Name'] = experiment.name\n",
    "pd.set_option('display.max_colwidth', -1)\n",
    "pd.DataFrame(data = output, index = ['']).T"
   ]
  },
  {
   "cell_type": "markdown",
   "metadata": {},
   "source": [
    "### Diagnostics\n",
    "\n",
    "Opt-in diagnostics for better experience, quality, and security of future releases."
   ]
  },
  {
   "cell_type": "code",
   "execution_count": 5,
   "metadata": {},
   "outputs": [
    {
     "name": "stdout",
     "output_type": "stream",
     "text": [
      "Turning diagnostics collection on. \n"
     ]
    }
   ],
   "source": [
    "from azureml.telemetry import set_diagnostics_collection\n",
    "set_diagnostics_collection(send_diagnostics = True)"
   ]
  },
  {
   "cell_type": "markdown",
   "metadata": {},
   "source": [
    "## 2. Chargement des données\n",
    "\n",
    "This uses scikit-learn's [load_diabetes](http://scikit-learn.org/stable/modules/generated/sklearn.datasets.load_diabetes.html) method."
   ]
  },
  {
   "cell_type": "code",
   "execution_count": 6,
   "metadata": {},
   "outputs": [],
   "source": [
    "# Load the diabetes dataset, a well-known built-in small dataset that comes with scikit-learn.\n",
    "from sklearn.datasets import load_diabetes\n",
    "from sklearn.linear_model import Ridge\n",
    "from sklearn.metrics import mean_squared_error\n",
    "from sklearn.model_selection import train_test_split\n",
    "\n",
    "X, y = load_diabetes(return_X_y = True)\n",
    "\n",
    "columns = ['age', 'gender', 'bmi', 'bp', 's1', 's2', 's3', 's4', 's5', 's6']\n",
    "\n",
    "X_train, X_test, y_train, y_test = train_test_split(X, y, test_size = 0.2, random_state = 0)"
   ]
  },
  {
   "cell_type": "markdown",
   "metadata": {},
   "source": [
    "## 3. Configuration AutoML\n",
    "\n",
    "Instantiate an `AutoMLConfig` object to specify the settings and data used to run the experiment.\n",
    "\n",
    "|Property|Description|\n",
    "|-|-|\n",
    "|**task**|classification or regression|\n",
    "|**primary_metric**|This is the metric that you want to optimize. Regression supports the following primary metrics: <br><i>spearman_correlation</i><br><i>normalized_root_mean_squared_error</i><br><i>r2_score</i><br><i>normalized_mean_absolute_error</i>|\n",
    "|**max_time_sec**|Time limit in seconds for each iteration.|\n",
    "|**iterations**|Number of iterations. In each iteration AutoML trains a specific pipeline with the data.|\n",
    "|**n_cross_validations**|Number of cross validation splits.|\n",
    "|**X**|(sparse) array-like, shape = [n_samples, n_features]|\n",
    "|**y**|(sparse) array-like, shape = [n_samples, ], [n_samples, n_classes]<br>Multi-class targets. An indicator matrix turns on multilabel classification. This should be an array of integers.|\n",
    "|**path**|Relative path to the project folder. AutoML stores configuration files for the experiment under this folder. You can specify a new empty folder.|"
   ]
  },
  {
   "cell_type": "code",
   "execution_count": 7,
   "metadata": {},
   "outputs": [],
   "source": [
    "automl_config = AutoMLConfig(task = 'regression',\n",
    "                             iteration_timeout_minutes = 10,\n",
    "                             iterations = 50,\n",
    "                             primary_metric = 'spearman_correlation',\n",
    "                             n_cross_validations = 3,\n",
    "                             debug_log = 'automl.log',\n",
    "                             verbosity = logging.INFO,\n",
    "                             X = X_train, \n",
    "                             y = y_train,\n",
    "                             path = project_folder)"
   ]
  },
  {
   "cell_type": "markdown",
   "metadata": {},
   "source": [
    "## 4. AutoML\n",
    "\n",
    "Call the `submit` method on the experiment object and pass the run configuration. Execution of local runs is synchronous. Depending on the data and the number of iterations this can run for a while.\n",
    "In this example, we specify `show_output = True` to print currently running iterations to the console.\n",
    "\n",
    "`spearman_correlation` is the metric used."
   ]
  },
  {
   "cell_type": "markdown",
   "metadata": {},
   "source": [
    "### 4.1 Liste des modèles : \n",
    "\n",
    "<img src=\"https://raw.githubusercontent.com/retkowsky/workshop_AzureMLService/master/Liste%20des%20mod%C3%A8les%20AUTOML.jpg\" width=\"800\" height=\"800\">\n",
    "\n",
    "https://docs.microsoft.com/en-us/azure/machine-learning/service/how-to-configure-auto-train"
   ]
  },
  {
   "cell_type": "code",
   "execution_count": 8,
   "metadata": {
    "scrolled": true
   },
   "outputs": [
    {
     "name": "stdout",
     "output_type": "stream",
     "text": [
      "Running on local machine\n",
      "Parent Run ID: AutoML_8612c6bc-262c-4440-b6b9-2c1c852b09ca\n",
      "********************************************************************************************************************\n",
      "ITERATION: The iteration being evaluated.\n",
      "PIPELINE: A summary description of the pipeline being evaluated.\n",
      "SAMPLING %: Percent of the training data to sample.\n",
      "DURATION: Time taken for the current iteration.\n",
      "METRIC: The result of computing score on the fitted pipeline.\n",
      "BEST: The best observed score thus far.\n",
      "********************************************************************************************************************\n",
      "\n",
      " ITERATION   PIPELINE                                       SAMPLING %  DURATION      METRIC      BEST\n",
      "         0   MaxAbsScaler RandomForest                      100.0000    0:00:07       0.6856    0.6856\n",
      "         1   StandardScalerWrapper DecisionTree             100.0000    0:00:09       0.5022    0.6856\n",
      "         2   StandardScalerWrapper DecisionTree             100.0000    0:00:06       0.4878    0.6856\n",
      "         3   StandardScalerWrapper LightGBM                 100.0000    0:00:07       0.6485    0.6856\n",
      "         4   StandardScalerWrapper LightGBM                 100.0000    0:00:08       0.6705    0.6856\n",
      "         5   StandardScalerWrapper DecisionTree             100.0000    0:00:07       0.5238    0.6856\n",
      "         6   MaxAbsScaler LightGBM                          100.0000    0:00:07       0.6729    0.6856\n",
      "         7   StandardScalerWrapper SGD                      100.0000    0:00:07       0.2191    0.6856\n",
      "         8   StandardScalerWrapper DecisionTree             100.0000    0:00:10       0.5089    0.6856\n",
      "         9   MinMaxScaler ExtremeRandomTrees                100.0000    0:00:08       0.6527    0.6856\n",
      "        10   StandardScalerWrapper GradientBoosting         100.0000    0:00:07       0.6773    0.6856\n",
      "        11   MinMaxScaler LightGBM                          100.0000    0:00:08       0.6020    0.6856\n",
      "        12   StandardScalerWrapper ExtremeRandomTrees       100.0000    0:00:07       0.5382    0.6856\n",
      "        13   MaxAbsScaler RandomForest                      100.0000    0:00:08       0.6446    0.6856\n",
      "        14   RobustScaler LightGBM                          100.0000    0:00:08       0.6079    0.6856\n",
      "        15   MinMaxScaler ExtremeRandomTrees                100.0000    0:00:07       0.6530    0.6856\n",
      "        16   StandardScalerWrapper SGD                      100.0000    0:00:06       0.7101    0.7101\n",
      "        17   MinMaxScaler SGD                               100.0000    0:00:09       0.7117    0.7117\n",
      "        18   MinMaxScaler LightGBM                          100.0000    0:00:07       0.6585    0.7117\n",
      "        19   MinMaxScaler LightGBM                          100.0000    0:00:08       0.6908    0.7117\n",
      "        20   RobustScaler ExtremeRandomTrees                100.0000    0:00:08       0.6829    0.7117\n",
      "        21   RobustScaler RandomForest                      100.0000    0:00:08       0.4946    0.7117\n",
      "        22   MaxAbsScaler LightGBM                          100.0000    0:00:08       0.6374    0.7117\n",
      "        23   StandardScalerWrapper DecisionTree             100.0000    0:00:08       0.5143    0.7117\n",
      "        24   StandardScalerWrapper ExtremeRandomTrees       100.0000    0:00:11       0.7033    0.7117\n",
      "        25   MinMaxScaler LightGBM                          100.0000    0:00:10       0.5630    0.7117\n",
      "        26   RobustScaler LightGBM                          100.0000    0:00:09       0.6877    0.7117\n",
      "        27   StandardScalerWrapper LightGBM                 100.0000    0:00:08       0.6734    0.7117\n",
      "        28   StandardScalerWrapper RandomForest             100.0000    0:00:09       0.6885    0.7117\n",
      "        29   MinMaxScaler LightGBM                          100.0000    0:00:09       0.6536    0.7117\n",
      "        30   StandardScalerWrapper LightGBM                 100.0000    0:00:09       0.6856    0.7117\n",
      "        31   MaxAbsScaler DecisionTree                      100.0000    0:00:07       0.5484    0.7117\n",
      "        32   MinMaxScaler LightGBM                          100.0000    0:00:11       0.6815    0.7117\n",
      "        33   StandardScalerWrapper LightGBM                 100.0000    0:00:10       0.6518    0.7117\n",
      "        34   MinMaxScaler KNN                               100.0000    0:00:09       0.6735    0.7117\n",
      "        35   StandardScalerWrapper ExtremeRandomTrees       100.0000    0:00:11       0.6983    0.7117\n",
      "        36   StandardScalerWrapper LightGBM                 100.0000    0:00:11       0.7105    0.7117\n",
      "        37   MaxAbsScaler LightGBM                          100.0000    0:00:13       0.6704    0.7117\n",
      "        38   StandardScalerWrapper LightGBM                 100.0000    0:00:09       0.7101    0.7117\n",
      "        39   MaxAbsScaler RandomForest                      100.0000    0:00:11       0.6616    0.7117\n",
      "        40   SparseNormalizer ExtremeRandomTrees            100.0000    0:00:11       0.6977    0.7117\n",
      "        41   SparseNormalizer RandomForest                  100.0000    0:00:11       0.6818    0.7117\n",
      "        42   MinMaxScaler LightGBM                          100.0000    0:00:09       0.6851    0.7117\n",
      "        43   StandardScalerWrapper GradientBoosting         100.0000    0:00:09       0.7117    0.7117\n",
      "        44   RobustScaler ExtremeRandomTrees                100.0000    0:00:10       0.6888    0.7117\n",
      "        45   RobustScaler ElasticNet                        100.0000    0:00:08       0.7021    0.7117\n",
      "        46   StandardScalerWrapper LightGBM                 100.0000    0:00:09       0.6890    0.7117\n",
      "        47   MaxAbsScaler DecisionTree                      100.0000    0:00:07       0.6292    0.7117\n",
      "        48   StandardScalerWrapper LightGBM                 100.0000    0:00:08       0.7166    0.7166\n",
      "        49   Ensemble                                       100.0000    0:00:25       0.7376    0.7376\n"
     ]
    }
   ],
   "source": [
    "local_run = experiment.submit(automl_config, show_output = True)"
   ]
  },
  {
   "cell_type": "code",
   "execution_count": 9,
   "metadata": {},
   "outputs": [
    {
     "data": {
      "text/html": [
       "<table style=\"width:100%\"><tr><th>Experiment</th><th>Id</th><th>Type</th><th>Status</th><th>Details Page</th><th>Docs Page</th></tr><tr><td>automl-local-regression</td><td>AutoML_8612c6bc-262c-4440-b6b9-2c1c852b09ca</td><td>automl</td><td>Completed</td><td><a href=\"https://mlworkspace.azure.ai/portal/subscriptions/70b8f39e-8863-49f7-b6ba-34a80799550c/resourceGroups/mlserviceresourcegroup/providers/Microsoft.MachineLearningServices/workspaces/MLServiceWorkspace/experiments/automl-local-regression/runs/AutoML_8612c6bc-262c-4440-b6b9-2c1c852b09ca\" target=\"_blank\" rel=\"noopener\">Link to Azure Portal</a></td><td><a href=\"https://docs.microsoft.com/en-us/python/api/overview/azure/ml/intro?view=azure-ml-py\" target=\"_blank\" rel=\"noopener\">Link to Documentation</a></td></tr></table>"
      ],
      "text/plain": [
       "Run(Experiment: automl-local-regression,\n",
       "Id: AutoML_8612c6bc-262c-4440-b6b9-2c1c852b09ca,\n",
       "Type: automl,\n",
       "Status: Completed)"
      ]
     },
     "execution_count": 9,
     "metadata": {},
     "output_type": "execute_result"
    }
   ],
   "source": [
    "local_run"
   ]
  },
  {
   "cell_type": "markdown",
   "metadata": {},
   "source": [
    "## 5. Exploration des résultats"
   ]
  },
  {
   "cell_type": "markdown",
   "metadata": {},
   "source": [
    "### 5.1 Widget Notebook\n",
    "\n",
    "The widget will first report a \"loading\" status while running the first iteration. After completing the first iteration, an auto-updating graph and table will be shown. The widget will refresh once per minute, so you should see the graph update as child runs complete.\n",
    "\n",
    "**Note:** The widget displays a link at the bottom. Use this link to open a web interface to explore the individual run details."
   ]
  },
  {
   "cell_type": "code",
   "execution_count": 10,
   "metadata": {},
   "outputs": [
    {
     "data": {
      "application/vnd.jupyter.widget-view+json": {
       "model_id": "6a60c9b1b5a548ff901b3f06819204c4",
       "version_major": 2,
       "version_minor": 0
      },
      "text/plain": [
       "_AutoMLWidget(widget_settings={'childWidgetDisplay': 'popup', 'send_telemetry': True, 'log_level': 'INFO', 'sd…"
      ]
     },
     "metadata": {},
     "output_type": "display_data"
    }
   ],
   "source": [
    "from azureml.widgets import RunDetails\n",
    "RunDetails(local_run).show() "
   ]
  },
  {
   "cell_type": "markdown",
   "metadata": {},
   "source": [
    "\n",
    "### 5.2 Retrieve All\n",
    "You can also use SDK methods to fetch all the child runs and see individual metrics that we log."
   ]
  },
  {
   "cell_type": "code",
   "execution_count": 11,
   "metadata": {},
   "outputs": [
    {
     "data": {
      "text/html": [
       "<div>\n",
       "<style scoped>\n",
       "    .dataframe tbody tr th:only-of-type {\n",
       "        vertical-align: middle;\n",
       "    }\n",
       "\n",
       "    .dataframe tbody tr th {\n",
       "        vertical-align: top;\n",
       "    }\n",
       "\n",
       "    .dataframe thead th {\n",
       "        text-align: right;\n",
       "    }\n",
       "</style>\n",
       "<table border=\"1\" class=\"dataframe\">\n",
       "  <thead>\n",
       "    <tr style=\"text-align: right;\">\n",
       "      <th></th>\n",
       "      <th>0</th>\n",
       "      <th>1</th>\n",
       "      <th>2</th>\n",
       "      <th>3</th>\n",
       "      <th>4</th>\n",
       "      <th>5</th>\n",
       "      <th>6</th>\n",
       "      <th>7</th>\n",
       "      <th>8</th>\n",
       "      <th>9</th>\n",
       "      <th>...</th>\n",
       "      <th>40</th>\n",
       "      <th>41</th>\n",
       "      <th>42</th>\n",
       "      <th>43</th>\n",
       "      <th>44</th>\n",
       "      <th>45</th>\n",
       "      <th>46</th>\n",
       "      <th>47</th>\n",
       "      <th>48</th>\n",
       "      <th>49</th>\n",
       "    </tr>\n",
       "  </thead>\n",
       "  <tbody>\n",
       "    <tr>\n",
       "      <th>explained_variance</th>\n",
       "      <td>0.50</td>\n",
       "      <td>0.08</td>\n",
       "      <td>0.07</td>\n",
       "      <td>0.41</td>\n",
       "      <td>0.48</td>\n",
       "      <td>0.08</td>\n",
       "      <td>0.48</td>\n",
       "      <td>0.00</td>\n",
       "      <td>0.10</td>\n",
       "      <td>0.47</td>\n",
       "      <td>...</td>\n",
       "      <td>0.50</td>\n",
       "      <td>0.47</td>\n",
       "      <td>0.49</td>\n",
       "      <td>0.53</td>\n",
       "      <td>0.40</td>\n",
       "      <td>0.50</td>\n",
       "      <td>0.48</td>\n",
       "      <td>0.36</td>\n",
       "      <td>0.51</td>\n",
       "      <td>0.41</td>\n",
       "    </tr>\n",
       "    <tr>\n",
       "      <th>mean_absolute_error</th>\n",
       "      <td>46.47</td>\n",
       "      <td>59.39</td>\n",
       "      <td>59.86</td>\n",
       "      <td>51.03</td>\n",
       "      <td>45.29</td>\n",
       "      <td>59.04</td>\n",
       "      <td>45.87</td>\n",
       "      <td>139.83</td>\n",
       "      <td>57.76</td>\n",
       "      <td>46.99</td>\n",
       "      <td>...</td>\n",
       "      <td>47.14</td>\n",
       "      <td>47.95</td>\n",
       "      <td>47.02</td>\n",
       "      <td>44.19</td>\n",
       "      <td>52.36</td>\n",
       "      <td>47.15</td>\n",
       "      <td>46.45</td>\n",
       "      <td>49.91</td>\n",
       "      <td>44.57</td>\n",
       "      <td>69.57</td>\n",
       "    </tr>\n",
       "    <tr>\n",
       "      <th>median_absolute_error</th>\n",
       "      <td>40.25</td>\n",
       "      <td>49.36</td>\n",
       "      <td>48.68</td>\n",
       "      <td>45.37</td>\n",
       "      <td>39.50</td>\n",
       "      <td>47.33</td>\n",
       "      <td>41.01</td>\n",
       "      <td>126.57</td>\n",
       "      <td>45.11</td>\n",
       "      <td>40.38</td>\n",
       "      <td>...</td>\n",
       "      <td>42.59</td>\n",
       "      <td>44.25</td>\n",
       "      <td>42.49</td>\n",
       "      <td>39.79</td>\n",
       "      <td>49.32</td>\n",
       "      <td>41.96</td>\n",
       "      <td>38.05</td>\n",
       "      <td>41.17</td>\n",
       "      <td>38.33</td>\n",
       "      <td>57.98</td>\n",
       "    </tr>\n",
       "    <tr>\n",
       "      <th>normalized_mean_absolute_error</th>\n",
       "      <td>0.14</td>\n",
       "      <td>0.19</td>\n",
       "      <td>0.19</td>\n",
       "      <td>0.16</td>\n",
       "      <td>0.14</td>\n",
       "      <td>0.18</td>\n",
       "      <td>0.14</td>\n",
       "      <td>0.44</td>\n",
       "      <td>0.18</td>\n",
       "      <td>0.15</td>\n",
       "      <td>...</td>\n",
       "      <td>0.15</td>\n",
       "      <td>0.15</td>\n",
       "      <td>0.15</td>\n",
       "      <td>0.14</td>\n",
       "      <td>0.16</td>\n",
       "      <td>0.15</td>\n",
       "      <td>0.14</td>\n",
       "      <td>0.16</td>\n",
       "      <td>0.14</td>\n",
       "      <td>0.22</td>\n",
       "    </tr>\n",
       "    <tr>\n",
       "      <th>normalized_median_absolute_error</th>\n",
       "      <td>0.13</td>\n",
       "      <td>0.15</td>\n",
       "      <td>0.15</td>\n",
       "      <td>0.14</td>\n",
       "      <td>0.12</td>\n",
       "      <td>0.15</td>\n",
       "      <td>0.13</td>\n",
       "      <td>0.39</td>\n",
       "      <td>0.14</td>\n",
       "      <td>0.13</td>\n",
       "      <td>...</td>\n",
       "      <td>0.13</td>\n",
       "      <td>0.14</td>\n",
       "      <td>0.13</td>\n",
       "      <td>0.12</td>\n",
       "      <td>0.15</td>\n",
       "      <td>0.13</td>\n",
       "      <td>0.12</td>\n",
       "      <td>0.13</td>\n",
       "      <td>0.12</td>\n",
       "      <td>0.18</td>\n",
       "    </tr>\n",
       "    <tr>\n",
       "      <th>normalized_root_mean_squared_error</th>\n",
       "      <td>0.17</td>\n",
       "      <td>0.23</td>\n",
       "      <td>0.24</td>\n",
       "      <td>0.19</td>\n",
       "      <td>0.18</td>\n",
       "      <td>0.24</td>\n",
       "      <td>0.18</td>\n",
       "      <td>0.50</td>\n",
       "      <td>0.23</td>\n",
       "      <td>0.18</td>\n",
       "      <td>...</td>\n",
       "      <td>0.17</td>\n",
       "      <td>0.18</td>\n",
       "      <td>0.18</td>\n",
       "      <td>0.17</td>\n",
       "      <td>0.19</td>\n",
       "      <td>0.17</td>\n",
       "      <td>0.18</td>\n",
       "      <td>0.20</td>\n",
       "      <td>0.17</td>\n",
       "      <td>0.28</td>\n",
       "    </tr>\n",
       "    <tr>\n",
       "      <th>normalized_root_mean_squared_log_error</th>\n",
       "      <td>0.17</td>\n",
       "      <td>0.22</td>\n",
       "      <td>0.22</td>\n",
       "      <td>0.18</td>\n",
       "      <td>0.17</td>\n",
       "      <td>0.22</td>\n",
       "      <td>0.17</td>\n",
       "      <td>0.93</td>\n",
       "      <td>0.22</td>\n",
       "      <td>0.17</td>\n",
       "      <td>...</td>\n",
       "      <td>0.17</td>\n",
       "      <td>0.17</td>\n",
       "      <td>0.17</td>\n",
       "      <td>0.16</td>\n",
       "      <td>0.18</td>\n",
       "      <td>0.17</td>\n",
       "      <td>0.17</td>\n",
       "      <td>0.18</td>\n",
       "      <td>0.16</td>\n",
       "      <td>0.24</td>\n",
       "    </tr>\n",
       "    <tr>\n",
       "      <th>r2_score</th>\n",
       "      <td>0.48</td>\n",
       "      <td>0.07</td>\n",
       "      <td>0.06</td>\n",
       "      <td>0.40</td>\n",
       "      <td>0.46</td>\n",
       "      <td>0.06</td>\n",
       "      <td>0.47</td>\n",
       "      <td>-3.21</td>\n",
       "      <td>0.09</td>\n",
       "      <td>0.46</td>\n",
       "      <td>...</td>\n",
       "      <td>0.48</td>\n",
       "      <td>0.46</td>\n",
       "      <td>0.48</td>\n",
       "      <td>0.52</td>\n",
       "      <td>0.39</td>\n",
       "      <td>0.49</td>\n",
       "      <td>0.45</td>\n",
       "      <td>0.35</td>\n",
       "      <td>0.50</td>\n",
       "      <td>-0.30</td>\n",
       "    </tr>\n",
       "    <tr>\n",
       "      <th>root_mean_squared_error</th>\n",
       "      <td>56.06</td>\n",
       "      <td>75.18</td>\n",
       "      <td>75.81</td>\n",
       "      <td>60.34</td>\n",
       "      <td>57.20</td>\n",
       "      <td>75.65</td>\n",
       "      <td>56.86</td>\n",
       "      <td>160.14</td>\n",
       "      <td>74.27</td>\n",
       "      <td>57.50</td>\n",
       "      <td>...</td>\n",
       "      <td>56.15</td>\n",
       "      <td>57.37</td>\n",
       "      <td>56.50</td>\n",
       "      <td>54.05</td>\n",
       "      <td>60.81</td>\n",
       "      <td>56.01</td>\n",
       "      <td>57.74</td>\n",
       "      <td>62.97</td>\n",
       "      <td>55.25</td>\n",
       "      <td>88.90</td>\n",
       "    </tr>\n",
       "    <tr>\n",
       "      <th>root_mean_squared_log_error</th>\n",
       "      <td>0.43</td>\n",
       "      <td>0.57</td>\n",
       "      <td>0.57</td>\n",
       "      <td>0.47</td>\n",
       "      <td>0.43</td>\n",
       "      <td>0.57</td>\n",
       "      <td>0.43</td>\n",
       "      <td>2.40</td>\n",
       "      <td>0.57</td>\n",
       "      <td>0.45</td>\n",
       "      <td>...</td>\n",
       "      <td>0.43</td>\n",
       "      <td>0.44</td>\n",
       "      <td>0.44</td>\n",
       "      <td>0.41</td>\n",
       "      <td>0.47</td>\n",
       "      <td>0.44</td>\n",
       "      <td>0.43</td>\n",
       "      <td>0.46</td>\n",
       "      <td>0.41</td>\n",
       "      <td>0.62</td>\n",
       "    </tr>\n",
       "    <tr>\n",
       "      <th>spearman_correlation</th>\n",
       "      <td>0.69</td>\n",
       "      <td>0.50</td>\n",
       "      <td>0.49</td>\n",
       "      <td>0.65</td>\n",
       "      <td>0.67</td>\n",
       "      <td>0.52</td>\n",
       "      <td>0.67</td>\n",
       "      <td>0.22</td>\n",
       "      <td>0.51</td>\n",
       "      <td>0.65</td>\n",
       "      <td>...</td>\n",
       "      <td>0.70</td>\n",
       "      <td>0.68</td>\n",
       "      <td>0.69</td>\n",
       "      <td>0.71</td>\n",
       "      <td>0.69</td>\n",
       "      <td>0.70</td>\n",
       "      <td>0.69</td>\n",
       "      <td>0.63</td>\n",
       "      <td>0.72</td>\n",
       "      <td>0.74</td>\n",
       "    </tr>\n",
       "  </tbody>\n",
       "</table>\n",
       "<p>11 rows × 50 columns</p>\n",
       "</div>"
      ],
      "text/plain": [
       "                                           0     1     2     3     4     5  \\\n",
       "explained_variance                     0.50  0.08  0.07  0.41  0.48  0.08    \n",
       "mean_absolute_error                    46.47 59.39 59.86 51.03 45.29 59.04   \n",
       "median_absolute_error                  40.25 49.36 48.68 45.37 39.50 47.33   \n",
       "normalized_mean_absolute_error         0.14  0.19  0.19  0.16  0.14  0.18    \n",
       "normalized_median_absolute_error       0.13  0.15  0.15  0.14  0.12  0.15    \n",
       "normalized_root_mean_squared_error     0.17  0.23  0.24  0.19  0.18  0.24    \n",
       "normalized_root_mean_squared_log_error 0.17  0.22  0.22  0.18  0.17  0.22    \n",
       "r2_score                               0.48  0.07  0.06  0.40  0.46  0.06    \n",
       "root_mean_squared_error                56.06 75.18 75.81 60.34 57.20 75.65   \n",
       "root_mean_squared_log_error            0.43  0.57  0.57  0.47  0.43  0.57    \n",
       "spearman_correlation                   0.69  0.50  0.49  0.65  0.67  0.52    \n",
       "\n",
       "                                           6      7     8     9  ...     40  \\\n",
       "explained_variance                     0.48  0.00   0.10  0.47   ...  0.50    \n",
       "mean_absolute_error                    45.87 139.83 57.76 46.99  ...  47.14   \n",
       "median_absolute_error                  41.01 126.57 45.11 40.38  ...  42.59   \n",
       "normalized_mean_absolute_error         0.14  0.44   0.18  0.15   ...  0.15    \n",
       "normalized_median_absolute_error       0.13  0.39   0.14  0.13   ...  0.13    \n",
       "normalized_root_mean_squared_error     0.18  0.50   0.23  0.18   ...  0.17    \n",
       "normalized_root_mean_squared_log_error 0.17  0.93   0.22  0.17   ...  0.17    \n",
       "r2_score                               0.47  -3.21  0.09  0.46   ...  0.48    \n",
       "root_mean_squared_error                56.86 160.14 74.27 57.50  ...  56.15   \n",
       "root_mean_squared_log_error            0.43  2.40   0.57  0.45   ...  0.43    \n",
       "spearman_correlation                   0.67  0.22   0.51  0.65   ...  0.70    \n",
       "\n",
       "                                          41    42    43    44    45    46  \\\n",
       "explained_variance                     0.47  0.49  0.53  0.40  0.50  0.48    \n",
       "mean_absolute_error                    47.95 47.02 44.19 52.36 47.15 46.45   \n",
       "median_absolute_error                  44.25 42.49 39.79 49.32 41.96 38.05   \n",
       "normalized_mean_absolute_error         0.15  0.15  0.14  0.16  0.15  0.14    \n",
       "normalized_median_absolute_error       0.14  0.13  0.12  0.15  0.13  0.12    \n",
       "normalized_root_mean_squared_error     0.18  0.18  0.17  0.19  0.17  0.18    \n",
       "normalized_root_mean_squared_log_error 0.17  0.17  0.16  0.18  0.17  0.17    \n",
       "r2_score                               0.46  0.48  0.52  0.39  0.49  0.45    \n",
       "root_mean_squared_error                57.37 56.50 54.05 60.81 56.01 57.74   \n",
       "root_mean_squared_log_error            0.44  0.44  0.41  0.47  0.44  0.43    \n",
       "spearman_correlation                   0.68  0.69  0.71  0.69  0.70  0.69    \n",
       "\n",
       "                                          47    48    49  \n",
       "explained_variance                     0.36  0.51  0.41   \n",
       "mean_absolute_error                    49.91 44.57 69.57  \n",
       "median_absolute_error                  41.17 38.33 57.98  \n",
       "normalized_mean_absolute_error         0.16  0.14  0.22   \n",
       "normalized_median_absolute_error       0.13  0.12  0.18   \n",
       "normalized_root_mean_squared_error     0.20  0.17  0.28   \n",
       "normalized_root_mean_squared_log_error 0.18  0.16  0.24   \n",
       "r2_score                               0.35  0.50  -0.30  \n",
       "root_mean_squared_error                62.97 55.25 88.90  \n",
       "root_mean_squared_log_error            0.46  0.41  0.62   \n",
       "spearman_correlation                   0.63  0.72  0.74   \n",
       "\n",
       "[11 rows x 50 columns]"
      ]
     },
     "execution_count": 11,
     "metadata": {},
     "output_type": "execute_result"
    }
   ],
   "source": [
    "children = list(local_run.get_children())\n",
    "metricslist = {}\n",
    "for run in children:\n",
    "    properties = run.get_properties()\n",
    "    metrics = {k: v for k, v in run.get_metrics().items() if isinstance(v, float)}\n",
    "    metricslist[int(properties['iteration'])] = metrics\n",
    "\n",
    "rundata = pd.DataFrame(metricslist).sort_index(1)\n",
    "rundata"
   ]
  },
  {
   "cell_type": "markdown",
   "metadata": {},
   "source": [
    "### 5.3 Obtention du meilleur modèle\n",
    "\n",
    "Below we select the best pipeline from our iterations. The `get_output` method returns the best run and the fitted model. The Model includes the pipeline and any pre-processing.  Overloads on `get_output` allow you to retrieve the best run and fitted model for *any* logged metric or for a particular *iteration*."
   ]
  },
  {
   "cell_type": "code",
   "execution_count": 12,
   "metadata": {},
   "outputs": [
    {
     "name": "stdout",
     "output_type": "stream",
     "text": [
      "Run(Experiment: automl-local-regression,\n",
      "Id: AutoML_8612c6bc-262c-4440-b6b9-2c1c852b09ca_49,\n",
      "Type: None,\n",
      "Status: Completed)\n",
      "Pipeline(memory=None,\n",
      "     steps=[('prefittedsoftvotingregressor', PreFittedSoftVotingRegressor(estimators=[('SGD', Pipeline(memory=None,\n",
      "     steps=[('StandardScalerWrapper', <automl.client.core.common.model_wrappers.StandardScalerWrapper object at 0x000001AFDA7A7CF8>), ('SGDRegressor', SGDRegressor(alpha=0.0001, average=Fal...6666666666667, 0.06666666666666667, 0.06666666666666667, 0.06666666666666667, 0.4666666666666667]))])\n"
     ]
    }
   ],
   "source": [
    "best_run, fitted_model = local_run.get_output()\n",
    "print(best_run)\n",
    "print(fitted_model)"
   ]
  },
  {
   "cell_type": "markdown",
   "metadata": {},
   "source": [
    "### Changement de métrique\n",
    "Show the run and the model that has the smallest `root_mean_squared_error` value (which turned out to be the same as the one with largest `spearman_correlation` value):"
   ]
  },
  {
   "cell_type": "code",
   "execution_count": 13,
   "metadata": {},
   "outputs": [
    {
     "name": "stdout",
     "output_type": "stream",
     "text": [
      "Run(Experiment: automl-local-regression,\n",
      "Id: AutoML_8612c6bc-262c-4440-b6b9-2c1c852b09ca_17,\n",
      "Type: None,\n",
      "Status: Completed)\n",
      "Pipeline(memory=None,\n",
      "     steps=[('MinMaxScaler', MinMaxScaler(copy=True, feature_range=(0, 1))), ('SGDRegressor', SGDRegressor(alpha=0.0001, average=False, epsilon=0.04089591836734695,\n",
      "       eta0=0.01, fit_intercept=True, l1_ratio=0.6326530612244897,\n",
      "       learning_rate='constant', loss='squared_loss', max_iter=None,\n",
      "       n_iter=50, penalty='l1', power_t=0.2222222222222222,\n",
      "       random_state=None, shuffle=True, tol=0.0001, verbose=0,\n",
      "       warm_start=False))])\n"
     ]
    }
   ],
   "source": [
    "lookup_metric = \"root_mean_squared_error\"\n",
    "best_run, fitted_model = local_run.get_output(metric = lookup_metric)\n",
    "print(best_run)\n",
    "print(fitted_model)"
   ]
  },
  {
   "cell_type": "markdown",
   "metadata": {},
   "source": [
    "### Choix d'une itération spécifique\n",
    "Show the run and the model from the third iteration:"
   ]
  },
  {
   "cell_type": "code",
   "execution_count": 14,
   "metadata": {},
   "outputs": [
    {
     "name": "stdout",
     "output_type": "stream",
     "text": [
      "Run(Experiment: automl-local-regression,\n",
      "Id: AutoML_8612c6bc-262c-4440-b6b9-2c1c852b09ca_3,\n",
      "Type: None,\n",
      "Status: Completed)\n",
      "Pipeline(memory=None,\n",
      "     steps=[('StandardScalerWrapper', <automl.client.core.common.model_wrappers.StandardScalerWrapper object at 0x000001AFDFAAC6D8>), ('LightGBMRegressor', <automl.client.core.common.model_wrappers.LightGBMRegressor object at 0x000001AFDFAD5C50>)])\n"
     ]
    }
   ],
   "source": [
    "iteration = 3\n",
    "third_run, third_model = local_run.get_output(iteration = iteration)\n",
    "print(third_run)\n",
    "print(third_model)"
   ]
  },
  {
   "cell_type": "markdown",
   "metadata": {},
   "source": [
    "## 6. Validation"
   ]
  },
  {
   "cell_type": "markdown",
   "metadata": {},
   "source": [
    "Predict on training and test set, and calculate residual values."
   ]
  },
  {
   "cell_type": "code",
   "execution_count": 15,
   "metadata": {},
   "outputs": [],
   "source": [
    "y_pred_train = fitted_model.predict(X_train)\n",
    "y_residual_train = y_train - y_pred_train\n",
    "\n",
    "y_pred_test = fitted_model.predict(X_test)\n",
    "y_residual_test = y_test - y_pred_test"
   ]
  },
  {
   "cell_type": "code",
   "execution_count": 16,
   "metadata": {},
   "outputs": [
    {
     "data": {
      "image/png": "[encoded data removed]",
      "text/plain": [
       "<Figure size 1152x432 with 2 Axes>"
      ]
     },
     "metadata": {
      "needs_background": "light"
     },
     "output_type": "display_data"
    }
   ],
   "source": [
    "%matplotlib inline\n",
    "import matplotlib.pyplot as plt\n",
    "import numpy as np\n",
    "from sklearn import datasets\n",
    "from sklearn.metrics import mean_squared_error, r2_score\n",
    "\n",
    "# Set up a multi-plot chart.\n",
    "f, (a0, a1) = plt.subplots(1, 2, gridspec_kw = {'width_ratios':[1, 1], 'wspace':0, 'hspace': 0})\n",
    "f.suptitle('Regression Residual Values', fontsize = 18)\n",
    "f.set_figheight(6)\n",
    "f.set_figwidth(16)\n",
    "\n",
    "# Plot residual values of training set.\n",
    "a0.axis([0, 360, -200, 200])\n",
    "a0.plot(y_residual_train, 'bo', alpha = 0.5)\n",
    "a0.plot([-10,360],[0,0], 'r-', lw = 3)\n",
    "a0.text(16,170,'RMSE = {0:.2f}'.format(np.sqrt(mean_squared_error(y_train, y_pred_train))), fontsize = 12)\n",
    "a0.text(16,140,'R2 score = {0:.2f}'.format(r2_score(y_train, y_pred_train)), fontsize = 12)\n",
    "a0.set_xlabel('Training samples', fontsize = 12)\n",
    "a0.set_ylabel('Residual Values', fontsize = 12)\n",
    "\n",
    "# Plot a histogram.\n",
    "a0.hist(y_residual_train, orientation = 'horizontal', color = 'b', bins = 10, histtype = 'step');\n",
    "a0.hist(y_residual_train, orientation = 'horizontal', color = 'b', alpha = 0.2, bins = 10);\n",
    "\n",
    "# Plot residual values of test set.\n",
    "a1.axis([0, 90, -200, 200])\n",
    "a1.plot(y_residual_test, 'bo', alpha = 0.5)\n",
    "a1.plot([-10,360],[0,0], 'r-', lw = 3)\n",
    "a1.text(5,170,'RMSE = {0:.2f}'.format(np.sqrt(mean_squared_error(y_test, y_pred_test))), fontsize = 12)\n",
    "a1.text(5,140,'R2 score = {0:.2f}'.format(r2_score(y_test, y_pred_test)), fontsize = 12)\n",
    "a1.set_xlabel('Test samples', fontsize = 12)\n",
    "a1.set_yticklabels([])\n",
    "\n",
    "# Plot a histogram.\n",
    "a1.hist(y_residual_test, orientation = 'horizontal', color = 'b', bins = 10, histtype = 'step')\n",
    "a1.hist(y_residual_test, orientation = 'horizontal', color = 'b', alpha = 0.2, bins = 10)\n",
    "\n",
    "plt.show()"
   ]
  },
  {
   "cell_type": "markdown",
   "metadata": {},
   "source": [
    "> https://docs.microsoft.com/en-us/azure/machine-learning/service/"
   ]
  }
 ],
 "metadata": {
  "authors": [
   {
    "name": "savitam"
   }
  ],
  "kernelspec": {
   "display_name": "Python [conda env:AzureML]",
   "language": "python",
   "name": "conda-env-AzureML-py"
  },
  "language_info": {
   "codemirror_mode": {
    "name": "ipython",
    "version": 3
   },
   "file_extension": ".py",
   "mimetype": "text/x-python",
   "name": "python",
   "nbconvert_exporter": "python",
   "pygments_lexer": "ipython3",
   "version": "3.6.7"
  }
 },
 "nbformat": 4,
 "nbformat_minor": 2
}
